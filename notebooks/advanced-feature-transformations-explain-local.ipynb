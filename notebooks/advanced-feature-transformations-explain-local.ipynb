{
 "cells": [
  {
   "cell_type": "markdown",
   "metadata": {},
   "source": [
    "Copyright (c) Microsoft Corporation. All rights reserved.\n",
    "\n",
    "Licensed under the MIT License."
   ]
  },
  {
   "cell_type": "markdown",
   "metadata": {},
   "source": [
    "# Explain binary classification model predictions with raw feature transformations\n",
    "_**This notebook showcases how to use the interpret-community repo to help interpret and visualize predictions from a binary classification model.**_\n",
    "\n",
    "\n",
    "\n",
    "## Table of Contents\n",
    "\n",
    "1. [Introduction](#Introduction)\n",
    "1. [Setup](#Setup)\n",
    "1. [Project](#Project)\n",
    "1. [Run model explainer locally at training time](#Explain)\n",
    "    1. Apply feature transformations\n",
    "    1. Train a binary classification model\n",
    "    1. Explain the model on raw features\n",
    "        1. Generate global explanations\n",
    "        1. Generate local explanations\n",
    "1. [Visualize results](#Visualize)\n",
    "1. [Next steps](#Next)"
   ]
  },
  {
   "cell_type": "markdown",
   "metadata": {},
   "source": [
    "<a id='Introduction'></a>\n",
    "## 1. Introduction\n",
    "\n",
    "This notebook illustrates creating explanations for a binary classification model, Titanic passenger data classification -> binary classification model on Titanic passenger data.\n",
    "For the many-to-one transformation, we sum two features `age` and `fare`. For many-to-many transformations two features are computed: one that is product of `age` and `fare` and another that is square of this product. \n",
    "Our tabular data explainer is then used to get the interpretation object with the flag `allow_all_transformations` passed. The object is then used to get raw feature importances.\n",
    "\n",
    "\n",
    "This project will showcase raw feature transformations with three tabular data explainers: \n",
    "- TabularExplainer (SHAP) \n",
    "- MimicExplainer (global surrogate)\n",
    "- PFIExplainer.\n",
    "\n",
    "| ![Interpretability Toolkit Architecture](./img/interpretability-architecture.png) |\n",
    "|:--:|\n",
    "| *Interpretability Toolkit Architecture* |\n",
    "\n",
    "<a id='Project'></a>       \n",
    "## 2. Project\n",
    "\n",
    "The goal of the project is to classify Titanic passenger data with scikit-learn and run the local interpretation of the model:\n",
    "\n",
    "1. Transform raw features to engineered features\n",
    "2. Train a Logistic Regression model using scikit-learn\n",
    "3. Run 'explain_model' globally and locally with full dataset in local mode.\n",
    "4. Visualize the global and local explanations with the visualization dashboard.\n",
    "\n",
    "<a id='Setup'></a>\n",
    "## 3. Setup\n",
    "\n",
    "If you are using Jupyter notebooks, the extensions should be installed automatically with the package.\n",
    "If you are using Jupyter Labs run the following command:\n",
    "```\n",
    "(myenv) $ jupyter labextension install @jupyter-widgets/jupyterlab-manager\n",
    "```\n"
   ]
  },
  {
   "cell_type": "markdown",
   "metadata": {},
   "source": [
    "<a id='Explain'></a>\n",
    "## 4. Run model explainer locally at training time"
   ]
  },
  {
   "cell_type": "code",
   "execution_count": 1,
   "metadata": {},
   "outputs": [
    {
     "name": "stdout",
     "output_type": "stream",
     "text": [
      "Could not import lightgbm, required if using LGBMExplainableModel\n",
      "Could not import lightgbm, required if using LGBMExplainableModel\n",
      "Could not import lightgbm, required if using LGBMExplainableModel\n",
      "Could not import lightgbm, required if using LGBMExplainableModel\n",
      "Could not import lightgbm, required if using LGBMExplainableModel\n"
     ]
    }
   ],
   "source": [
    "from sklearn.pipeline import Pipeline\n",
    "from sklearn.impute import SimpleImputer\n",
    "from sklearn.preprocessing import StandardScaler, OneHotEncoder\n",
    "from sklearn.linear_model import LogisticRegression\n",
    "import pandas as pd\n",
    "import numpy as np\n",
    "\n",
    "# Explainers:\n",
    "# 1. SHAP Tabular Explainer\n",
    "from interpret.ext.blackbox import TabularExplainer\n",
    "\n",
    "# OR\n",
    "\n",
    "# 2. Mimic Explainer\n",
    "from interpret.ext.blackbox import MimicExplainer\n",
    "# You can use one of the following four interpretable models as a global surrogate to the black box model\n",
    "from interpret.ext.glassbox import LGBMExplainableModel\n",
    "from interpret.ext.glassbox import LinearExplainableModel\n",
    "from interpret.ext.glassbox import SGDExplainableModel\n",
    "from interpret.ext.glassbox import DecisionTreeExplainableModel\n",
    "\n",
    "# OR\n",
    "\n",
    "# 3. PFI Explainer\n",
    "from interpret.ext.blackbox import PFIExplainer "
   ]
  },
  {
   "cell_type": "markdown",
   "metadata": {},
   "source": [
    "### Load the Titanic passenger data"
   ]
  },
  {
   "cell_type": "code",
   "execution_count": 2,
   "metadata": {},
   "outputs": [],
   "source": [
    "titanic_url = ('https://raw.githubusercontent.com/amueller/'\n",
    "               'scipy-2017-sklearn/091d371/notebooks/datasets/titanic3.csv')\n",
    "data = pd.read_csv(titanic_url)\n",
    "# fill missing values\n",
    "data = data.fillna(method=\"ffill\")\n",
    "data = data.fillna(method=\"bfill\")"
   ]
  },
  {
   "cell_type": "markdown",
   "metadata": {},
   "source": [
    "Similar to example [here](https://scikit-learn.org/stable/auto_examples/compose/plot_column_transformer_mixed_types.html#sphx-glr-auto-examples-compose-plot-column-transformer-mixed-types-py), use a subset of columns"
   ]
  },
  {
   "cell_type": "code",
   "execution_count": 3,
   "metadata": {},
   "outputs": [],
   "source": [
    "from sklearn.model_selection import train_test_split\n",
    "\n",
    "numeric_features = ['age', 'fare']\n",
    "categorical_features = ['embarked', 'sex', 'pclass']\n",
    "\n",
    "y = data['survived'].values\n",
    "X = data[categorical_features + numeric_features]\n",
    "\n",
    "# Split data into train and test\n",
    "x_train, x_test, y_train, y_test = train_test_split(X, y, test_size=0.2, random_state=42)"
   ]
  },
  {
   "cell_type": "markdown",
   "metadata": {},
   "source": [
    "### Transform raw features"
   ]
  },
  {
   "cell_type": "markdown",
   "metadata": {},
   "source": [
    "We can explain raw features by either using a `sklearn.compose.ColumnTransformer` or a list of fitted transformer tuples. The cell below uses `sklearn.compose.ColumnTransformer`. If you want to run the example with the list of fitted transformer tuples, comment the cell below and uncomment the cell that follows after. "
   ]
  },
  {
   "cell_type": "code",
   "execution_count": 4,
   "metadata": {},
   "outputs": [],
   "source": [
    "# We add many to one and many to many transformations for illustration purposes.\n",
    "# The support for raw feature explanations with many to one and many to many transformations are only supported \n",
    "# When allow_all_transformations is set to True on explainer creation\n",
    "from sklearn.preprocessing import FunctionTransformer\n",
    "many_to_one_transformer = FunctionTransformer(lambda x: x.sum(axis=1).reshape(-1, 1), validate=True)\n",
    "many_to_many_transformer = FunctionTransformer(lambda x: np.hstack(\n",
    "    (np.prod(x, axis=1).reshape(-1, 1), (np.prod(x, axis=1)**2).reshape(-1, 1))\n",
    "), validate=True)"
   ]
  },
  {
   "cell_type": "code",
   "execution_count": 5,
   "metadata": {},
   "outputs": [],
   "source": [
    "from sklearn.compose import ColumnTransformer\n",
    "\n",
    "transformations = ColumnTransformer([\n",
    "    (\"age_fare_1\", Pipeline(steps=[\n",
    "        ('imputer', SimpleImputer(strategy='median')),\n",
    "        ('scaler', StandardScaler())\n",
    "    ]), [\"age\", \"fare\"]),\n",
    "    (\"age_fare_2\", many_to_one_transformer, [\"age\", \"fare\"]),\n",
    "    (\"age_fare_3\", many_to_many_transformer, [\"age\", \"fare\"]),\n",
    "    (\"embarked\", Pipeline(steps=[\n",
    "        (\"imputer\", SimpleImputer(strategy='constant', fill_value='missing')), \n",
    "        (\"encoder\", OneHotEncoder(sparse=False))]), [\"embarked\"]),\n",
    "    (\"sex_pclass\", OneHotEncoder(sparse=False), [\"sex\", \"pclass\"])    \n",
    "])\n"
   ]
  },
  {
   "cell_type": "code",
   "execution_count": 6,
   "metadata": {},
   "outputs": [
    {
     "data": {
      "text/plain": [
       "'\\n# Uncomment below if sklearn-pandas is not installed\\n#!pip install sklearn-pandas\\nfrom sklearn_pandas import DataFrameMapper\\n\\n# Impute, standardize the numeric features and one-hot encode the categorical features.    \\n\\ntransformations = [\\n    ([\"age\", \"fare\"], Pipeline(steps=[\\n        (\\'imputer\\', SimpleImputer(strategy=\\'median\\')),\\n        (\\'scaler\\', StandardScaler())\\n    ])),\\n    ([\"age\", \"fare\"], many_to_one_transformer),\\n    ([\"age\", \"fare\"], many_to_many_transformer),\\n    ([\"embarked\"], Pipeline(steps=[\\n        (\"imputer\", SimpleImputer(strategy=\\'constant\\', fill_value=\\'missing\\')), \\n        (\"encoder\", OneHotEncoder(sparse=False))])),\\n    ([\"sex\", \"pclass\"], OneHotEncoder(sparse=False))    \\n]\\n\\n\\n# Append classifier to preprocessing pipeline.\\n# Now we have a full prediction pipeline.\\nclf = Pipeline(steps=[(\\'preprocessor\\', DataFrameMapper(transformations)),\\n                      (\\'classifier\\', LogisticRegression(solver=\\'lbfgs\\'))])\\n'"
      ]
     },
     "execution_count": 6,
     "metadata": {},
     "output_type": "execute_result"
    }
   ],
   "source": [
    "'''\n",
    "# Uncomment below if sklearn-pandas is not installed\n",
    "#!pip install sklearn-pandas\n",
    "from sklearn_pandas import DataFrameMapper\n",
    "\n",
    "# Impute, standardize the numeric features and one-hot encode the categorical features.    \n",
    "\n",
    "transformations = [\n",
    "    ([\"age\", \"fare\"], Pipeline(steps=[\n",
    "        ('imputer', SimpleImputer(strategy='median')),\n",
    "        ('scaler', StandardScaler())\n",
    "    ])),\n",
    "    ([\"age\", \"fare\"], many_to_one_transformer),\n",
    "    ([\"age\", \"fare\"], many_to_many_transformer),\n",
    "    ([\"embarked\"], Pipeline(steps=[\n",
    "        (\"imputer\", SimpleImputer(strategy='constant', fill_value='missing')), \n",
    "        (\"encoder\", OneHotEncoder(sparse=False))])),\n",
    "    ([\"sex\", \"pclass\"], OneHotEncoder(sparse=False))    \n",
    "]\n",
    "\n",
    "\n",
    "# Append classifier to preprocessing pipeline.\n",
    "# Now we have a full prediction pipeline.\n",
    "clf = Pipeline(steps=[('preprocessor', DataFrameMapper(transformations)),\n",
    "                      ('classifier', LogisticRegression(solver='lbfgs'))])\n",
    "'''"
   ]
  },
  {
   "cell_type": "markdown",
   "metadata": {},
   "source": [
    "### Train a Logistic Regression model, which you want to explain"
   ]
  },
  {
   "cell_type": "code",
   "execution_count": 7,
   "metadata": {},
   "outputs": [],
   "source": [
    "# Append classifier to preprocessing pipeline.\n",
    "# Now we have a full prediction pipeline.\n",
    "clf = Pipeline(steps=[('preprocessor', transformations),\n",
    "                      ('classifier', LogisticRegression(solver='lbfgs'))])\n",
    "model = clf.fit(x_train, y_train)"
   ]
  },
  {
   "cell_type": "markdown",
   "metadata": {},
   "source": [
    "### Explain predictions on your local machine"
   ]
  },
  {
   "cell_type": "code",
   "execution_count": 8,
   "metadata": {},
   "outputs": [
    {
     "name": "stderr",
     "output_type": "stream",
     "text": [
      "C:\\Users\\bezeran\\AppData\\Local\\conda\\conda\\envs\\interp0104\\lib\\site-packages\\shap\\explainers\\linear.py:49: UserWarning: The default value for feature_dependence has been changed to \"independent\"!\n",
      "  warnings.warn('The default value for feature_dependence has been changed to \"independent\"!')\n"
     ]
    }
   ],
   "source": [
    "# 1. Using SHAP TabularExplainer\n",
    "# When the last parameter allow_all_transformations is passed, we handle many to one and many to many transformations to \n",
    "# generate approximations to raw feature importances. When this flag is passed, for transformations not recognized as one to \n",
    "# many, we distribute feature importances evenly to raw features generating them.\n",
    "# clf.steps[-1][1] returns the trained classification model\n",
    "explainer = TabularExplainer(clf.steps[-1][1], \n",
    "                             initialization_examples=x_train, \n",
    "                             features=x_train.columns, \n",
    "                             transformations=transformations, \n",
    "                             allow_all_transformations=True)\n",
    "\n",
    "\n",
    "\n",
    "\n",
    "# 2. Using MimicExplainer\n",
    "# augment_data is optional and if true, oversamples the initialization examples to improve surrogate model accuracy to fit original model.  Useful for high-dimensional data where the number of rows is less than the number of columns. \n",
    "# max_num_of_augmentations is optional and defines max number of times we can increase the input data size.\n",
    "# LGBMExplainableModel can be replaced with LinearExplainableModel, SGDExplainableModel, or DecisionTreeExplainableModel\n",
    "# explainer = MimicExplainer(clf.steps[-1][1], \n",
    "#                            x_train, \n",
    "#                            LinearExplainableModel, \n",
    "#                            augment_data=True, \n",
    "#                            max_num_of_augmentations=10, \n",
    "#                            features=x_train.columns, \n",
    "#                            transformations=transformations, \n",
    "#                            allow_all_transformations=True)\n",
    "\n",
    "\n",
    "\n",
    "\n",
    "\n",
    "# 3. Using PFIExplainer\n",
    "\n",
    "# Use the parameter \"metric\" to pass a metric name or function to evaluate the permutation. \n",
    "# Note that if a metric function is provided a higher value must be better.\n",
    "# Otherwise, take the negative of the function or set the parameter \"is_error_metric\" to True.\n",
    "# Default metrics: \n",
    "# F1 Score for binary classification, F1 Score with micro average for multiclass classification and\n",
    "# Mean absolute error for regression\n",
    "\n",
    "\n",
    "# explainer = PFIExplainer(clf.steps[-1][1], \n",
    "#                          features=x_train.columns, \n",
    "#                          transformations=transformations)"
   ]
  },
  {
   "cell_type": "markdown",
   "metadata": {},
   "source": [
    "### Generate global explanations\n",
    "Explain overall model predictions (global explanation)"
   ]
  },
  {
   "cell_type": "code",
   "execution_count": 9,
   "metadata": {},
   "outputs": [
    {
     "name": "stdout",
     "output_type": "stream",
     "text": [
      "Many to one/many maps found in input\n"
     ]
    }
   ],
   "source": [
    "# Passing in test dataset for evaluation examples - note it must be a representative sample of the original data\n",
    "# x_train can be passed as well, but with more examples explanations will take longer although they may be more accurate\n",
    "\n",
    "global_explanation = explainer.explain_global(x_test)\n",
    "\n",
    "# Note: if you used the PFIExplainer in the previous step, use the next line of code instead\n",
    "# global_explanation = explainer.explain_global(x_test, true_labels=y_test)"
   ]
  },
  {
   "cell_type": "code",
   "execution_count": 10,
   "metadata": {
    "scrolled": true
   },
   "outputs": [
    {
     "name": "stdout",
     "output_type": "stream",
     "text": [
      "ranked global importance values: [0.035063034441505735, 0.03506303444150117, 1.1070123609084882e-14, 5.7268948977925425e-15, 4.689791532013199e-15]\n",
      "ranked global importance names: ['fare', 'age', 'sex', 'pclass', 'embarked']\n",
      "global importance rank: [4, 3, 1, 2, 0]\n",
      "ranked per class feature names: [['fare', 'age', 'sex', 'pclass', 'embarked'], ['fare', 'age', 'sex', 'pclass', 'embarked']]\n",
      "ranked per class feature values: [[0.035063034441505735, 0.03506303444150117, 1.1070123609084882e-14, 5.7268948977925425e-15, 4.689791532013199e-15], [0.035063034441505735, 0.03506303444150117, 1.1070123609084882e-14, 5.7268948977925425e-15, 4.689791532013199e-15]]\n"
     ]
    }
   ],
   "source": [
    "# Sorted SHAP values\n",
    "print('ranked global importance values: {}'.format(global_explanation.get_ranked_global_values()))\n",
    "# Corresponding feature names\n",
    "print('ranked global importance names: {}'.format(global_explanation.get_ranked_global_names()))\n",
    "# Feature ranks (based on original order of features)\n",
    "print('global importance rank: {}'.format(global_explanation.global_importance_rank))\n",
    "# Per class feature names\n",
    "print('ranked per class feature names: {}'.format(global_explanation.get_ranked_per_class_names()))\n",
    "# Per class feature importance values\n",
    "print('ranked per class feature values: {}'.format(global_explanation.get_ranked_per_class_values()))"
   ]
  },
  {
   "cell_type": "code",
   "execution_count": 11,
   "metadata": {},
   "outputs": [
    {
     "name": "stdout",
     "output_type": "stream",
     "text": [
      "global importance rank: {'fare': 0.035063034441505735, 'age': 0.03506303444150117, 'sex': 1.1070123609084882e-14, 'pclass': 5.7268948977925425e-15, 'embarked': 4.689791532013199e-15}\n"
     ]
    }
   ],
   "source": [
    "# Print out a dictionary that holds the sorted feature importance names and values\n",
    "print('global importance rank: {}'.format(global_explanation.get_feature_importance_dict()))"
   ]
  },
  {
   "cell_type": "markdown",
   "metadata": {},
   "source": [
    "### Explain overall model predictions as a collection of local (instance-level) explanations"
   ]
  },
  {
   "cell_type": "code",
   "execution_count": 12,
   "metadata": {},
   "outputs": [
    {
     "name": "stdout",
     "output_type": "stream",
     "text": [
      "local importance values: [[[3.235448330387338e-15, 8.489208165875781e-15, 5.263054680747598e-15, 0.01939782415685322, 0.01939782415685609], [-8.218482842091124e-15, 8.489208165875781e-15, 5.263054680747598e-15, 0.01926980493318517, 0.0192698049331898], [3.235448330387338e-15, 8.489208165875781e-15, 5.263054680747598e-15, 0.01939209778221492, 0.019392097782218284], [3.235448330387338e-15, 8.489208165875781e-15, 5.263054680747598e-15, 0.019595191213519735, 0.019595191213527735], [-6.586440226563321e-15, 8.489208165875781e-15, 5.263054680747598e-15, 0.019488417125554717, 0.019488417125559623], [3.235448330387338e-15, 8.489208165875781e-15, -7.615375226091533e-15, 0.014665496557970652, 0.014665496557968612], [3.235448330387338e-15, 8.489208165875781e-15, 5.263054680747598e-15, 0.01947732150981132, 0.019477321509816098], [3.235448330387338e-15, 8.489208165875781e-15, -4.64983615116717e-15, 0.019050427979861496, 0.019050427979864306], [-6.586440226563321e-15, 8.489208165875781e-15, 5.263054680747598e-15, 0.019360491730863717, 0.019360491730866583], [3.235448330387338e-15, -1.5532956562967306e-14, -7.615375226091533e-15, 0.008969925732208736, 0.008969925732205182], [3.235448330387338e-15, 8.489208165875781e-15, 5.263054680747598e-15, 0.016088085231182273, 0.01608808523118002], [-8.218482842091124e-15, 8.489208165875781e-15, 5.263054680747598e-15, 0.01713549832253301, 0.01713549832253291], [-8.218482842091124e-15, -1.5532956562967306e-14, 5.263054680747598e-15, 0.01952752684576217, 0.01952752684576868], [3.235448330387338e-15, 8.489208165875781e-15, 5.263054680747598e-15, 0.019478322332287797, 0.01947832233229258], [3.235448330387338e-15, 8.489208165875781e-15, 5.263054680747598e-15, 0.019378051175520748, 0.01937805117552391], [-6.586440226563321e-15, -1.5532956562967306e-14, 5.263054680747598e-15, 0.019503250979276573, 0.019503250979281784], [-8.218482842091124e-15, 8.489208165875781e-15, 5.263054680747598e-15, 0.019567010588878504, 0.019567010588885207], [3.235448330387338e-15, -1.5532956562967306e-14, 5.263054680747598e-15, 0.01946883642533913, 0.019468836425343715], [-8.218482842091124e-15, -1.5532956562967306e-14, -7.615375226091533e-15, -0.17328295362412566, -0.17328295362414595], [3.235448330387338e-15, 8.489208165875781e-15, 5.263054680747598e-15, 0.018621430291875192, 0.01862143029187789], [3.235448330387338e-15, -1.5532956562967306e-14, 5.263054680747598e-15, 0.0194510252630507, 0.0194510252630558], [3.235448330387338e-15, 8.489208165875781e-15, -7.615375226091533e-15, 0.0195190159139369, 0.019519015913940493], [3.235448330387338e-15, 8.489208165875781e-15, 5.263054680747598e-15, 0.019519086590487938, 0.019519086590493534], [3.235448330387338e-15, 8.489208165875781e-15, -7.615375226091533e-15, 0.0166791127097042, 0.016679112709704225], [-8.218482842091124e-15, 8.489208165875781e-15, 5.263054680747598e-15, 0.01952580949778873, 0.019525809497794217], [-8.218482842091124e-15, -1.5532956562967306e-14, 5.263054680747598e-15, 0.019548125215896384, 0.019548125215903316], [3.235448330387338e-15, 8.489208165875781e-15, -4.64983615116717e-15, 0.018479268760076786, 0.018479268760076963], [3.235448330387338e-15, -1.5532956562967306e-14, -4.64983615116717e-15, 0.013296057659561008, 0.013296057659558456], [-6.586440226563321e-15, -1.5532956562967306e-14, 5.263054680747598e-15, 0.01949346584073949, 0.019493465840744496], [-8.218482842091124e-15, -1.5532956562967306e-14, -7.615375226091533e-15, -0.23072099608622906, -0.23072099608625157], [-8.218482842091124e-15, 8.489208165875781e-15, -4.64983615116717e-15, 0.019107238810676216, 0.019107238810679265], [3.235448330387338e-15, 8.489208165875781e-15, -4.64983615116717e-15, 0.019613061840725636, 0.019613061840734365], [-6.586440226563321e-15, -1.5532956562967306e-14, 5.263054680747598e-15, 0.017572871476851944, 0.017572871476852825], [3.235448330387338e-15, -1.5532956562967306e-14, -7.615375226091533e-15, -0.009042220645214889, -0.00904222064522248], [3.235448330387338e-15, 8.489208165875781e-15, -4.64983615116717e-15, 0.01420162721568364, 0.014201627215680294], [3.235448330387338e-15, 8.489208165875781e-15, 5.263054680747598e-15, 0.019368124542512744, 0.01936812454251668], [-6.586440226563321e-15, -1.5532956562967306e-14, -7.615375226091533e-15, -0.018824049588060138, -0.018824049588069987], [3.235448330387338e-15, 8.489208165875781e-15, -4.64983615116717e-15, 0.018854183534875397, 0.018854183534877195], [-8.218482842091124e-15, -1.5532956562967306e-14, -7.615375226091533e-15, -0.016845748672446294, -0.01684574867245553], [-8.218482842091124e-15, 8.489208165875781e-15, -7.615375226091533e-15, 0.016350412778778942, 0.016350412778778755], [3.235448330387338e-15, -1.5532956562967306e-14, -4.64983615116717e-15, 0.01901352230866508, 0.019013522308667687], [3.235448330387338e-15, 8.489208165875781e-15, 5.263054680747598e-15, 0.019532296324263558, 0.019532296324269532], [3.235448330387338e-15, -1.5532956562967306e-14, -4.64983615116717e-15, 0.018580027107178845, 0.018580027107179427], [3.235448330387338e-15, 8.489208165875781e-15, 5.263054680747598e-15, 0.019437553431161107, 0.019437553431165575], [3.235448330387338e-15, 8.489208165875781e-15, 5.263054680747598e-15, 0.01953800575546623, 0.019538005755472636], [3.235448330387338e-15, 8.489208165875781e-15, 5.263054680747598e-15, 0.019176914837031496, 0.019176914837031874], [3.235448330387338e-15, 8.489208165875781e-15, 5.263054680747598e-15, 0.01928295566842586, 0.019282955668428886], [3.235448330387338e-15, -1.5532956562967306e-14, 5.263054680747598e-15, 0.019540607436478858, 0.019540607436485037], [3.235448330387338e-15, -1.5532956562967306e-14, -4.64983615116717e-15, 0.019334791761416836, 0.019334791761420826], [3.235448330387338e-15, -1.5532956562967306e-14, 5.263054680747598e-15, 0.019512619728703717, 0.01951261972870913], [-8.218482842091124e-15, -1.5532956562967306e-14, -7.615375226091533e-15, -0.08579574408351344, -0.0857957440835307], [3.235448330387338e-15, 8.489208165875781e-15, 5.263054680747598e-15, 0.019117189836543275, 0.01911718983654358], [3.235448330387338e-15, 8.489208165875781e-15, -7.615375226091533e-15, 0.010894273443169112, 0.010894273443165068], [-8.218482842091124e-15, -1.5532956562967306e-14, -7.615375226091533e-15, -0.07856979523547712, -0.07856979523549142], [3.235448330387338e-15, 8.489208165875781e-15, 5.263054680747598e-15, 0.01952630466662366, 0.01952630466662945], [3.235448330387338e-15, 8.489208165875781e-15, -4.64983615116717e-15, 0.01947542636550662, 0.01947542636551223], [3.235448330387338e-15, 8.489208165875781e-15, -7.615375226091533e-15, -0.9624452110394821, -0.9624452110395231], [-8.218482842091124e-15, 8.489208165875781e-15, -7.615375226091533e-15, -1.1595369440881738, -1.1595369440882461], [3.235448330387338e-15, 8.489208165875781e-15, 5.263054680747598e-15, 0.019418894385233296, 0.019418894385237067], [3.235448330387338e-15, -1.5532956562967306e-14, 5.263054680747598e-15, 0.019111798224157994, 0.019111798224161796], [3.235448330387338e-15, 8.489208165875781e-15, -4.64983615116717e-15, 0.019370882847917093, 0.019370882847921746], [-8.218482842091124e-15, 8.489208165875781e-15, 5.263054680747598e-15, 0.018786300162317485, 0.018786300162320448], [-8.218482842091124e-15, -1.5532956562967306e-14, -7.615375226091533e-15, -0.06302914391001514, -0.06302914391003156], [3.235448330387338e-15, 8.489208165875781e-15, -4.64983615116717e-15, 0.01947542636550662, 0.01947542636551223], [3.235448330387338e-15, -1.5532956562967306e-14, -7.615375226091533e-15, -0.07092968567805534, -0.07092968567807509], [-8.218482842091124e-15, -1.5532956562967306e-14, -7.615375226091533e-15, -0.29692237353123524, -0.2969223735312665], [-8.218482842091124e-15, -1.5532956562967306e-14, -7.615375226091533e-15, -0.0530177822574778, -0.05301778225749027], [3.235448330387338e-15, 8.489208165875781e-15, -4.64983615116717e-15, 0.017740805173832478, 0.01774080517382776], [3.235448330387338e-15, 8.489208165875781e-15, 5.263054680747598e-15, 0.019483941471377476, 0.019483941471383135], [3.235448330387338e-15, 8.489208165875781e-15, 5.263054680747598e-15, 0.019559743642817498, 0.01955974364282412], [-8.218482842091124e-15, 8.489208165875781e-15, -7.615375226091533e-15, 0.01496279635497176, 0.014962796354970467], [3.235448330387338e-15, 8.489208165875781e-15, -4.64983615116717e-15, 0.019464858493058703, 0.01946485849306437], [3.235448330387338e-15, 8.489208165875781e-15, 5.263054680747598e-15, 0.019535373154683604, 0.019535373154689603], [-6.586440226563321e-15, 8.489208165875781e-15, 5.263054680747598e-15, 0.01943829431140492, 0.019438294311408914], [3.235448330387338e-15, 8.489208165875781e-15, -4.64983615116717e-15, 0.019602418227744063, 0.01960241822775169], [3.235448330387338e-15, 8.489208165875781e-15, 5.263054680747598e-15, 0.01948400201888808, 0.01948400201889304], [3.235448330387338e-15, 8.489208165875781e-15, 5.263054680747598e-15, 0.019478322332287797, 0.01947832233229258], [3.235448330387338e-15, -1.5532956562967306e-14, -4.64983615116717e-15, 0.018237612331091373, 0.018237612331093195], [3.235448330387338e-15, 8.489208165875781e-15, -4.64983615116717e-15, 0.017905180487693798, 0.017905180487695484], [-8.218482842091124e-15, -1.5532956562967306e-14, -4.64983615116717e-15, 0.01671294844414545, 0.016712948444145836], [3.235448330387338e-15, 8.489208165875781e-15, 5.263054680747598e-15, 0.019490219475055866, 0.019490219475060855], [3.235448330387338e-15, 8.489208165875781e-15, 5.263054680747598e-15, 0.01934585779552642, 0.019345857795530125], [3.235448330387338e-15, 8.489208165875781e-15, 5.263054680747598e-15, 0.016538497408294623, 0.016538497408294155], [3.235448330387338e-15, 8.489208165875781e-15, 5.263054680747598e-15, 0.008284213107845073, 0.008284213107841217], [3.235448330387338e-15, -1.5532956562967306e-14, 5.263054680747598e-15, 0.019220130696881665, 0.019220130696885364], [3.235448330387338e-15, 8.489208165875781e-15, -4.64983615116717e-15, 0.0196133857770297, 0.01961338577703343], [3.235448330387338e-15, 8.489208165875781e-15, 5.263054680747598e-15, 0.019548469299074236, 0.019548469299080617], [3.235448330387338e-15, -1.5532956562967306e-14, -4.64983615116717e-15, 0.011177802780454677, 0.011177802780451178], [-8.218482842091124e-15, -1.5532956562967306e-14, -7.615375226091533e-15, -0.01605030983347767, -0.016050309833486414], [-8.218482842091124e-15, -1.5532956562967306e-14, -7.615375226091533e-15, -0.08071654142275356, -0.08071654142277063], [3.235448330387338e-15, -1.5532956562967306e-14, -7.615375226091533e-15, -0.06518241464136772, -0.06518241464138727], [3.235448330387338e-15, 8.489208165875781e-15, -4.64983615116717e-15, 0.0006333232166590289, 0.0006333232166521012], [3.235448330387338e-15, -1.5532956562967306e-14, 5.263054680747598e-15, 0.01942783194716815, 0.01942783194717315], [3.235448330387338e-15, 8.489208165875781e-15, 5.263054680747598e-15, 0.01946153954939837, 0.01946153954940293], [3.235448330387338e-15, 8.489208165875781e-15, -7.615375226091533e-15, -0.06600730393455936, -0.06600730393457306], [-6.586440226563321e-15, 8.489208165875781e-15, 5.263054680747598e-15, 0.016514618680945902, 0.016514618680942263], [3.235448330387338e-15, 8.489208165875781e-15, -7.615375226091533e-15, 0.009859201238666022, 0.00985920123866137], [3.235448330387338e-15, -1.5532956562967306e-14, -7.615375226091533e-15, 0.015570295934228002, 0.01557029593422646], [-8.218482842091124e-15, 8.489208165875781e-15, -7.615375226091533e-15, -0.014352952747765104, -0.014352952747773534], [3.235448330387338e-15, -1.5532956562967306e-14, 5.263054680747598e-15, 0.018946578022652757, 0.018946578022654675], [-8.218482842091124e-15, 8.489208165875781e-15, -7.615375226091533e-15, -0.02639446697401126, -0.026394466974021324], [3.235448330387338e-15, 8.489208165875781e-15, 5.263054680747598e-15, 0.012134361824429354, 0.012134361824426712], [-6.586440226563321e-15, -1.5532956562967306e-14, 5.263054680747598e-15, 0.01938666208395829, 0.019386662083961476], [-6.586440226563321e-15, -1.5532956562967306e-14, 5.263054680747598e-15, 0.01945016139549172, 0.019450161395495918], [3.235448330387338e-15, 8.489208165875781e-15, 5.263054680747598e-15, 0.0195057085838141, 0.01950570858381901], [3.235448330387338e-15, 8.489208165875781e-15, 5.263054680747598e-15, 0.01946791475621867, 0.019467914756223254], [-6.586440226563321e-15, -1.5532956562967306e-14, 5.263054680747598e-15, 0.01932836763075258, 0.019328367630754954], [3.235448330387338e-15, 8.489208165875781e-15, 5.263054680747598e-15, 0.019350293042077155, 0.019350293042082172], [-6.586440226563321e-15, -1.5532956562967306e-14, 5.263054680747598e-15, 0.01943697242633121, 0.0194369724263352], [3.235448330387338e-15, -1.5532956562967306e-14, -7.615375226091533e-15, 0.016446736811131214, 0.016446736811130697], [-8.218482842091124e-15, 8.489208165875781e-15, 5.263054680747598e-15, 0.019293835844102627, 0.019293835844107245], [3.235448330387338e-15, 8.489208165875781e-15, -4.64983615116717e-15, 0.01814436545340517, 0.018144365453402072], [-8.218482842091124e-15, 8.489208165875781e-15, 5.263054680747598e-15, 0.01923878886633225, 0.019238788866332977], [-8.218482842091124e-15, -1.5532956562967306e-14, -4.64983615116717e-15, 0.019469132436966092, 0.019469132436971886], [3.235448330387338e-15, -1.5532956562967306e-14, -7.615375226091533e-15, -0.013834348802548625, -0.01383434880255734], [3.235448330387338e-15, 8.489208165875781e-15, 5.263054680747598e-15, 0.019517753452392365, 0.019517753452397806], [3.235448330387338e-15, 8.489208165875781e-15, 5.263054680747598e-15, 0.019536817455748524, 0.019536817455754314], [3.235448330387338e-15, 8.489208165875781e-15, -7.615375226091533e-15, 0.012184083038240057, 0.012184083038236823], [3.235448330387338e-15, 8.489208165875781e-15, 5.263054680747598e-15, 0.019430297674737702, 0.019430297674741668], [3.235448330387338e-15, -1.5532956562967306e-14, -4.64983615116717e-15, 0.01899463011972922, 0.018994630119731726], [3.235448330387338e-15, 8.489208165875781e-15, 5.263054680747598e-15, 0.019471736935379777, 0.019471736935384377], [3.235448330387338e-15, 8.489208165875781e-15, -7.615375226091533e-15, 0.013987320723593863, 0.013987320723591094], [-8.218482842091124e-15, 8.489208165875781e-15, -7.615375226091533e-15, 0.012380676744704168, 0.012380676744701934], [-6.586440226563321e-15, -1.5532956562967306e-14, 5.263054680747598e-15, 0.01913370577956163, 0.019133705779565486], [3.235448330387338e-15, 8.489208165875781e-15, 5.263054680747598e-15, 0.01950879265904065, 0.01950879265904604], [3.235448330387338e-15, 8.489208165875781e-15, 5.263054680747598e-15, 0.011547988603727266, 0.011547988603724421], [3.235448330387338e-15, 8.489208165875781e-15, -4.64983615116717e-15, 0.013546223874914894, 0.013546223874911344], [3.235448330387338e-15, -1.5532956562967306e-14, 5.263054680747598e-15, 0.01931081034966401, 0.01931081034966618], [-8.218482842091124e-15, -1.5532956562967306e-14, -7.615375226091533e-15, -0.03780178666105637, -0.03780178666106752], [3.235448330387338e-15, -1.5532956562967306e-14, 5.263054680747598e-15, 0.019532296324263558, 0.019532296324269532], [-6.586440226563321e-15, -1.5532956562967306e-14, 5.263054680747598e-15, 0.019563106116423524, 0.019563106116430314], [3.235448330387338e-15, -1.5532956562967306e-14, -4.64983615116717e-15, 0.019428420780153537, 0.01942842078015854], [3.235448330387338e-15, 8.489208165875781e-15, -7.615375226091533e-15, 0.013258096832573939, 0.013258096832570683], [-8.218482842091124e-15, 8.489208165875781e-15, -7.615375226091533e-15, -0.0586608448631147, -0.0586608448631276], [-8.218482842091124e-15, 8.489208165875781e-15, -7.615375226091533e-15, -0.03664465275629506, -0.03664465275630641], [3.235448330387338e-15, -1.5532956562967306e-14, -7.615375226091533e-15, -0.6570749332529767, -0.6570749332530115], [3.235448330387338e-15, 8.489208165875781e-15, 5.263054680747598e-15, 0.01954015469499548, 0.019540154695001512], [3.235448330387338e-15, 8.489208165875781e-15, 5.263054680747598e-15, 0.019533036864041262, 0.01953303686404695], [3.235448330387338e-15, 8.489208165875781e-15, 5.263054680747598e-15, 0.019535373154683604, 0.019535373154689603], [3.235448330387338e-15, -1.5532956562967306e-14, 5.263054680747598e-15, 0.01847668975460661, 0.01847668975460909], [-8.218482842091124e-15, 8.489208165875781e-15, 5.263054680747598e-15, 0.019378051175520748, 0.01937805117552391], [3.235448330387338e-15, 8.489208165875781e-15, -7.615375226091533e-15, 0.008263719580819945, 0.008263719580815725], [3.235448330387338e-15, -1.5532956562967306e-14, 5.263054680747598e-15, 0.019360084099291703, 0.019360084099296442], [-8.218482842091124e-15, -1.5532956562967306e-14, -7.615375226091533e-15, 0.013168678560383106, 0.013168678560380459], [3.235448330387338e-15, 8.489208165875781e-15, -4.64983615116717e-15, 0.019613385776826416, 0.019613385776830347], [3.235448330387338e-15, -1.5532956562967306e-14, -4.64983615116717e-15, 0.019086162042157514, 0.019086162042160525], [3.235448330387338e-15, 8.489208165875781e-15, 5.263054680747598e-15, 0.01915051236699308, 0.019150512366993427], [3.235448330387338e-15, 8.489208165875781e-15, 5.263054680747598e-15, 0.0195057085838141, 0.01950570858381901], [-6.586440226563321e-15, -1.5532956562967306e-14, 5.263054680747598e-15, 0.019562215493155434, 0.019562215493161807], [3.235448330387338e-15, 8.489208165875781e-15, 5.263054680747598e-15, 0.019371157822089327, 0.019371157822092307], [3.235448330387338e-15, -1.5532956562967306e-14, 5.263054680747598e-15, 0.019289239795733097, 0.019289239795737594], [3.235448330387338e-15, -1.5532956562967306e-14, 5.263054680747598e-15, 0.019449634440223622, 0.019449634440227976], [3.235448330387338e-15, 8.489208165875781e-15, -7.615375226091533e-15, 0.017697758738173322, 0.017697758738174727], [3.235448330387338e-15, 8.489208165875781e-15, 5.263054680747598e-15, 0.019490449103693408, 0.019490449103697922], [3.235448330387338e-15, 8.489208165875781e-15, -4.64983615116717e-15, 0.017905180490237396, 0.01790518049023588], [-8.218482842091124e-15, 8.489208165875781e-15, -7.615375226091533e-15, 0.014283606031795838, 0.01428360603179415], [3.235448330387338e-15, -1.5532956562967306e-14, -4.64983615116717e-15, 0.01948956625615596, 0.01948956625616221], [3.235448330387338e-15, 8.489208165875781e-15, 5.263054680747598e-15, 0.01699336259791321, 0.01699336259791335], [-6.586440226563321e-15, 8.489208165875781e-15, 5.263054680747598e-15, 0.019512619728703717, 0.01951261972870913], [3.235448330387338e-15, 8.489208165875781e-15, 5.263054680747598e-15, 0.019467301149790204, 0.019467301149794787], [3.235448330387338e-15, 8.489208165875781e-15, -7.615375226091533e-15, 0.019613385778859273, 0.019613385778861177], [3.235448330387338e-15, -1.5532956562967306e-14, 5.263054680747598e-15, 0.019508862012133796, 0.019508862012139035], [3.235448330387338e-15, 8.489208165875781e-15, 5.263054680747598e-15, 0.019613385774793563, 0.01961338577479952], [3.235448330387338e-15, 8.489208165875781e-15, 5.263054680747598e-15, 0.01951432635097316, 0.019514326350978727], [-8.218482842091124e-15, -1.5532956562967306e-14, -4.64983615116717e-15, 0.01960739316659363, 0.019607393166598267], [3.235448330387338e-15, -1.5532956562967306e-14, 5.263054680747598e-15, 0.019430297674737702, 0.019430297674741668], [3.235448330387338e-15, 8.489208165875781e-15, 5.263054680747598e-15, 0.019517378847441612, 0.019517378847447198], [-6.586440226563321e-15, -1.5532956562967306e-14, 5.263054680747598e-15, 0.019384462674536626, 0.019384462674539804], [3.235448330387338e-15, 8.489208165875781e-15, 5.263054680747598e-15, 0.019317582409776483, 0.019317582409778142], [3.235448330387338e-15, -1.5532956562967306e-14, -4.64983615116717e-15, 0.019086162042157514, 0.019086162042160525], [-8.218482842091124e-15, -1.5532956562967306e-14, -7.615375226091533e-15, 0.012278904069047263, 0.01227890406904347], [3.235448330387338e-15, -1.5532956562967306e-14, -7.615375226091533e-15, -0.1072198629035874, -0.10721986290362012], [3.235448330387338e-15, -1.5532956562967306e-14, -7.615375226091533e-15, -0.0623265941248433, -0.06232659412485671], [3.235448330387338e-15, -1.5532956562967306e-14, 5.263054680747598e-15, 0.019362221055279995, 0.019362221055283447], [3.235448330387338e-15, -1.5532956562967306e-14, -4.64983615116717e-15, 0.01947749314689277, 0.01947749314689767], [-8.218482842091124e-15, 8.489208165875781e-15, -7.615375226091533e-15, -0.060783439651459, -0.06078343965147213], [-8.218482842091124e-15, -1.5532956562967306e-14, -7.615375226091533e-15, -0.05555811178066687, -0.05555811178067955], [3.235448330387338e-15, 8.489208165875781e-15, 5.263054680747598e-15, 0.01955913825659629, 0.01955913825660185], [-8.218482842091124e-15, -1.5532956562967306e-14, 5.263054680747598e-15, 0.019416339070505256, 0.019416339070508517], [3.235448330387338e-15, 8.489208165875781e-15, 5.263054680747598e-15, 0.019207953874437897, 0.019207953874440215], [3.235448330387338e-15, -1.5532956562967306e-14, -4.64983615116717e-15, 0.018071268157036836, 0.018071268157038564], [-8.218482842091124e-15, 8.489208165875781e-15, -7.615375226091533e-15, 0.01883064376725112, 0.018830643767254487], [-8.218482842091124e-15, 8.489208165875781e-15, 5.263054680747598e-15, 0.019478322332287797, 0.01947832233229258], [-8.218482842091124e-15, -1.5532956562967306e-14, -7.615375226091533e-15, -0.04291121321681935, -0.04291121321683241], [3.235448330387338e-15, 8.489208165875781e-15, 5.263054680747598e-15, 0.019333318134698303, 0.01933331813470086], [3.235448330387338e-15, -1.5532956562967306e-14, -7.615375226091533e-15, 0.015103851355333901, 0.015103851355332923], [3.235448330387338e-15, 8.489208165875781e-15, 5.263054680747598e-15, 0.019459812921978827, 0.01945981292198322], [-8.218482842091124e-15, 8.489208165875781e-15, 5.263054680747598e-15, 0.01868201187458511, 0.01868201187458698], [-8.218482842091124e-15, -1.5532956562967306e-14, 5.263054680747598e-15, 0.01930330407556185, 0.01930330407556668], [3.235448330387338e-15, -1.5532956562967306e-14, 5.263054680747598e-15, 0.017232855902361843, 0.017232855902361555], [-8.218482842091124e-15, 8.489208165875781e-15, 5.263054680747598e-15, 0.019613360830024157, 0.019613360830034135], [3.235448330387338e-15, 8.489208165875781e-15, 5.263054680747598e-15, 0.019570214630215025, 0.01957021463022109], [3.235448330387338e-15, 8.489208165875781e-15, 5.263054680747598e-15, 0.01823455335769453, 0.018234553357696533], [3.235448330387338e-15, 8.489208165875781e-15, -4.64983615116717e-15, 0.019050427979861496, 0.019050427979864306], [-8.218482842091124e-15, 8.489208165875781e-15, 5.263054680747598e-15, 0.019525707649344734, 0.019525707649350223], [-8.218482842091124e-15, 8.489208165875781e-15, 5.263054680747598e-15, 0.019525707649344734, 0.019525707649350223], [3.235448330387338e-15, 8.489208165875781e-15, 5.263054680747598e-15, 0.019338220580508145, 0.01933822058051088], [3.235448330387338e-15, -1.5532956562967306e-14, 5.263054680747598e-15, 0.016088085231182273, 0.01608808523118002], [3.235448330387338e-15, -1.5532956562967306e-14, -4.64983615116717e-15, 0.012780563645807439, 0.012780563645805373], [3.235448330387338e-15, -1.5532956562967306e-14, -7.615375226091533e-15, -0.012420756530330299, -0.012420756530338863], [-8.218482842091124e-15, 8.489208165875781e-15, -4.64983615116717e-15, 0.015052057673686526, 0.015052057673685768], [3.235448330387338e-15, 8.489208165875781e-15, 5.263054680747598e-15, 0.01853410559141351, 0.01853410559141558], [3.235448330387338e-15, 8.489208165875781e-15, -7.615375226091533e-15, 0.01678881312151818, 0.01678881312151837], [3.235448330387338e-15, 8.489208165875781e-15, -4.64983615116717e-15, -0.015549524134496218, -0.015549524134504781], [3.235448330387338e-15, -1.5532956562967306e-14, 5.263054680747598e-15, 0.019115483455087207, 0.019115483455088716], [3.235448330387338e-15, 8.489208165875781e-15, -4.64983615116717e-15, 0.01961338577540342, 0.01961338577540877], [3.235448330387338e-15, -1.5532956562967306e-14, -4.64983615116717e-15, 0.01865798761387482, 0.018657987613874154], [-6.586440226563321e-15, 8.489208165875781e-15, 5.263054680747598e-15, 0.019601624448665155, 0.019601624448671442], [-8.218482842091124e-15, 8.489208165875781e-15, -7.615375226091533e-15, 0.009327663421853923, 0.009327663421848782], [3.235448330387338e-15, -1.5532956562967306e-14, 5.263054680747598e-15, 0.01959982391796223, 0.019599823917968197], [3.235448330387338e-15, 8.489208165875781e-15, 5.263054680747598e-15, 0.01915852079007006, 0.019158520790070768], [3.235448330387338e-15, -1.5532956562967306e-14, -4.64983615116717e-15, 0.018202450204399277, 0.018202450204401532], [3.235448330387338e-15, 8.489208165875781e-15, -4.64983615116717e-15, 0.01931377300119726, 0.01931377300120105], [3.235448330387338e-15, 8.489208165875781e-15, -7.615375226091533e-15, 0.013573708161846994, 0.013573708161837953], [3.235448330387338e-15, 8.489208165875781e-15, -4.64983615116717e-15, 0.019423585295478423, 0.019423585295483867], [3.235448330387338e-15, -1.5532956562967306e-14, -4.64983615116717e-15, 0.01837175026635556, 0.018371750266353473], [-8.218482842091124e-15, -1.5532956562967306e-14, -4.64983615116717e-15, 0.019559452100877138, 0.01955945210088137], [3.235448330387338e-15, 8.489208165875781e-15, -7.615375226091533e-15, -0.045076060755193596, -0.0450760607552077], [3.235448330387338e-15, 8.489208165875781e-15, 5.263054680747598e-15, 0.01960651141980169, 0.019606511419810246], [3.235448330387338e-15, 8.489208165875781e-15, 5.263054680747598e-15, 0.019470543221046542, 0.019470543221050813], [3.235448330387338e-15, -1.5532956562967306e-14, -7.615375226091533e-15, 0.008131619818266577, 0.00813161981826278], [3.235448330387338e-15, 8.489208165875781e-15, -7.615375226091533e-15, 0.0164853813110196, 0.01648538131101941], [3.235448330387338e-15, -1.5532956562967306e-14, -4.64983615116717e-15, 0.0194605221566388, 0.0194605221566443], [-8.218482842091124e-15, 8.489208165875781e-15, 5.263054680747598e-15, 0.01959872943894851, 0.019598729438956634], [-8.218482842091124e-15, 8.489208165875781e-15, 5.263054680747598e-15, 0.019444867997576738, 0.019444867997580505], [-8.218482842091124e-15, 8.489208165875781e-15, -4.64983615116717e-15, 0.019053522916372915, 0.019053522916376], [-6.586440226563321e-15, 8.489208165875781e-15, 5.263054680747598e-15, 0.01941417230509597, 0.019414172305099564], [3.235448330387338e-15, 8.489208165875781e-15, 5.263054680747598e-15, 0.01961191839795899, 0.019611918397966752], [3.235448330387338e-15, 8.489208165875781e-15, -7.615375226091533e-15, 0.016188558741551666, 0.01618855874155174], [3.235448330387338e-15, 8.489208165875781e-15, 5.263054680747598e-15, 0.01941786503946797, 0.019417865039472515], [3.235448330387338e-15, 8.489208165875781e-15, 5.263054680747598e-15, 0.014149528749159508, 0.014149528749157763], [-6.586440226563321e-15, -1.5532956562967306e-14, 5.263054680747598e-15, 0.0195603175026422, 0.01956031750264883], [3.235448330387338e-15, 8.489208165875781e-15, 5.263054680747598e-15, 0.01940442871735505, 0.019404428717358698], [3.235448330387338e-15, 8.489208165875781e-15, 5.263054680747598e-15, 0.019455847763835958, 0.019455847763840337], [3.235448330387338e-15, 8.489208165875781e-15, -4.64983615116717e-15, 0.016786935393855184, 0.016786935393854372], [3.235448330387338e-15, -1.5532956562967306e-14, -4.64983615116717e-15, 0.019401910539987223, 0.019401910539992462], [-8.218482842091124e-15, 8.489208165875781e-15, 5.263054680747598e-15, 0.019450537272365277, 0.019450537272369145], [3.235448330387338e-15, 8.489208165875781e-15, -4.64983615116717e-15, 0.017406033567949203, 0.017406033567949404], [-8.218482842091124e-15, 8.489208165875781e-15, 5.263054680747598e-15, 0.019461035928967838, 0.019461035928971908], [3.235448330387338e-15, 8.489208165875781e-15, -4.64983615116717e-15, 0.017414324089150637, 0.0174143240891477], [3.235448330387338e-15, 8.489208165875781e-15, 5.263054680747598e-15, 0.019458477180396117, 0.019458477180400342], [3.235448330387338e-15, -1.5532956562967306e-14, 5.263054680747598e-15, 0.019238190389209903, 0.019238190389210364], [-6.586440226563321e-15, 8.489208165875781e-15, 5.263054680747598e-15, 0.019512619728703717, 0.01951261972870913], [-8.218482842091124e-15, 8.489208165875781e-15, 5.263054680747598e-15, 0.019500296557494128, 0.01950029655749901], [3.235448330387338e-15, -1.5532956562967306e-14, 5.263054680747598e-15, 0.019257549102215627, 0.019257549102220356], [-6.586440226563321e-15, 8.489208165875781e-15, 5.263054680747598e-15, 0.018822779565174936, 0.018822779565172434], [3.235448330387338e-15, 8.489208165875781e-15, -7.615375226091533e-15, 0.011119629243790998, 0.011119629243788235], [3.235448330387338e-15, 8.489208165875781e-15, 5.263054680747598e-15, 0.019528216979227016, 0.019528216979232522], [3.235448330387338e-15, 8.489208165875781e-15, -4.64983615116717e-15, 0.019217382202337565, 0.01921738220234139], [3.235448330387338e-15, 8.489208165875781e-15, 5.263054680747598e-15, 0.019412018088254525, 0.019412018088258112], [3.235448330387338e-15, 8.489208165875781e-15, -7.615375226091533e-15, 0.01961338577967241, 0.019613385779673507], [-6.586440226563321e-15, 8.489208165875781e-15, 5.263054680747598e-15, 0.018578607175471894, 0.018578607175467485], [3.235448330387338e-15, -1.5532956562967306e-14, 5.263054680747598e-15, 0.019498220990806885, 0.019498220990812068], [-8.218482842091124e-15, -1.5532956562967306e-14, -7.615375226091533e-15, -0.01345747591523683, -0.01345747591524548], [3.235448330387338e-15, 8.489208165875781e-15, -4.64983615116717e-15, 0.019374536325383752, 0.019374536325388148], [3.235448330387338e-15, 8.489208165875781e-15, 5.263054680747598e-15, 0.0196133857770297, 0.01961338577703343], [-8.218482842091124e-15, 8.489208165875781e-15, -7.615375226091533e-15, 0.00920909698925627, 0.009209096989252633], [3.235448330387338e-15, -1.5532956562967306e-14, -4.64983615116717e-15, 0.019178512390085167, 0.019178512390088637], [-8.218482842091124e-15, 8.489208165875781e-15, -7.615375226091533e-15, 0.012252524958640177, 0.012252524958637122], [3.235448330387338e-15, -1.5532956562967306e-14, 5.263054680747598e-15, 0.019523926189530912, 0.01952392618953654], [-8.218482842091124e-15, 8.489208165875781e-15, -7.615375226091533e-15, -0.3680249370264519, -0.3680249370264824], [-8.218482842091124e-15, -1.5532956562967306e-14, -7.615375226091533e-15, 0.014720416766210666, 0.01472041676620947]], [[-3.235448330387338e-15, -8.489208165875781e-15, -5.263054680747598e-15, -0.01939782415685322, -0.01939782415685609], [8.218482842091124e-15, -8.489208165875781e-15, -5.263054680747598e-15, -0.01926980493318517, -0.0192698049331898], [-3.235448330387338e-15, -8.489208165875781e-15, -5.263054680747598e-15, -0.01939209778221492, -0.019392097782218284], [-3.235448330387338e-15, -8.489208165875781e-15, -5.263054680747598e-15, -0.019595191213519735, -0.019595191213527735], [6.586440226563321e-15, -8.489208165875781e-15, -5.263054680747598e-15, -0.019488417125554717, -0.019488417125559623], [-3.235448330387338e-15, -8.489208165875781e-15, 7.615375226091533e-15, -0.014665496557970652, -0.014665496557968612], [-3.235448330387338e-15, -8.489208165875781e-15, -5.263054680747598e-15, -0.01947732150981132, -0.019477321509816098], [-3.235448330387338e-15, -8.489208165875781e-15, 4.64983615116717e-15, -0.019050427979861496, -0.019050427979864306], [6.586440226563321e-15, -8.489208165875781e-15, -5.263054680747598e-15, -0.019360491730863717, -0.019360491730866583], [-3.235448330387338e-15, 1.5532956562967306e-14, 7.615375226091533e-15, -0.008969925732208736, -0.008969925732205182], [-3.235448330387338e-15, -8.489208165875781e-15, -5.263054680747598e-15, -0.016088085231182273, -0.01608808523118002], [8.218482842091124e-15, -8.489208165875781e-15, -5.263054680747598e-15, -0.01713549832253301, -0.01713549832253291], [8.218482842091124e-15, 1.5532956562967306e-14, -5.263054680747598e-15, -0.01952752684576217, -0.01952752684576868], [-3.235448330387338e-15, -8.489208165875781e-15, -5.263054680747598e-15, -0.019478322332287797, -0.01947832233229258], [-3.235448330387338e-15, -8.489208165875781e-15, -5.263054680747598e-15, -0.019378051175520748, -0.01937805117552391], [6.586440226563321e-15, 1.5532956562967306e-14, -5.263054680747598e-15, -0.019503250979276573, -0.019503250979281784], [8.218482842091124e-15, -8.489208165875781e-15, -5.263054680747598e-15, -0.019567010588878504, -0.019567010588885207], [-3.235448330387338e-15, 1.5532956562967306e-14, -5.263054680747598e-15, -0.01946883642533913, -0.019468836425343715], [8.218482842091124e-15, 1.5532956562967306e-14, 7.615375226091533e-15, 0.17328295362412566, 0.17328295362414595], [-3.235448330387338e-15, -8.489208165875781e-15, -5.263054680747598e-15, -0.018621430291875192, -0.01862143029187789], [-3.235448330387338e-15, 1.5532956562967306e-14, -5.263054680747598e-15, -0.0194510252630507, -0.0194510252630558], [-3.235448330387338e-15, -8.489208165875781e-15, 7.615375226091533e-15, -0.0195190159139369, -0.019519015913940493], [-3.235448330387338e-15, -8.489208165875781e-15, -5.263054680747598e-15, -0.019519086590487938, -0.019519086590493534], [-3.235448330387338e-15, -8.489208165875781e-15, 7.615375226091533e-15, -0.0166791127097042, -0.016679112709704225], [8.218482842091124e-15, -8.489208165875781e-15, -5.263054680747598e-15, -0.01952580949778873, -0.019525809497794217], [8.218482842091124e-15, 1.5532956562967306e-14, -5.263054680747598e-15, -0.019548125215896384, -0.019548125215903316], [-3.235448330387338e-15, -8.489208165875781e-15, 4.64983615116717e-15, -0.018479268760076786, -0.018479268760076963], [-3.235448330387338e-15, 1.5532956562967306e-14, 4.64983615116717e-15, -0.013296057659561008, -0.013296057659558456], [6.586440226563321e-15, 1.5532956562967306e-14, -5.263054680747598e-15, -0.01949346584073949, -0.019493465840744496], [8.218482842091124e-15, 1.5532956562967306e-14, 7.615375226091533e-15, 0.23072099608622906, 0.23072099608625157], [8.218482842091124e-15, -8.489208165875781e-15, 4.64983615116717e-15, -0.019107238810676216, -0.019107238810679265], [-3.235448330387338e-15, -8.489208165875781e-15, 4.64983615116717e-15, -0.019613061840725636, -0.019613061840734365], [6.586440226563321e-15, 1.5532956562967306e-14, -5.263054680747598e-15, -0.017572871476851944, -0.017572871476852825], [-3.235448330387338e-15, 1.5532956562967306e-14, 7.615375226091533e-15, 0.009042220645214889, 0.00904222064522248], [-3.235448330387338e-15, -8.489208165875781e-15, 4.64983615116717e-15, -0.01420162721568364, -0.014201627215680294], [-3.235448330387338e-15, -8.489208165875781e-15, -5.263054680747598e-15, -0.019368124542512744, -0.01936812454251668], [6.586440226563321e-15, 1.5532956562967306e-14, 7.615375226091533e-15, 0.018824049588060138, 0.018824049588069987], [-3.235448330387338e-15, -8.489208165875781e-15, 4.64983615116717e-15, -0.018854183534875397, -0.018854183534877195], [8.218482842091124e-15, 1.5532956562967306e-14, 7.615375226091533e-15, 0.016845748672446294, 0.01684574867245553], [8.218482842091124e-15, -8.489208165875781e-15, 7.615375226091533e-15, -0.016350412778778942, -0.016350412778778755], [-3.235448330387338e-15, 1.5532956562967306e-14, 4.64983615116717e-15, -0.01901352230866508, -0.019013522308667687], [-3.235448330387338e-15, -8.489208165875781e-15, -5.263054680747598e-15, -0.019532296324263558, -0.019532296324269532], [-3.235448330387338e-15, 1.5532956562967306e-14, 4.64983615116717e-15, -0.018580027107178845, -0.018580027107179427], [-3.235448330387338e-15, -8.489208165875781e-15, -5.263054680747598e-15, -0.019437553431161107, -0.019437553431165575], [-3.235448330387338e-15, -8.489208165875781e-15, -5.263054680747598e-15, -0.01953800575546623, -0.019538005755472636], [-3.235448330387338e-15, -8.489208165875781e-15, -5.263054680747598e-15, -0.019176914837031496, -0.019176914837031874], [-3.235448330387338e-15, -8.489208165875781e-15, -5.263054680747598e-15, -0.01928295566842586, -0.019282955668428886], [-3.235448330387338e-15, 1.5532956562967306e-14, -5.263054680747598e-15, -0.019540607436478858, -0.019540607436485037], [-3.235448330387338e-15, 1.5532956562967306e-14, 4.64983615116717e-15, -0.019334791761416836, -0.019334791761420826], [-3.235448330387338e-15, 1.5532956562967306e-14, -5.263054680747598e-15, -0.019512619728703717, -0.01951261972870913], [8.218482842091124e-15, 1.5532956562967306e-14, 7.615375226091533e-15, 0.08579574408351344, 0.0857957440835307], [-3.235448330387338e-15, -8.489208165875781e-15, -5.263054680747598e-15, -0.019117189836543275, -0.01911718983654358], [-3.235448330387338e-15, -8.489208165875781e-15, 7.615375226091533e-15, -0.010894273443169112, -0.010894273443165068], [8.218482842091124e-15, 1.5532956562967306e-14, 7.615375226091533e-15, 0.07856979523547712, 0.07856979523549142], [-3.235448330387338e-15, -8.489208165875781e-15, -5.263054680747598e-15, -0.01952630466662366, -0.01952630466662945], [-3.235448330387338e-15, -8.489208165875781e-15, 4.64983615116717e-15, -0.01947542636550662, -0.01947542636551223], [-3.235448330387338e-15, -8.489208165875781e-15, 7.615375226091533e-15, 0.9624452110394821, 0.9624452110395231], [8.218482842091124e-15, -8.489208165875781e-15, 7.615375226091533e-15, 1.1595369440881738, 1.1595369440882461], [-3.235448330387338e-15, -8.489208165875781e-15, -5.263054680747598e-15, -0.019418894385233296, -0.019418894385237067], [-3.235448330387338e-15, 1.5532956562967306e-14, -5.263054680747598e-15, -0.019111798224157994, -0.019111798224161796], [-3.235448330387338e-15, -8.489208165875781e-15, 4.64983615116717e-15, -0.019370882847917093, -0.019370882847921746], [8.218482842091124e-15, -8.489208165875781e-15, -5.263054680747598e-15, -0.018786300162317485, -0.018786300162320448], [8.218482842091124e-15, 1.5532956562967306e-14, 7.615375226091533e-15, 0.06302914391001514, 0.06302914391003156], [-3.235448330387338e-15, -8.489208165875781e-15, 4.64983615116717e-15, -0.01947542636550662, -0.01947542636551223], [-3.235448330387338e-15, 1.5532956562967306e-14, 7.615375226091533e-15, 0.07092968567805534, 0.07092968567807509], [8.218482842091124e-15, 1.5532956562967306e-14, 7.615375226091533e-15, 0.29692237353123524, 0.2969223735312665], [8.218482842091124e-15, 1.5532956562967306e-14, 7.615375226091533e-15, 0.0530177822574778, 0.05301778225749027], [-3.235448330387338e-15, -8.489208165875781e-15, 4.64983615116717e-15, -0.017740805173832478, -0.01774080517382776], [-3.235448330387338e-15, -8.489208165875781e-15, -5.263054680747598e-15, -0.019483941471377476, -0.019483941471383135], [-3.235448330387338e-15, -8.489208165875781e-15, -5.263054680747598e-15, -0.019559743642817498, -0.01955974364282412], [8.218482842091124e-15, -8.489208165875781e-15, 7.615375226091533e-15, -0.01496279635497176, -0.014962796354970467], [-3.235448330387338e-15, -8.489208165875781e-15, 4.64983615116717e-15, -0.019464858493058703, -0.01946485849306437], [-3.235448330387338e-15, -8.489208165875781e-15, -5.263054680747598e-15, -0.019535373154683604, -0.019535373154689603], [6.586440226563321e-15, -8.489208165875781e-15, -5.263054680747598e-15, -0.01943829431140492, -0.019438294311408914], [-3.235448330387338e-15, -8.489208165875781e-15, 4.64983615116717e-15, -0.019602418227744063, -0.01960241822775169], [-3.235448330387338e-15, -8.489208165875781e-15, -5.263054680747598e-15, -0.01948400201888808, -0.01948400201889304], [-3.235448330387338e-15, -8.489208165875781e-15, -5.263054680747598e-15, -0.019478322332287797, -0.01947832233229258], [-3.235448330387338e-15, 1.5532956562967306e-14, 4.64983615116717e-15, -0.018237612331091373, -0.018237612331093195], [-3.235448330387338e-15, -8.489208165875781e-15, 4.64983615116717e-15, -0.017905180487693798, -0.017905180487695484], [8.218482842091124e-15, 1.5532956562967306e-14, 4.64983615116717e-15, -0.01671294844414545, -0.016712948444145836], [-3.235448330387338e-15, -8.489208165875781e-15, -5.263054680747598e-15, -0.019490219475055866, -0.019490219475060855], [-3.235448330387338e-15, -8.489208165875781e-15, -5.263054680747598e-15, -0.01934585779552642, -0.019345857795530125], [-3.235448330387338e-15, -8.489208165875781e-15, -5.263054680747598e-15, -0.016538497408294623, -0.016538497408294155], [-3.235448330387338e-15, -8.489208165875781e-15, -5.263054680747598e-15, -0.008284213107845073, -0.008284213107841217], [-3.235448330387338e-15, 1.5532956562967306e-14, -5.263054680747598e-15, -0.019220130696881665, -0.019220130696885364], [-3.235448330387338e-15, -8.489208165875781e-15, 4.64983615116717e-15, -0.0196133857770297, -0.01961338577703343], [-3.235448330387338e-15, -8.489208165875781e-15, -5.263054680747598e-15, -0.019548469299074236, -0.019548469299080617], [-3.235448330387338e-15, 1.5532956562967306e-14, 4.64983615116717e-15, -0.011177802780454677, -0.011177802780451178], [8.218482842091124e-15, 1.5532956562967306e-14, 7.615375226091533e-15, 0.01605030983347767, 0.016050309833486414], [8.218482842091124e-15, 1.5532956562967306e-14, 7.615375226091533e-15, 0.08071654142275356, 0.08071654142277063], [-3.235448330387338e-15, 1.5532956562967306e-14, 7.615375226091533e-15, 0.06518241464136772, 0.06518241464138727], [-3.235448330387338e-15, -8.489208165875781e-15, 4.64983615116717e-15, -0.0006333232166590289, -0.0006333232166521012], [-3.235448330387338e-15, 1.5532956562967306e-14, -5.263054680747598e-15, -0.01942783194716815, -0.01942783194717315], [-3.235448330387338e-15, -8.489208165875781e-15, -5.263054680747598e-15, -0.01946153954939837, -0.01946153954940293], [-3.235448330387338e-15, -8.489208165875781e-15, 7.615375226091533e-15, 0.06600730393455936, 0.06600730393457306], [6.586440226563321e-15, -8.489208165875781e-15, -5.263054680747598e-15, -0.016514618680945902, -0.016514618680942263], [-3.235448330387338e-15, -8.489208165875781e-15, 7.615375226091533e-15, -0.009859201238666022, -0.00985920123866137], [-3.235448330387338e-15, 1.5532956562967306e-14, 7.615375226091533e-15, -0.015570295934228002, -0.01557029593422646], [8.218482842091124e-15, -8.489208165875781e-15, 7.615375226091533e-15, 0.014352952747765104, 0.014352952747773534], [-3.235448330387338e-15, 1.5532956562967306e-14, -5.263054680747598e-15, -0.018946578022652757, -0.018946578022654675], [8.218482842091124e-15, -8.489208165875781e-15, 7.615375226091533e-15, 0.02639446697401126, 0.026394466974021324], [-3.235448330387338e-15, -8.489208165875781e-15, -5.263054680747598e-15, -0.012134361824429354, -0.012134361824426712], [6.586440226563321e-15, 1.5532956562967306e-14, -5.263054680747598e-15, -0.01938666208395829, -0.019386662083961476], [6.586440226563321e-15, 1.5532956562967306e-14, -5.263054680747598e-15, -0.01945016139549172, -0.019450161395495918], [-3.235448330387338e-15, -8.489208165875781e-15, -5.263054680747598e-15, -0.0195057085838141, -0.01950570858381901], [-3.235448330387338e-15, -8.489208165875781e-15, -5.263054680747598e-15, -0.01946791475621867, -0.019467914756223254], [6.586440226563321e-15, 1.5532956562967306e-14, -5.263054680747598e-15, -0.01932836763075258, -0.019328367630754954], [-3.235448330387338e-15, -8.489208165875781e-15, -5.263054680747598e-15, -0.019350293042077155, -0.019350293042082172], [6.586440226563321e-15, 1.5532956562967306e-14, -5.263054680747598e-15, -0.01943697242633121, -0.0194369724263352], [-3.235448330387338e-15, 1.5532956562967306e-14, 7.615375226091533e-15, -0.016446736811131214, -0.016446736811130697], [8.218482842091124e-15, -8.489208165875781e-15, -5.263054680747598e-15, -0.019293835844102627, -0.019293835844107245], [-3.235448330387338e-15, -8.489208165875781e-15, 4.64983615116717e-15, -0.01814436545340517, -0.018144365453402072], [8.218482842091124e-15, -8.489208165875781e-15, -5.263054680747598e-15, -0.01923878886633225, -0.019238788866332977], [8.218482842091124e-15, 1.5532956562967306e-14, 4.64983615116717e-15, -0.019469132436966092, -0.019469132436971886], [-3.235448330387338e-15, 1.5532956562967306e-14, 7.615375226091533e-15, 0.013834348802548625, 0.01383434880255734], [-3.235448330387338e-15, -8.489208165875781e-15, -5.263054680747598e-15, -0.019517753452392365, -0.019517753452397806], [-3.235448330387338e-15, -8.489208165875781e-15, -5.263054680747598e-15, -0.019536817455748524, -0.019536817455754314], [-3.235448330387338e-15, -8.489208165875781e-15, 7.615375226091533e-15, -0.012184083038240057, -0.012184083038236823], [-3.235448330387338e-15, -8.489208165875781e-15, -5.263054680747598e-15, -0.019430297674737702, -0.019430297674741668], [-3.235448330387338e-15, 1.5532956562967306e-14, 4.64983615116717e-15, -0.01899463011972922, -0.018994630119731726], [-3.235448330387338e-15, -8.489208165875781e-15, -5.263054680747598e-15, -0.019471736935379777, -0.019471736935384377], [-3.235448330387338e-15, -8.489208165875781e-15, 7.615375226091533e-15, -0.013987320723593863, -0.013987320723591094], [8.218482842091124e-15, -8.489208165875781e-15, 7.615375226091533e-15, -0.012380676744704168, -0.012380676744701934], [6.586440226563321e-15, 1.5532956562967306e-14, -5.263054680747598e-15, -0.01913370577956163, -0.019133705779565486], [-3.235448330387338e-15, -8.489208165875781e-15, -5.263054680747598e-15, -0.01950879265904065, -0.01950879265904604], [-3.235448330387338e-15, -8.489208165875781e-15, -5.263054680747598e-15, -0.011547988603727266, -0.011547988603724421], [-3.235448330387338e-15, -8.489208165875781e-15, 4.64983615116717e-15, -0.013546223874914894, -0.013546223874911344], [-3.235448330387338e-15, 1.5532956562967306e-14, -5.263054680747598e-15, -0.01931081034966401, -0.01931081034966618], [8.218482842091124e-15, 1.5532956562967306e-14, 7.615375226091533e-15, 0.03780178666105637, 0.03780178666106752], [-3.235448330387338e-15, 1.5532956562967306e-14, -5.263054680747598e-15, -0.019532296324263558, -0.019532296324269532], [6.586440226563321e-15, 1.5532956562967306e-14, -5.263054680747598e-15, -0.019563106116423524, -0.019563106116430314], [-3.235448330387338e-15, 1.5532956562967306e-14, 4.64983615116717e-15, -0.019428420780153537, -0.01942842078015854], [-3.235448330387338e-15, -8.489208165875781e-15, 7.615375226091533e-15, -0.013258096832573939, -0.013258096832570683], [8.218482842091124e-15, -8.489208165875781e-15, 7.615375226091533e-15, 0.0586608448631147, 0.0586608448631276], [8.218482842091124e-15, -8.489208165875781e-15, 7.615375226091533e-15, 0.03664465275629506, 0.03664465275630641], [-3.235448330387338e-15, 1.5532956562967306e-14, 7.615375226091533e-15, 0.6570749332529767, 0.6570749332530115], [-3.235448330387338e-15, -8.489208165875781e-15, -5.263054680747598e-15, -0.01954015469499548, -0.019540154695001512], [-3.235448330387338e-15, -8.489208165875781e-15, -5.263054680747598e-15, -0.019533036864041262, -0.01953303686404695], [-3.235448330387338e-15, -8.489208165875781e-15, -5.263054680747598e-15, -0.019535373154683604, -0.019535373154689603], [-3.235448330387338e-15, 1.5532956562967306e-14, -5.263054680747598e-15, -0.01847668975460661, -0.01847668975460909], [8.218482842091124e-15, -8.489208165875781e-15, -5.263054680747598e-15, -0.019378051175520748, -0.01937805117552391], [-3.235448330387338e-15, -8.489208165875781e-15, 7.615375226091533e-15, -0.008263719580819945, -0.008263719580815725], [-3.235448330387338e-15, 1.5532956562967306e-14, -5.263054680747598e-15, -0.019360084099291703, -0.019360084099296442], [8.218482842091124e-15, 1.5532956562967306e-14, 7.615375226091533e-15, -0.013168678560383106, -0.013168678560380459], [-3.235448330387338e-15, -8.489208165875781e-15, 4.64983615116717e-15, -0.019613385776826416, -0.019613385776830347], [-3.235448330387338e-15, 1.5532956562967306e-14, 4.64983615116717e-15, -0.019086162042157514, -0.019086162042160525], [-3.235448330387338e-15, -8.489208165875781e-15, -5.263054680747598e-15, -0.01915051236699308, -0.019150512366993427], [-3.235448330387338e-15, -8.489208165875781e-15, -5.263054680747598e-15, -0.0195057085838141, -0.01950570858381901], [6.586440226563321e-15, 1.5532956562967306e-14, -5.263054680747598e-15, -0.019562215493155434, -0.019562215493161807], [-3.235448330387338e-15, -8.489208165875781e-15, -5.263054680747598e-15, -0.019371157822089327, -0.019371157822092307], [-3.235448330387338e-15, 1.5532956562967306e-14, -5.263054680747598e-15, -0.019289239795733097, -0.019289239795737594], [-3.235448330387338e-15, 1.5532956562967306e-14, -5.263054680747598e-15, -0.019449634440223622, -0.019449634440227976], [-3.235448330387338e-15, -8.489208165875781e-15, 7.615375226091533e-15, -0.017697758738173322, -0.017697758738174727], [-3.235448330387338e-15, -8.489208165875781e-15, -5.263054680747598e-15, -0.019490449103693408, -0.019490449103697922], [-3.235448330387338e-15, -8.489208165875781e-15, 4.64983615116717e-15, -0.017905180490237396, -0.01790518049023588], [8.218482842091124e-15, -8.489208165875781e-15, 7.615375226091533e-15, -0.014283606031795838, -0.01428360603179415], [-3.235448330387338e-15, 1.5532956562967306e-14, 4.64983615116717e-15, -0.01948956625615596, -0.01948956625616221], [-3.235448330387338e-15, -8.489208165875781e-15, -5.263054680747598e-15, -0.01699336259791321, -0.01699336259791335], [6.586440226563321e-15, -8.489208165875781e-15, -5.263054680747598e-15, -0.019512619728703717, -0.01951261972870913], [-3.235448330387338e-15, -8.489208165875781e-15, -5.263054680747598e-15, -0.019467301149790204, -0.019467301149794787], [-3.235448330387338e-15, -8.489208165875781e-15, 7.615375226091533e-15, -0.019613385778859273, -0.019613385778861177], [-3.235448330387338e-15, 1.5532956562967306e-14, -5.263054680747598e-15, -0.019508862012133796, -0.019508862012139035], [-3.235448330387338e-15, -8.489208165875781e-15, -5.263054680747598e-15, -0.019613385774793563, -0.01961338577479952], [-3.235448330387338e-15, -8.489208165875781e-15, -5.263054680747598e-15, -0.01951432635097316, -0.019514326350978727], [8.218482842091124e-15, 1.5532956562967306e-14, 4.64983615116717e-15, -0.01960739316659363, -0.019607393166598267], [-3.235448330387338e-15, 1.5532956562967306e-14, -5.263054680747598e-15, -0.019430297674737702, -0.019430297674741668], [-3.235448330387338e-15, -8.489208165875781e-15, -5.263054680747598e-15, -0.019517378847441612, -0.019517378847447198], [6.586440226563321e-15, 1.5532956562967306e-14, -5.263054680747598e-15, -0.019384462674536626, -0.019384462674539804], [-3.235448330387338e-15, -8.489208165875781e-15, -5.263054680747598e-15, -0.019317582409776483, -0.019317582409778142], [-3.235448330387338e-15, 1.5532956562967306e-14, 4.64983615116717e-15, -0.019086162042157514, -0.019086162042160525], [8.218482842091124e-15, 1.5532956562967306e-14, 7.615375226091533e-15, -0.012278904069047263, -0.01227890406904347], [-3.235448330387338e-15, 1.5532956562967306e-14, 7.615375226091533e-15, 0.1072198629035874, 0.10721986290362012], [-3.235448330387338e-15, 1.5532956562967306e-14, 7.615375226091533e-15, 0.0623265941248433, 0.06232659412485671], [-3.235448330387338e-15, 1.5532956562967306e-14, -5.263054680747598e-15, -0.019362221055279995, -0.019362221055283447], [-3.235448330387338e-15, 1.5532956562967306e-14, 4.64983615116717e-15, -0.01947749314689277, -0.01947749314689767], [8.218482842091124e-15, -8.489208165875781e-15, 7.615375226091533e-15, 0.060783439651459, 0.06078343965147213], [8.218482842091124e-15, 1.5532956562967306e-14, 7.615375226091533e-15, 0.05555811178066687, 0.05555811178067955], [-3.235448330387338e-15, -8.489208165875781e-15, -5.263054680747598e-15, -0.01955913825659629, -0.01955913825660185], [8.218482842091124e-15, 1.5532956562967306e-14, -5.263054680747598e-15, -0.019416339070505256, -0.019416339070508517], [-3.235448330387338e-15, -8.489208165875781e-15, -5.263054680747598e-15, -0.019207953874437897, -0.019207953874440215], [-3.235448330387338e-15, 1.5532956562967306e-14, 4.64983615116717e-15, -0.018071268157036836, -0.018071268157038564], [8.218482842091124e-15, -8.489208165875781e-15, 7.615375226091533e-15, -0.01883064376725112, -0.018830643767254487], [8.218482842091124e-15, -8.489208165875781e-15, -5.263054680747598e-15, -0.019478322332287797, -0.01947832233229258], [8.218482842091124e-15, 1.5532956562967306e-14, 7.615375226091533e-15, 0.04291121321681935, 0.04291121321683241], [-3.235448330387338e-15, -8.489208165875781e-15, -5.263054680747598e-15, -0.019333318134698303, -0.01933331813470086], [-3.235448330387338e-15, 1.5532956562967306e-14, 7.615375226091533e-15, -0.015103851355333901, -0.015103851355332923], [-3.235448330387338e-15, -8.489208165875781e-15, -5.263054680747598e-15, -0.019459812921978827, -0.01945981292198322], [8.218482842091124e-15, -8.489208165875781e-15, -5.263054680747598e-15, -0.01868201187458511, -0.01868201187458698], [8.218482842091124e-15, 1.5532956562967306e-14, -5.263054680747598e-15, -0.01930330407556185, -0.01930330407556668], [-3.235448330387338e-15, 1.5532956562967306e-14, -5.263054680747598e-15, -0.017232855902361843, -0.017232855902361555], [8.218482842091124e-15, -8.489208165875781e-15, -5.263054680747598e-15, -0.019613360830024157, -0.019613360830034135], [-3.235448330387338e-15, -8.489208165875781e-15, -5.263054680747598e-15, -0.019570214630215025, -0.01957021463022109], [-3.235448330387338e-15, -8.489208165875781e-15, -5.263054680747598e-15, -0.01823455335769453, -0.018234553357696533], [-3.235448330387338e-15, -8.489208165875781e-15, 4.64983615116717e-15, -0.019050427979861496, -0.019050427979864306], [8.218482842091124e-15, -8.489208165875781e-15, -5.263054680747598e-15, -0.019525707649344734, -0.019525707649350223], [8.218482842091124e-15, -8.489208165875781e-15, -5.263054680747598e-15, -0.019525707649344734, -0.019525707649350223], [-3.235448330387338e-15, -8.489208165875781e-15, -5.263054680747598e-15, -0.019338220580508145, -0.01933822058051088], [-3.235448330387338e-15, 1.5532956562967306e-14, -5.263054680747598e-15, -0.016088085231182273, -0.01608808523118002], [-3.235448330387338e-15, 1.5532956562967306e-14, 4.64983615116717e-15, -0.012780563645807439, -0.012780563645805373], [-3.235448330387338e-15, 1.5532956562967306e-14, 7.615375226091533e-15, 0.012420756530330299, 0.012420756530338863], [8.218482842091124e-15, -8.489208165875781e-15, 4.64983615116717e-15, -0.015052057673686526, -0.015052057673685768], [-3.235448330387338e-15, -8.489208165875781e-15, -5.263054680747598e-15, -0.01853410559141351, -0.01853410559141558], [-3.235448330387338e-15, -8.489208165875781e-15, 7.615375226091533e-15, -0.01678881312151818, -0.01678881312151837], [-3.235448330387338e-15, -8.489208165875781e-15, 4.64983615116717e-15, 0.015549524134496218, 0.015549524134504781], [-3.235448330387338e-15, 1.5532956562967306e-14, -5.263054680747598e-15, -0.019115483455087207, -0.019115483455088716], [-3.235448330387338e-15, -8.489208165875781e-15, 4.64983615116717e-15, -0.01961338577540342, -0.01961338577540877], [-3.235448330387338e-15, 1.5532956562967306e-14, 4.64983615116717e-15, -0.01865798761387482, -0.018657987613874154], [6.586440226563321e-15, -8.489208165875781e-15, -5.263054680747598e-15, -0.019601624448665155, -0.019601624448671442], [8.218482842091124e-15, -8.489208165875781e-15, 7.615375226091533e-15, -0.009327663421853923, -0.009327663421848782], [-3.235448330387338e-15, 1.5532956562967306e-14, -5.263054680747598e-15, -0.01959982391796223, -0.019599823917968197], [-3.235448330387338e-15, -8.489208165875781e-15, -5.263054680747598e-15, -0.01915852079007006, -0.019158520790070768], [-3.235448330387338e-15, 1.5532956562967306e-14, 4.64983615116717e-15, -0.018202450204399277, -0.018202450204401532], [-3.235448330387338e-15, -8.489208165875781e-15, 4.64983615116717e-15, -0.01931377300119726, -0.01931377300120105], [-3.235448330387338e-15, -8.489208165875781e-15, 7.615375226091533e-15, -0.013573708161846994, -0.013573708161837953], [-3.235448330387338e-15, -8.489208165875781e-15, 4.64983615116717e-15, -0.019423585295478423, -0.019423585295483867], [-3.235448330387338e-15, 1.5532956562967306e-14, 4.64983615116717e-15, -0.01837175026635556, -0.018371750266353473], [8.218482842091124e-15, 1.5532956562967306e-14, 4.64983615116717e-15, -0.019559452100877138, -0.01955945210088137], [-3.235448330387338e-15, -8.489208165875781e-15, 7.615375226091533e-15, 0.045076060755193596, 0.0450760607552077], [-3.235448330387338e-15, -8.489208165875781e-15, -5.263054680747598e-15, -0.01960651141980169, -0.019606511419810246], [-3.235448330387338e-15, -8.489208165875781e-15, -5.263054680747598e-15, -0.019470543221046542, -0.019470543221050813], [-3.235448330387338e-15, 1.5532956562967306e-14, 7.615375226091533e-15, -0.008131619818266577, -0.00813161981826278], [-3.235448330387338e-15, -8.489208165875781e-15, 7.615375226091533e-15, -0.0164853813110196, -0.01648538131101941], [-3.235448330387338e-15, 1.5532956562967306e-14, 4.64983615116717e-15, -0.0194605221566388, -0.0194605221566443], [8.218482842091124e-15, -8.489208165875781e-15, -5.263054680747598e-15, -0.01959872943894851, -0.019598729438956634], [8.218482842091124e-15, -8.489208165875781e-15, -5.263054680747598e-15, -0.019444867997576738, -0.019444867997580505], [8.218482842091124e-15, -8.489208165875781e-15, 4.64983615116717e-15, -0.019053522916372915, -0.019053522916376], [6.586440226563321e-15, -8.489208165875781e-15, -5.263054680747598e-15, -0.01941417230509597, -0.019414172305099564], [-3.235448330387338e-15, -8.489208165875781e-15, -5.263054680747598e-15, -0.01961191839795899, -0.019611918397966752], [-3.235448330387338e-15, -8.489208165875781e-15, 7.615375226091533e-15, -0.016188558741551666, -0.01618855874155174], [-3.235448330387338e-15, -8.489208165875781e-15, -5.263054680747598e-15, -0.01941786503946797, -0.019417865039472515], [-3.235448330387338e-15, -8.489208165875781e-15, -5.263054680747598e-15, -0.014149528749159508, -0.014149528749157763], [6.586440226563321e-15, 1.5532956562967306e-14, -5.263054680747598e-15, -0.0195603175026422, -0.01956031750264883], [-3.235448330387338e-15, -8.489208165875781e-15, -5.263054680747598e-15, -0.01940442871735505, -0.019404428717358698], [-3.235448330387338e-15, -8.489208165875781e-15, -5.263054680747598e-15, -0.019455847763835958, -0.019455847763840337], [-3.235448330387338e-15, -8.489208165875781e-15, 4.64983615116717e-15, -0.016786935393855184, -0.016786935393854372], [-3.235448330387338e-15, 1.5532956562967306e-14, 4.64983615116717e-15, -0.019401910539987223, -0.019401910539992462], [8.218482842091124e-15, -8.489208165875781e-15, -5.263054680747598e-15, -0.019450537272365277, -0.019450537272369145], [-3.235448330387338e-15, -8.489208165875781e-15, 4.64983615116717e-15, -0.017406033567949203, -0.017406033567949404], [8.218482842091124e-15, -8.489208165875781e-15, -5.263054680747598e-15, -0.019461035928967838, -0.019461035928971908], [-3.235448330387338e-15, -8.489208165875781e-15, 4.64983615116717e-15, -0.017414324089150637, -0.0174143240891477], [-3.235448330387338e-15, -8.489208165875781e-15, -5.263054680747598e-15, -0.019458477180396117, -0.019458477180400342], [-3.235448330387338e-15, 1.5532956562967306e-14, -5.263054680747598e-15, -0.019238190389209903, -0.019238190389210364], [6.586440226563321e-15, -8.489208165875781e-15, -5.263054680747598e-15, -0.019512619728703717, -0.01951261972870913], [8.218482842091124e-15, -8.489208165875781e-15, -5.263054680747598e-15, -0.019500296557494128, -0.01950029655749901], [-3.235448330387338e-15, 1.5532956562967306e-14, -5.263054680747598e-15, -0.019257549102215627, -0.019257549102220356], [6.586440226563321e-15, -8.489208165875781e-15, -5.263054680747598e-15, -0.018822779565174936, -0.018822779565172434], [-3.235448330387338e-15, -8.489208165875781e-15, 7.615375226091533e-15, -0.011119629243790998, -0.011119629243788235], [-3.235448330387338e-15, -8.489208165875781e-15, -5.263054680747598e-15, -0.019528216979227016, -0.019528216979232522], [-3.235448330387338e-15, -8.489208165875781e-15, 4.64983615116717e-15, -0.019217382202337565, -0.01921738220234139], [-3.235448330387338e-15, -8.489208165875781e-15, -5.263054680747598e-15, -0.019412018088254525, -0.019412018088258112], [-3.235448330387338e-15, -8.489208165875781e-15, 7.615375226091533e-15, -0.01961338577967241, -0.019613385779673507], [6.586440226563321e-15, -8.489208165875781e-15, -5.263054680747598e-15, -0.018578607175471894, -0.018578607175467485], [-3.235448330387338e-15, 1.5532956562967306e-14, -5.263054680747598e-15, -0.019498220990806885, -0.019498220990812068], [8.218482842091124e-15, 1.5532956562967306e-14, 7.615375226091533e-15, 0.01345747591523683, 0.01345747591524548], [-3.235448330387338e-15, -8.489208165875781e-15, 4.64983615116717e-15, -0.019374536325383752, -0.019374536325388148], [-3.235448330387338e-15, -8.489208165875781e-15, -5.263054680747598e-15, -0.0196133857770297, -0.01961338577703343], [8.218482842091124e-15, -8.489208165875781e-15, 7.615375226091533e-15, -0.00920909698925627, -0.009209096989252633], [-3.235448330387338e-15, 1.5532956562967306e-14, 4.64983615116717e-15, -0.019178512390085167, -0.019178512390088637], [8.218482842091124e-15, -8.489208165875781e-15, 7.615375226091533e-15, -0.012252524958640177, -0.012252524958637122], [-3.235448330387338e-15, 1.5532956562967306e-14, -5.263054680747598e-15, -0.019523926189530912, -0.01952392618953654], [8.218482842091124e-15, -8.489208165875781e-15, 7.615375226091533e-15, 0.3680249370264519, 0.3680249370264824], [8.218482842091124e-15, 1.5532956562967306e-14, 7.615375226091533e-15, -0.014720416766210666, -0.01472041676620947]]]"
     ]
    },
    {
     "name": "stdout",
     "output_type": "stream",
     "text": [
      "\n"
     ]
    }
   ],
   "source": [
    "# feature shap values for all features and all data points in the training data\n",
    "print('local importance values: {}'.format(global_explanation.local_importance_values))"
   ]
  },
  {
   "cell_type": "markdown",
   "metadata": {},
   "source": [
    "### Generate local explanations\n",
    "Explain local data points (individual instances)"
   ]
  },
  {
   "cell_type": "code",
   "execution_count": 13,
   "metadata": {},
   "outputs": [
    {
     "name": "stdout",
     "output_type": "stream",
     "text": [
      "Many to one/many maps found in input\n"
     ]
    }
   ],
   "source": [
    "# Note: PFIExplainer does not support local explanations\n",
    "# You can pass a specific data point or a group of data points to the explain_local function\n",
    "\n",
    "# E.g., Explain the first data point in the test set\n",
    "instance_num = 1\n",
    "local_explanation = explainer.explain_local(x_test[:instance_num])"
   ]
  },
  {
   "cell_type": "code",
   "execution_count": 14,
   "metadata": {},
   "outputs": [
    {
     "name": "stdout",
     "output_type": "stream",
     "text": [
      "local importance values: [[-3.235448330387338e-15, -5.263054680747598e-15, -8.489208165875781e-15, -0.01939782415685322, -0.01939782415685609]]\n",
      "local importance names: [['embarked', 'pclass', 'sex', 'age', 'fare']]\n"
     ]
    }
   ],
   "source": [
    "# Get the prediction for the first member of the test set and explain why model made that prediction\n",
    "prediction_value = clf.predict(x_test)[instance_num]\n",
    "\n",
    "sorted_local_importance_values = local_explanation.get_ranked_local_values()[prediction_value]\n",
    "sorted_local_importance_names = local_explanation.get_ranked_local_names()[prediction_value]\n",
    "\n",
    "print('local importance values: {}'.format(sorted_local_importance_values))\n",
    "print('local importance names: {}'.format(sorted_local_importance_names))"
   ]
  },
  {
   "cell_type": "markdown",
   "metadata": {},
   "source": [
    "<a id='Visualize'></a>\n",
    "## 5. Visualize\n",
    "Load the visualization dashboard"
   ]
  },
  {
   "cell_type": "code",
   "execution_count": 15,
   "metadata": {},
   "outputs": [],
   "source": [
    "from interpret_community.widget import ExplanationDashboard"
   ]
  },
  {
   "cell_type": "code",
   "execution_count": 16,
   "metadata": {},
   "outputs": [
    {
     "data": {
      "application/vnd.jupyter.widget-view+json": {
       "model_id": "d0087b0849e64cffb3817a8cf6fba2ee",
       "version_major": 2,
       "version_minor": 0
      },
      "text/plain": [
       "ExplanationWidget(value={'predictedY': [1, 1, 1, 1, 1, 1, 1, 1, 1, 1, 1, 1, 1, 1, 1, 1, 1, 1, 1, 1, 1, 1, 1, 1…"
      ]
     },
     "metadata": {},
     "output_type": "display_data"
    },
    {
     "data": {
      "text/plain": [
       "<interpret_community.widget.ExplanationDashboard.ExplanationDashboard at 0x2229695acf8>"
      ]
     },
     "execution_count": 16,
     "metadata": {},
     "output_type": "execute_result"
    }
   ],
   "source": [
    "ExplanationDashboard(global_explanation, model, datasetX=x_test)"
   ]
  },
  {
   "cell_type": "markdown",
   "metadata": {},
   "source": [
    "<a id='Next'></a>\n",
    "## 6. Next steps\n",
    "Learn about other use cases of the explain package on a:\n",
    "       \n",
    "1. [Training time: regression problem](./explain-regression-local.ipynb)\n",
    "1. [Training time: binary classification problem](./explain-binary-classification-local.ipynb)\n",
    "1. [Training time: multiclass classification problem](./explain-multiclass-classification-local.ipynb)\n",
    "1. [Explain models with simple feature transformations](./simple-feature-transformations-explain-local.ipynb)"
   ]
  }
 ],
 "metadata": {
  "authors": [
   {
    "name": "mesameki"
   }
  ],
  "kernelspec": {
   "display_name": "Python 3",
   "language": "python",
   "name": "python3"
  },
  "language_info": {
   "codemirror_mode": {
    "name": "ipython",
    "version": 3
   },
   "file_extension": ".py",
   "mimetype": "text/x-python",
   "name": "python",
   "nbconvert_exporter": "python",
   "pygments_lexer": "ipython3",
   "version": "3.6.9"
  }
 },
 "nbformat": 4,
 "nbformat_minor": 2
}
