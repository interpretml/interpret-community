{
 "cells": [
  {
   "cell_type": "markdown",
   "metadata": {},
   "source": [
    "Copyright (c) Microsoft Corporation. All rights reserved.\n",
    "\n",
    "Licensed under the MIT License."
   ]
  },
  {
   "cell_type": "markdown",
   "metadata": {},
   "source": [
    "# Explain binary classification model predictions\n",
    "_**This notebook showcases how to use the Azure Machine Learning Interpretability SDK to explain and visualize a binary classification model predictions.**_\n",
    "\n",
    "\n",
    "## Table of Contents\n",
    "\n",
    "1. [Introduction](#Introduction)\n",
    "1. [Setup](#Setup)\n",
    "1. [Run model explainer locally at training time](#Explain)\n",
    "    1. Train a binary classification model\n",
    "    1. Explain the model\n",
    "        1. Generate global explanations\n",
    "        1. Generate local explanations\n",
    "1. [Visualize results](#Visualize)\n",
    "1. [Next steps](#Next)"
   ]
  },
  {
   "cell_type": "markdown",
   "metadata": {},
   "source": [
    "## Introduction\n",
    "\n",
    "This notebook illustrates how to explain a binary classification model predictions locally at training time without contacting any Azure services.\n",
    "It demonstrates the API calls that you need to make to get the global and local explanations and a visualization dashboard that provides an interactive way of discovering patterns in data and explanations.\n",
    "\n",
    "We will showcase three tabular data explainers: TabularExplainer (SHAP), MimicExplainer (global surrogate), and PFIExplainer.\n",
    "\n",
    "| ![Interpretability Toolkit Architecture](./img/interpretability-architecture.png) |\n",
    "|:--:|\n",
    "| *Interpretability Toolkit Architecture* |\n",
    "\n",
    "Problem: Breast cancer diagnosis classification with scikit-learn (run model explainer locally)\n",
    "\n",
    "1. Train a SVM classification model using Scikit-learn\n",
    "2. Run 'explain_model' globally and locally with full dataset in local mode, which doesn't contact any Azure services.\n",
    "3. Visualize the global and local explanations with the visualization dashboard.\n",
    "---\n",
    "\n",
    "Setup: If you are using Jupyter notebooks, the extensions should be installed automatically with the package.\n",
    "If you are using Jupyter Labs run the following command:\n",
    "```\n",
    "(myenv) $ jupyter labextension install @jupyter-widgets/jupyterlab-manager\n",
    "```\n"
   ]
  },
  {
   "cell_type": "markdown",
   "metadata": {},
   "source": [
    "## Explain\n",
    "\n",
    "### Run model explainer locally at training time"
   ]
  },
  {
   "cell_type": "code",
   "execution_count": 1,
   "metadata": {},
   "outputs": [
    {
     "name": "stdout",
     "output_type": "stream",
     "text": [
      "Could not import lightgbm, required if using LGBMExplainableModel\n",
      "Could not import lightgbm, required if using LGBMExplainableModel\n",
      "Could not import lightgbm, required if using LGBMExplainableModel\n",
      "Could not import lightgbm, required if using LGBMExplainableModel\n",
      "Could not import lightgbm, required if using LGBMExplainableModel\n"
     ]
    }
   ],
   "source": [
    "from sklearn.datasets import load_breast_cancer\n",
    "from sklearn import svm\n",
    "\n",
    "# Explainers:\n",
    "# 1. SHAP Tabular Explainer\n",
    "#from interpret.ext.blackbox import TabularExplainer\n",
    "from interpret.ext.blackbox import TabularExplainer\n",
    "\n",
    "# OR\n",
    "\n",
    "# 2. Mimic Explainer\n",
    "#from interpret.ext.blackbox import MimicExplainer\n",
    "\n",
    "# You can use one of the following four interpretable models as a global surrogate to the black box model\n",
    "#from interpret.ext.glassbox import LGBMExplainableModel\n",
    "#from interpret.ext.glassbox import LinearExplainableModel\n",
    "#from interpret.ext.glassbox import SGDExplainableModel\n",
    "#from interpret.ext.glassbox import DecisionTreeExplainableModel\n",
    "\n",
    "# OR\n",
    "\n",
    "# 3. PFI Explainer\n",
    "#from interpret.ext.blackbox import PFIExplainer "
   ]
  },
  {
   "cell_type": "markdown",
   "metadata": {},
   "source": [
    "### Load the breast cancer diagnosis data"
   ]
  },
  {
   "cell_type": "code",
   "execution_count": 2,
   "metadata": {},
   "outputs": [],
   "source": [
    "breast_cancer_data = load_breast_cancer()\n",
    "classes = breast_cancer_data.target_names.tolist()"
   ]
  },
  {
   "cell_type": "code",
   "execution_count": 3,
   "metadata": {},
   "outputs": [],
   "source": [
    "# Split data into train and test\n",
    "from sklearn.model_selection import train_test_split\n",
    "x_train, x_test, y_train, y_test = train_test_split(breast_cancer_data.data, breast_cancer_data.target, test_size=0.2, random_state=0)"
   ]
  },
  {
   "cell_type": "markdown",
   "metadata": {},
   "source": [
    "### Train a SVM classification model, which you want to explain"
   ]
  },
  {
   "cell_type": "code",
   "execution_count": 4,
   "metadata": {},
   "outputs": [],
   "source": [
    "clf = svm.SVC(gamma=0.001, C=100., probability=True)\n",
    "model = clf.fit(x_train, y_train)"
   ]
  },
  {
   "cell_type": "markdown",
   "metadata": {},
   "source": [
    "### Explain predictions on your local machine"
   ]
  },
  {
   "cell_type": "code",
   "execution_count": 5,
   "metadata": {},
   "outputs": [
    {
     "name": "stderr",
     "output_type": "stream",
     "text": [
      "C:\\Users\\bezeran\\AppData\\Local\\conda\\conda\\envs\\interp4\\lib\\site-packages\\shap\\explainers\\linear.py:49: UserWarning: The default value for feature_dependence has been changed to \"independent\"!\n",
      "  warnings.warn('The default value for feature_dependence has been changed to \"independent\"!')\n"
     ]
    }
   ],
   "source": [
    "# 1. Using SHAP TabularExplainer\n",
    "explainer = TabularExplainer(model, \n",
    "                             x_train, \n",
    "                             features=breast_cancer_data.feature_names, \n",
    "                             classes=classes)\n",
    "\n",
    "\n",
    "\n",
    "\n",
    "# 2. Using MimicExplainer\n",
    "# augment_data is optional and if true, oversamples the initialization examples to improve surrogate model accuracy to fit original model.  Useful for high-dimensional data where the number of rows is less than the number of columns. \n",
    "# max_num_of_augmentations is optional and defines max number of times we can increase the input data size.\n",
    "# LGBMExplainableModel can be replaced with LinearExplainableModel, SGDExplainableModel, or DecisionTreeExplainableModel\n",
    "# explainer = MimicExplainer(model, \n",
    "#                            x_train, \n",
    "#                            LGBMExplainableModel, \n",
    "#                            augment_data=True, \n",
    "#                            max_num_of_augmentations=10, \n",
    "#                            features=breast_cancer_data.feature_names, \n",
    "#                            classes=classes)\n",
    "\n",
    "\n",
    "\n",
    "\n",
    "\n",
    "# 3. Using PFIExplainer\n",
    "\n",
    "# Use the parameter \"metric\" to pass a metric name or function to evaluate the permutation. \n",
    "# Note that if a metric function is provided a higher value must be better.\n",
    "# Otherwise, take the negative of the function or set the parameter \"is_error_metric\" to True.\n",
    "# Default metrics: \n",
    "# F1 Score for binary classification, F1 Score with micro average for multiclass classification and\n",
    "# Mean absolute error for regression\n",
    "\n",
    "# explainer = PFIExplainer(model, \n",
    "#                          features=breast_cancer_data.feature_names, \n",
    "#                          classes=classes)"
   ]
  },
  {
   "cell_type": "markdown",
   "metadata": {},
   "source": [
    "### Generate global explanations\n",
    "Explain overall model predictions (global explanation)"
   ]
  },
  {
   "cell_type": "code",
   "execution_count": 6,
   "metadata": {},
   "outputs": [
    {
     "data": {
      "application/vnd.jupyter.widget-view+json": {
       "model_id": "1c70fa32ac174bf6ad810e762dc8f237",
       "version_major": 2,
       "version_minor": 0
      },
      "text/plain": [
       "HBox(children=(IntProgress(value=0, max=114), HTML(value='')))"
      ]
     },
     "metadata": {},
     "output_type": "display_data"
    },
    {
     "name": "stderr",
     "output_type": "stream",
     "text": [
      "C:\\Users\\bezeran\\AppData\\Local\\conda\\conda\\envs\\interp4\\lib\\site-packages\\shap\\explainers\\kernel.py:545: UserWarning: l1_reg=\"auto\" is deprecated and in the next version (v0.29) the behavior will change from a conditional use of AIC to simply \"num_features(10)\"!\n",
      "  \"l1_reg=\\\"auto\\\" is deprecated and in the next version (v0.29) the behavior will change from a \" \\\n",
      "C:\\Users\\bezeran\\AppData\\Local\\conda\\conda\\envs\\interp4\\lib\\site-packages\\shap\\explainers\\kernel.py:545: UserWarning: l1_reg=\"auto\" is deprecated and in the next version (v0.29) the behavior will change from a conditional use of AIC to simply \"num_features(10)\"!\n",
      "  \"l1_reg=\\\"auto\\\" is deprecated and in the next version (v0.29) the behavior will change from a \" \\\n",
      "C:\\Users\\bezeran\\AppData\\Local\\conda\\conda\\envs\\interp4\\lib\\site-packages\\shap\\explainers\\kernel.py:545: UserWarning: l1_reg=\"auto\" is deprecated and in the next version (v0.29) the behavior will change from a conditional use of AIC to simply \"num_features(10)\"!\n",
      "  \"l1_reg=\\\"auto\\\" is deprecated and in the next version (v0.29) the behavior will change from a \" \\\n",
      "C:\\Users\\bezeran\\AppData\\Local\\conda\\conda\\envs\\interp4\\lib\\site-packages\\shap\\explainers\\kernel.py:545: UserWarning: l1_reg=\"auto\" is deprecated and in the next version (v0.29) the behavior will change from a conditional use of AIC to simply \"num_features(10)\"!\n",
      "  \"l1_reg=\\\"auto\\\" is deprecated and in the next version (v0.29) the behavior will change from a \" \\\n",
      "C:\\Users\\bezeran\\AppData\\Local\\conda\\conda\\envs\\interp4\\lib\\site-packages\\shap\\explainers\\kernel.py:545: UserWarning: l1_reg=\"auto\" is deprecated and in the next version (v0.29) the behavior will change from a conditional use of AIC to simply \"num_features(10)\"!\n",
      "  \"l1_reg=\\\"auto\\\" is deprecated and in the next version (v0.29) the behavior will change from a \" \\\n",
      "C:\\Users\\bezeran\\AppData\\Local\\conda\\conda\\envs\\interp4\\lib\\site-packages\\shap\\explainers\\kernel.py:545: UserWarning: l1_reg=\"auto\" is deprecated and in the next version (v0.29) the behavior will change from a conditional use of AIC to simply \"num_features(10)\"!\n",
      "  \"l1_reg=\\\"auto\\\" is deprecated and in the next version (v0.29) the behavior will change from a \" \\\n",
      "C:\\Users\\bezeran\\AppData\\Local\\conda\\conda\\envs\\interp4\\lib\\site-packages\\shap\\explainers\\kernel.py:545: UserWarning: l1_reg=\"auto\" is deprecated and in the next version (v0.29) the behavior will change from a conditional use of AIC to simply \"num_features(10)\"!\n",
      "  \"l1_reg=\\\"auto\\\" is deprecated and in the next version (v0.29) the behavior will change from a \" \\\n",
      "C:\\Users\\bezeran\\AppData\\Local\\conda\\conda\\envs\\interp4\\lib\\site-packages\\shap\\explainers\\kernel.py:545: UserWarning: l1_reg=\"auto\" is deprecated and in the next version (v0.29) the behavior will change from a conditional use of AIC to simply \"num_features(10)\"!\n",
      "  \"l1_reg=\\\"auto\\\" is deprecated and in the next version (v0.29) the behavior will change from a \" \\\n",
      "C:\\Users\\bezeran\\AppData\\Local\\conda\\conda\\envs\\interp4\\lib\\site-packages\\shap\\explainers\\kernel.py:545: UserWarning: l1_reg=\"auto\" is deprecated and in the next version (v0.29) the behavior will change from a conditional use of AIC to simply \"num_features(10)\"!\n",
      "  \"l1_reg=\\\"auto\\\" is deprecated and in the next version (v0.29) the behavior will change from a \" \\\n",
      "C:\\Users\\bezeran\\AppData\\Local\\conda\\conda\\envs\\interp4\\lib\\site-packages\\shap\\explainers\\kernel.py:545: UserWarning: l1_reg=\"auto\" is deprecated and in the next version (v0.29) the behavior will change from a conditional use of AIC to simply \"num_features(10)\"!\n",
      "  \"l1_reg=\\\"auto\\\" is deprecated and in the next version (v0.29) the behavior will change from a \" \\\n",
      "C:\\Users\\bezeran\\AppData\\Local\\conda\\conda\\envs\\interp4\\lib\\site-packages\\shap\\explainers\\kernel.py:545: UserWarning: l1_reg=\"auto\" is deprecated and in the next version (v0.29) the behavior will change from a conditional use of AIC to simply \"num_features(10)\"!\n",
      "  \"l1_reg=\\\"auto\\\" is deprecated and in the next version (v0.29) the behavior will change from a \" \\\n",
      "C:\\Users\\bezeran\\AppData\\Local\\conda\\conda\\envs\\interp4\\lib\\site-packages\\shap\\explainers\\kernel.py:545: UserWarning: l1_reg=\"auto\" is deprecated and in the next version (v0.29) the behavior will change from a conditional use of AIC to simply \"num_features(10)\"!\n",
      "  \"l1_reg=\\\"auto\\\" is deprecated and in the next version (v0.29) the behavior will change from a \" \\\n",
      "C:\\Users\\bezeran\\AppData\\Local\\conda\\conda\\envs\\interp4\\lib\\site-packages\\shap\\explainers\\kernel.py:545: UserWarning: l1_reg=\"auto\" is deprecated and in the next version (v0.29) the behavior will change from a conditional use of AIC to simply \"num_features(10)\"!\n",
      "  \"l1_reg=\\\"auto\\\" is deprecated and in the next version (v0.29) the behavior will change from a \" \\\n",
      "C:\\Users\\bezeran\\AppData\\Local\\conda\\conda\\envs\\interp4\\lib\\site-packages\\shap\\explainers\\kernel.py:545: UserWarning: l1_reg=\"auto\" is deprecated and in the next version (v0.29) the behavior will change from a conditional use of AIC to simply \"num_features(10)\"!\n",
      "  \"l1_reg=\\\"auto\\\" is deprecated and in the next version (v0.29) the behavior will change from a \" \\\n",
      "C:\\Users\\bezeran\\AppData\\Local\\conda\\conda\\envs\\interp4\\lib\\site-packages\\shap\\explainers\\kernel.py:545: UserWarning: l1_reg=\"auto\" is deprecated and in the next version (v0.29) the behavior will change from a conditional use of AIC to simply \"num_features(10)\"!\n",
      "  \"l1_reg=\\\"auto\\\" is deprecated and in the next version (v0.29) the behavior will change from a \" \\\n",
      "C:\\Users\\bezeran\\AppData\\Local\\conda\\conda\\envs\\interp4\\lib\\site-packages\\shap\\explainers\\kernel.py:545: UserWarning: l1_reg=\"auto\" is deprecated and in the next version (v0.29) the behavior will change from a conditional use of AIC to simply \"num_features(10)\"!\n",
      "  \"l1_reg=\\\"auto\\\" is deprecated and in the next version (v0.29) the behavior will change from a \" \\\n",
      "C:\\Users\\bezeran\\AppData\\Local\\conda\\conda\\envs\\interp4\\lib\\site-packages\\shap\\explainers\\kernel.py:545: UserWarning: l1_reg=\"auto\" is deprecated and in the next version (v0.29) the behavior will change from a conditional use of AIC to simply \"num_features(10)\"!\n",
      "  \"l1_reg=\\\"auto\\\" is deprecated and in the next version (v0.29) the behavior will change from a \" \\\n",
      "C:\\Users\\bezeran\\AppData\\Local\\conda\\conda\\envs\\interp4\\lib\\site-packages\\shap\\explainers\\kernel.py:545: UserWarning: l1_reg=\"auto\" is deprecated and in the next version (v0.29) the behavior will change from a conditional use of AIC to simply \"num_features(10)\"!\n",
      "  \"l1_reg=\\\"auto\\\" is deprecated and in the next version (v0.29) the behavior will change from a \" \\\n",
      "C:\\Users\\bezeran\\AppData\\Local\\conda\\conda\\envs\\interp4\\lib\\site-packages\\shap\\explainers\\kernel.py:545: UserWarning: l1_reg=\"auto\" is deprecated and in the next version (v0.29) the behavior will change from a conditional use of AIC to simply \"num_features(10)\"!\n",
      "  \"l1_reg=\\\"auto\\\" is deprecated and in the next version (v0.29) the behavior will change from a \" \\\n",
      "C:\\Users\\bezeran\\AppData\\Local\\conda\\conda\\envs\\interp4\\lib\\site-packages\\shap\\explainers\\kernel.py:545: UserWarning: l1_reg=\"auto\" is deprecated and in the next version (v0.29) the behavior will change from a conditional use of AIC to simply \"num_features(10)\"!\n",
      "  \"l1_reg=\\\"auto\\\" is deprecated and in the next version (v0.29) the behavior will change from a \" \\\n",
      "C:\\Users\\bezeran\\AppData\\Local\\conda\\conda\\envs\\interp4\\lib\\site-packages\\shap\\explainers\\kernel.py:545: UserWarning: l1_reg=\"auto\" is deprecated and in the next version (v0.29) the behavior will change from a conditional use of AIC to simply \"num_features(10)\"!\n",
      "  \"l1_reg=\\\"auto\\\" is deprecated and in the next version (v0.29) the behavior will change from a \" \\\n",
      "C:\\Users\\bezeran\\AppData\\Local\\conda\\conda\\envs\\interp4\\lib\\site-packages\\shap\\explainers\\kernel.py:545: UserWarning: l1_reg=\"auto\" is deprecated and in the next version (v0.29) the behavior will change from a conditional use of AIC to simply \"num_features(10)\"!\n",
      "  \"l1_reg=\\\"auto\\\" is deprecated and in the next version (v0.29) the behavior will change from a \" \\\n",
      "C:\\Users\\bezeran\\AppData\\Local\\conda\\conda\\envs\\interp4\\lib\\site-packages\\shap\\explainers\\kernel.py:545: UserWarning: l1_reg=\"auto\" is deprecated and in the next version (v0.29) the behavior will change from a conditional use of AIC to simply \"num_features(10)\"!\n",
      "  \"l1_reg=\\\"auto\\\" is deprecated and in the next version (v0.29) the behavior will change from a \" \\\n"
     ]
    },
    {
     "name": "stderr",
     "output_type": "stream",
     "text": [
      "C:\\Users\\bezeran\\AppData\\Local\\conda\\conda\\envs\\interp4\\lib\\site-packages\\shap\\explainers\\kernel.py:545: UserWarning: l1_reg=\"auto\" is deprecated and in the next version (v0.29) the behavior will change from a conditional use of AIC to simply \"num_features(10)\"!\n",
      "  \"l1_reg=\\\"auto\\\" is deprecated and in the next version (v0.29) the behavior will change from a \" \\\n",
      "C:\\Users\\bezeran\\AppData\\Local\\conda\\conda\\envs\\interp4\\lib\\site-packages\\shap\\explainers\\kernel.py:545: UserWarning: l1_reg=\"auto\" is deprecated and in the next version (v0.29) the behavior will change from a conditional use of AIC to simply \"num_features(10)\"!\n",
      "  \"l1_reg=\\\"auto\\\" is deprecated and in the next version (v0.29) the behavior will change from a \" \\\n",
      "C:\\Users\\bezeran\\AppData\\Local\\conda\\conda\\envs\\interp4\\lib\\site-packages\\shap\\explainers\\kernel.py:545: UserWarning: l1_reg=\"auto\" is deprecated and in the next version (v0.29) the behavior will change from a conditional use of AIC to simply \"num_features(10)\"!\n",
      "  \"l1_reg=\\\"auto\\\" is deprecated and in the next version (v0.29) the behavior will change from a \" \\\n",
      "C:\\Users\\bezeran\\AppData\\Local\\conda\\conda\\envs\\interp4\\lib\\site-packages\\shap\\explainers\\kernel.py:545: UserWarning: l1_reg=\"auto\" is deprecated and in the next version (v0.29) the behavior will change from a conditional use of AIC to simply \"num_features(10)\"!\n",
      "  \"l1_reg=\\\"auto\\\" is deprecated and in the next version (v0.29) the behavior will change from a \" \\\n",
      "C:\\Users\\bezeran\\AppData\\Local\\conda\\conda\\envs\\interp4\\lib\\site-packages\\shap\\explainers\\kernel.py:545: UserWarning: l1_reg=\"auto\" is deprecated and in the next version (v0.29) the behavior will change from a conditional use of AIC to simply \"num_features(10)\"!\n",
      "  \"l1_reg=\\\"auto\\\" is deprecated and in the next version (v0.29) the behavior will change from a \" \\\n",
      "C:\\Users\\bezeran\\AppData\\Local\\conda\\conda\\envs\\interp4\\lib\\site-packages\\shap\\explainers\\kernel.py:545: UserWarning: l1_reg=\"auto\" is deprecated and in the next version (v0.29) the behavior will change from a conditional use of AIC to simply \"num_features(10)\"!\n",
      "  \"l1_reg=\\\"auto\\\" is deprecated and in the next version (v0.29) the behavior will change from a \" \\\n",
      "C:\\Users\\bezeran\\AppData\\Local\\conda\\conda\\envs\\interp4\\lib\\site-packages\\shap\\explainers\\kernel.py:545: UserWarning: l1_reg=\"auto\" is deprecated and in the next version (v0.29) the behavior will change from a conditional use of AIC to simply \"num_features(10)\"!\n",
      "  \"l1_reg=\\\"auto\\\" is deprecated and in the next version (v0.29) the behavior will change from a \" \\\n",
      "C:\\Users\\bezeran\\AppData\\Local\\conda\\conda\\envs\\interp4\\lib\\site-packages\\shap\\explainers\\kernel.py:545: UserWarning: l1_reg=\"auto\" is deprecated and in the next version (v0.29) the behavior will change from a conditional use of AIC to simply \"num_features(10)\"!\n",
      "  \"l1_reg=\\\"auto\\\" is deprecated and in the next version (v0.29) the behavior will change from a \" \\\n",
      "C:\\Users\\bezeran\\AppData\\Local\\conda\\conda\\envs\\interp4\\lib\\site-packages\\shap\\explainers\\kernel.py:545: UserWarning: l1_reg=\"auto\" is deprecated and in the next version (v0.29) the behavior will change from a conditional use of AIC to simply \"num_features(10)\"!\n",
      "  \"l1_reg=\\\"auto\\\" is deprecated and in the next version (v0.29) the behavior will change from a \" \\\n",
      "C:\\Users\\bezeran\\AppData\\Local\\conda\\conda\\envs\\interp4\\lib\\site-packages\\shap\\explainers\\kernel.py:545: UserWarning: l1_reg=\"auto\" is deprecated and in the next version (v0.29) the behavior will change from a conditional use of AIC to simply \"num_features(10)\"!\n",
      "  \"l1_reg=\\\"auto\\\" is deprecated and in the next version (v0.29) the behavior will change from a \" \\\n",
      "C:\\Users\\bezeran\\AppData\\Local\\conda\\conda\\envs\\interp4\\lib\\site-packages\\shap\\explainers\\kernel.py:545: UserWarning: l1_reg=\"auto\" is deprecated and in the next version (v0.29) the behavior will change from a conditional use of AIC to simply \"num_features(10)\"!\n",
      "  \"l1_reg=\\\"auto\\\" is deprecated and in the next version (v0.29) the behavior will change from a \" \\\n",
      "C:\\Users\\bezeran\\AppData\\Local\\conda\\conda\\envs\\interp4\\lib\\site-packages\\shap\\explainers\\kernel.py:545: UserWarning: l1_reg=\"auto\" is deprecated and in the next version (v0.29) the behavior will change from a conditional use of AIC to simply \"num_features(10)\"!\n",
      "  \"l1_reg=\\\"auto\\\" is deprecated and in the next version (v0.29) the behavior will change from a \" \\\n",
      "C:\\Users\\bezeran\\AppData\\Local\\conda\\conda\\envs\\interp4\\lib\\site-packages\\shap\\explainers\\kernel.py:545: UserWarning: l1_reg=\"auto\" is deprecated and in the next version (v0.29) the behavior will change from a conditional use of AIC to simply \"num_features(10)\"!\n",
      "  \"l1_reg=\\\"auto\\\" is deprecated and in the next version (v0.29) the behavior will change from a \" \\\n",
      "C:\\Users\\bezeran\\AppData\\Local\\conda\\conda\\envs\\interp4\\lib\\site-packages\\shap\\explainers\\kernel.py:545: UserWarning: l1_reg=\"auto\" is deprecated and in the next version (v0.29) the behavior will change from a conditional use of AIC to simply \"num_features(10)\"!\n",
      "  \"l1_reg=\\\"auto\\\" is deprecated and in the next version (v0.29) the behavior will change from a \" \\\n",
      "C:\\Users\\bezeran\\AppData\\Local\\conda\\conda\\envs\\interp4\\lib\\site-packages\\shap\\explainers\\kernel.py:545: UserWarning: l1_reg=\"auto\" is deprecated and in the next version (v0.29) the behavior will change from a conditional use of AIC to simply \"num_features(10)\"!\n",
      "  \"l1_reg=\\\"auto\\\" is deprecated and in the next version (v0.29) the behavior will change from a \" \\\n",
      "C:\\Users\\bezeran\\AppData\\Local\\conda\\conda\\envs\\interp4\\lib\\site-packages\\shap\\explainers\\kernel.py:545: UserWarning: l1_reg=\"auto\" is deprecated and in the next version (v0.29) the behavior will change from a conditional use of AIC to simply \"num_features(10)\"!\n",
      "  \"l1_reg=\\\"auto\\\" is deprecated and in the next version (v0.29) the behavior will change from a \" \\\n",
      "C:\\Users\\bezeran\\AppData\\Local\\conda\\conda\\envs\\interp4\\lib\\site-packages\\shap\\explainers\\kernel.py:545: UserWarning: l1_reg=\"auto\" is deprecated and in the next version (v0.29) the behavior will change from a conditional use of AIC to simply \"num_features(10)\"!\n",
      "  \"l1_reg=\\\"auto\\\" is deprecated and in the next version (v0.29) the behavior will change from a \" \\\n",
      "C:\\Users\\bezeran\\AppData\\Local\\conda\\conda\\envs\\interp4\\lib\\site-packages\\shap\\explainers\\kernel.py:545: UserWarning: l1_reg=\"auto\" is deprecated and in the next version (v0.29) the behavior will change from a conditional use of AIC to simply \"num_features(10)\"!\n",
      "  \"l1_reg=\\\"auto\\\" is deprecated and in the next version (v0.29) the behavior will change from a \" \\\n",
      "C:\\Users\\bezeran\\AppData\\Local\\conda\\conda\\envs\\interp4\\lib\\site-packages\\shap\\explainers\\kernel.py:545: UserWarning: l1_reg=\"auto\" is deprecated and in the next version (v0.29) the behavior will change from a conditional use of AIC to simply \"num_features(10)\"!\n",
      "  \"l1_reg=\\\"auto\\\" is deprecated and in the next version (v0.29) the behavior will change from a \" \\\n",
      "C:\\Users\\bezeran\\AppData\\Local\\conda\\conda\\envs\\interp4\\lib\\site-packages\\shap\\explainers\\kernel.py:545: UserWarning: l1_reg=\"auto\" is deprecated and in the next version (v0.29) the behavior will change from a conditional use of AIC to simply \"num_features(10)\"!\n",
      "  \"l1_reg=\\\"auto\\\" is deprecated and in the next version (v0.29) the behavior will change from a \" \\\n",
      "C:\\Users\\bezeran\\AppData\\Local\\conda\\conda\\envs\\interp4\\lib\\site-packages\\shap\\explainers\\kernel.py:545: UserWarning: l1_reg=\"auto\" is deprecated and in the next version (v0.29) the behavior will change from a conditional use of AIC to simply \"num_features(10)\"!\n",
      "  \"l1_reg=\\\"auto\\\" is deprecated and in the next version (v0.29) the behavior will change from a \" \\\n",
      "C:\\Users\\bezeran\\AppData\\Local\\conda\\conda\\envs\\interp4\\lib\\site-packages\\shap\\explainers\\kernel.py:545: UserWarning: l1_reg=\"auto\" is deprecated and in the next version (v0.29) the behavior will change from a conditional use of AIC to simply \"num_features(10)\"!\n",
      "  \"l1_reg=\\\"auto\\\" is deprecated and in the next version (v0.29) the behavior will change from a \" \\\n",
      "C:\\Users\\bezeran\\AppData\\Local\\conda\\conda\\envs\\interp4\\lib\\site-packages\\shap\\explainers\\kernel.py:545: UserWarning: l1_reg=\"auto\" is deprecated and in the next version (v0.29) the behavior will change from a conditional use of AIC to simply \"num_features(10)\"!\n",
      "  \"l1_reg=\\\"auto\\\" is deprecated and in the next version (v0.29) the behavior will change from a \" \\\n"
     ]
    },
    {
     "name": "stderr",
     "output_type": "stream",
     "text": [
      "C:\\Users\\bezeran\\AppData\\Local\\conda\\conda\\envs\\interp4\\lib\\site-packages\\shap\\explainers\\kernel.py:545: UserWarning: l1_reg=\"auto\" is deprecated and in the next version (v0.29) the behavior will change from a conditional use of AIC to simply \"num_features(10)\"!\n",
      "  \"l1_reg=\\\"auto\\\" is deprecated and in the next version (v0.29) the behavior will change from a \" \\\n",
      "C:\\Users\\bezeran\\AppData\\Local\\conda\\conda\\envs\\interp4\\lib\\site-packages\\shap\\explainers\\kernel.py:545: UserWarning: l1_reg=\"auto\" is deprecated and in the next version (v0.29) the behavior will change from a conditional use of AIC to simply \"num_features(10)\"!\n",
      "  \"l1_reg=\\\"auto\\\" is deprecated and in the next version (v0.29) the behavior will change from a \" \\\n",
      "C:\\Users\\bezeran\\AppData\\Local\\conda\\conda\\envs\\interp4\\lib\\site-packages\\shap\\explainers\\kernel.py:545: UserWarning: l1_reg=\"auto\" is deprecated and in the next version (v0.29) the behavior will change from a conditional use of AIC to simply \"num_features(10)\"!\n",
      "  \"l1_reg=\\\"auto\\\" is deprecated and in the next version (v0.29) the behavior will change from a \" \\\n",
      "C:\\Users\\bezeran\\AppData\\Local\\conda\\conda\\envs\\interp4\\lib\\site-packages\\shap\\explainers\\kernel.py:545: UserWarning: l1_reg=\"auto\" is deprecated and in the next version (v0.29) the behavior will change from a conditional use of AIC to simply \"num_features(10)\"!\n",
      "  \"l1_reg=\\\"auto\\\" is deprecated and in the next version (v0.29) the behavior will change from a \" \\\n",
      "C:\\Users\\bezeran\\AppData\\Local\\conda\\conda\\envs\\interp4\\lib\\site-packages\\shap\\explainers\\kernel.py:545: UserWarning: l1_reg=\"auto\" is deprecated and in the next version (v0.29) the behavior will change from a conditional use of AIC to simply \"num_features(10)\"!\n",
      "  \"l1_reg=\\\"auto\\\" is deprecated and in the next version (v0.29) the behavior will change from a \" \\\n",
      "C:\\Users\\bezeran\\AppData\\Local\\conda\\conda\\envs\\interp4\\lib\\site-packages\\shap\\explainers\\kernel.py:545: UserWarning: l1_reg=\"auto\" is deprecated and in the next version (v0.29) the behavior will change from a conditional use of AIC to simply \"num_features(10)\"!\n",
      "  \"l1_reg=\\\"auto\\\" is deprecated and in the next version (v0.29) the behavior will change from a \" \\\n",
      "C:\\Users\\bezeran\\AppData\\Local\\conda\\conda\\envs\\interp4\\lib\\site-packages\\shap\\explainers\\kernel.py:545: UserWarning: l1_reg=\"auto\" is deprecated and in the next version (v0.29) the behavior will change from a conditional use of AIC to simply \"num_features(10)\"!\n",
      "  \"l1_reg=\\\"auto\\\" is deprecated and in the next version (v0.29) the behavior will change from a \" \\\n",
      "C:\\Users\\bezeran\\AppData\\Local\\conda\\conda\\envs\\interp4\\lib\\site-packages\\shap\\explainers\\kernel.py:545: UserWarning: l1_reg=\"auto\" is deprecated and in the next version (v0.29) the behavior will change from a conditional use of AIC to simply \"num_features(10)\"!\n",
      "  \"l1_reg=\\\"auto\\\" is deprecated and in the next version (v0.29) the behavior will change from a \" \\\n",
      "C:\\Users\\bezeran\\AppData\\Local\\conda\\conda\\envs\\interp4\\lib\\site-packages\\shap\\explainers\\kernel.py:545: UserWarning: l1_reg=\"auto\" is deprecated and in the next version (v0.29) the behavior will change from a conditional use of AIC to simply \"num_features(10)\"!\n",
      "  \"l1_reg=\\\"auto\\\" is deprecated and in the next version (v0.29) the behavior will change from a \" \\\n",
      "C:\\Users\\bezeran\\AppData\\Local\\conda\\conda\\envs\\interp4\\lib\\site-packages\\shap\\explainers\\kernel.py:545: UserWarning: l1_reg=\"auto\" is deprecated and in the next version (v0.29) the behavior will change from a conditional use of AIC to simply \"num_features(10)\"!\n",
      "  \"l1_reg=\\\"auto\\\" is deprecated and in the next version (v0.29) the behavior will change from a \" \\\n",
      "C:\\Users\\bezeran\\AppData\\Local\\conda\\conda\\envs\\interp4\\lib\\site-packages\\shap\\explainers\\kernel.py:545: UserWarning: l1_reg=\"auto\" is deprecated and in the next version (v0.29) the behavior will change from a conditional use of AIC to simply \"num_features(10)\"!\n",
      "  \"l1_reg=\\\"auto\\\" is deprecated and in the next version (v0.29) the behavior will change from a \" \\\n",
      "C:\\Users\\bezeran\\AppData\\Local\\conda\\conda\\envs\\interp4\\lib\\site-packages\\shap\\explainers\\kernel.py:545: UserWarning: l1_reg=\"auto\" is deprecated and in the next version (v0.29) the behavior will change from a conditional use of AIC to simply \"num_features(10)\"!\n",
      "  \"l1_reg=\\\"auto\\\" is deprecated and in the next version (v0.29) the behavior will change from a \" \\\n",
      "C:\\Users\\bezeran\\AppData\\Local\\conda\\conda\\envs\\interp4\\lib\\site-packages\\shap\\explainers\\kernel.py:545: UserWarning: l1_reg=\"auto\" is deprecated and in the next version (v0.29) the behavior will change from a conditional use of AIC to simply \"num_features(10)\"!\n",
      "  \"l1_reg=\\\"auto\\\" is deprecated and in the next version (v0.29) the behavior will change from a \" \\\n",
      "C:\\Users\\bezeran\\AppData\\Local\\conda\\conda\\envs\\interp4\\lib\\site-packages\\shap\\explainers\\kernel.py:545: UserWarning: l1_reg=\"auto\" is deprecated and in the next version (v0.29) the behavior will change from a conditional use of AIC to simply \"num_features(10)\"!\n",
      "  \"l1_reg=\\\"auto\\\" is deprecated and in the next version (v0.29) the behavior will change from a \" \\\n",
      "C:\\Users\\bezeran\\AppData\\Local\\conda\\conda\\envs\\interp4\\lib\\site-packages\\shap\\explainers\\kernel.py:545: UserWarning: l1_reg=\"auto\" is deprecated and in the next version (v0.29) the behavior will change from a conditional use of AIC to simply \"num_features(10)\"!\n",
      "  \"l1_reg=\\\"auto\\\" is deprecated and in the next version (v0.29) the behavior will change from a \" \\\n",
      "C:\\Users\\bezeran\\AppData\\Local\\conda\\conda\\envs\\interp4\\lib\\site-packages\\shap\\explainers\\kernel.py:545: UserWarning: l1_reg=\"auto\" is deprecated and in the next version (v0.29) the behavior will change from a conditional use of AIC to simply \"num_features(10)\"!\n",
      "  \"l1_reg=\\\"auto\\\" is deprecated and in the next version (v0.29) the behavior will change from a \" \\\n",
      "C:\\Users\\bezeran\\AppData\\Local\\conda\\conda\\envs\\interp4\\lib\\site-packages\\shap\\explainers\\kernel.py:545: UserWarning: l1_reg=\"auto\" is deprecated and in the next version (v0.29) the behavior will change from a conditional use of AIC to simply \"num_features(10)\"!\n",
      "  \"l1_reg=\\\"auto\\\" is deprecated and in the next version (v0.29) the behavior will change from a \" \\\n",
      "C:\\Users\\bezeran\\AppData\\Local\\conda\\conda\\envs\\interp4\\lib\\site-packages\\shap\\explainers\\kernel.py:545: UserWarning: l1_reg=\"auto\" is deprecated and in the next version (v0.29) the behavior will change from a conditional use of AIC to simply \"num_features(10)\"!\n",
      "  \"l1_reg=\\\"auto\\\" is deprecated and in the next version (v0.29) the behavior will change from a \" \\\n",
      "C:\\Users\\bezeran\\AppData\\Local\\conda\\conda\\envs\\interp4\\lib\\site-packages\\shap\\explainers\\kernel.py:545: UserWarning: l1_reg=\"auto\" is deprecated and in the next version (v0.29) the behavior will change from a conditional use of AIC to simply \"num_features(10)\"!\n",
      "  \"l1_reg=\\\"auto\\\" is deprecated and in the next version (v0.29) the behavior will change from a \" \\\n",
      "C:\\Users\\bezeran\\AppData\\Local\\conda\\conda\\envs\\interp4\\lib\\site-packages\\shap\\explainers\\kernel.py:545: UserWarning: l1_reg=\"auto\" is deprecated and in the next version (v0.29) the behavior will change from a conditional use of AIC to simply \"num_features(10)\"!\n",
      "  \"l1_reg=\\\"auto\\\" is deprecated and in the next version (v0.29) the behavior will change from a \" \\\n",
      "C:\\Users\\bezeran\\AppData\\Local\\conda\\conda\\envs\\interp4\\lib\\site-packages\\shap\\explainers\\kernel.py:545: UserWarning: l1_reg=\"auto\" is deprecated and in the next version (v0.29) the behavior will change from a conditional use of AIC to simply \"num_features(10)\"!\n",
      "  \"l1_reg=\\\"auto\\\" is deprecated and in the next version (v0.29) the behavior will change from a \" \\\n",
      "C:\\Users\\bezeran\\AppData\\Local\\conda\\conda\\envs\\interp4\\lib\\site-packages\\shap\\explainers\\kernel.py:545: UserWarning: l1_reg=\"auto\" is deprecated and in the next version (v0.29) the behavior will change from a conditional use of AIC to simply \"num_features(10)\"!\n",
      "  \"l1_reg=\\\"auto\\\" is deprecated and in the next version (v0.29) the behavior will change from a \" \\\n",
      "C:\\Users\\bezeran\\AppData\\Local\\conda\\conda\\envs\\interp4\\lib\\site-packages\\shap\\explainers\\kernel.py:545: UserWarning: l1_reg=\"auto\" is deprecated and in the next version (v0.29) the behavior will change from a conditional use of AIC to simply \"num_features(10)\"!\n",
      "  \"l1_reg=\\\"auto\\\" is deprecated and in the next version (v0.29) the behavior will change from a \" \\\n"
     ]
    },
    {
     "name": "stderr",
     "output_type": "stream",
     "text": [
      "C:\\Users\\bezeran\\AppData\\Local\\conda\\conda\\envs\\interp4\\lib\\site-packages\\shap\\explainers\\kernel.py:545: UserWarning: l1_reg=\"auto\" is deprecated and in the next version (v0.29) the behavior will change from a conditional use of AIC to simply \"num_features(10)\"!\n",
      "  \"l1_reg=\\\"auto\\\" is deprecated and in the next version (v0.29) the behavior will change from a \" \\\n",
      "C:\\Users\\bezeran\\AppData\\Local\\conda\\conda\\envs\\interp4\\lib\\site-packages\\shap\\explainers\\kernel.py:545: UserWarning: l1_reg=\"auto\" is deprecated and in the next version (v0.29) the behavior will change from a conditional use of AIC to simply \"num_features(10)\"!\n",
      "  \"l1_reg=\\\"auto\\\" is deprecated and in the next version (v0.29) the behavior will change from a \" \\\n",
      "C:\\Users\\bezeran\\AppData\\Local\\conda\\conda\\envs\\interp4\\lib\\site-packages\\shap\\explainers\\kernel.py:545: UserWarning: l1_reg=\"auto\" is deprecated and in the next version (v0.29) the behavior will change from a conditional use of AIC to simply \"num_features(10)\"!\n",
      "  \"l1_reg=\\\"auto\\\" is deprecated and in the next version (v0.29) the behavior will change from a \" \\\n",
      "C:\\Users\\bezeran\\AppData\\Local\\conda\\conda\\envs\\interp4\\lib\\site-packages\\shap\\explainers\\kernel.py:545: UserWarning: l1_reg=\"auto\" is deprecated and in the next version (v0.29) the behavior will change from a conditional use of AIC to simply \"num_features(10)\"!\n",
      "  \"l1_reg=\\\"auto\\\" is deprecated and in the next version (v0.29) the behavior will change from a \" \\\n",
      "C:\\Users\\bezeran\\AppData\\Local\\conda\\conda\\envs\\interp4\\lib\\site-packages\\shap\\explainers\\kernel.py:545: UserWarning: l1_reg=\"auto\" is deprecated and in the next version (v0.29) the behavior will change from a conditional use of AIC to simply \"num_features(10)\"!\n",
      "  \"l1_reg=\\\"auto\\\" is deprecated and in the next version (v0.29) the behavior will change from a \" \\\n",
      "C:\\Users\\bezeran\\AppData\\Local\\conda\\conda\\envs\\interp4\\lib\\site-packages\\shap\\explainers\\kernel.py:545: UserWarning: l1_reg=\"auto\" is deprecated and in the next version (v0.29) the behavior will change from a conditional use of AIC to simply \"num_features(10)\"!\n",
      "  \"l1_reg=\\\"auto\\\" is deprecated and in the next version (v0.29) the behavior will change from a \" \\\n",
      "C:\\Users\\bezeran\\AppData\\Local\\conda\\conda\\envs\\interp4\\lib\\site-packages\\shap\\explainers\\kernel.py:545: UserWarning: l1_reg=\"auto\" is deprecated and in the next version (v0.29) the behavior will change from a conditional use of AIC to simply \"num_features(10)\"!\n",
      "  \"l1_reg=\\\"auto\\\" is deprecated and in the next version (v0.29) the behavior will change from a \" \\\n",
      "C:\\Users\\bezeran\\AppData\\Local\\conda\\conda\\envs\\interp4\\lib\\site-packages\\shap\\explainers\\kernel.py:545: UserWarning: l1_reg=\"auto\" is deprecated and in the next version (v0.29) the behavior will change from a conditional use of AIC to simply \"num_features(10)\"!\n",
      "  \"l1_reg=\\\"auto\\\" is deprecated and in the next version (v0.29) the behavior will change from a \" \\\n",
      "C:\\Users\\bezeran\\AppData\\Local\\conda\\conda\\envs\\interp4\\lib\\site-packages\\shap\\explainers\\kernel.py:545: UserWarning: l1_reg=\"auto\" is deprecated and in the next version (v0.29) the behavior will change from a conditional use of AIC to simply \"num_features(10)\"!\n",
      "  \"l1_reg=\\\"auto\\\" is deprecated and in the next version (v0.29) the behavior will change from a \" \\\n",
      "C:\\Users\\bezeran\\AppData\\Local\\conda\\conda\\envs\\interp4\\lib\\site-packages\\shap\\explainers\\kernel.py:545: UserWarning: l1_reg=\"auto\" is deprecated and in the next version (v0.29) the behavior will change from a conditional use of AIC to simply \"num_features(10)\"!\n",
      "  \"l1_reg=\\\"auto\\\" is deprecated and in the next version (v0.29) the behavior will change from a \" \\\n",
      "C:\\Users\\bezeran\\AppData\\Local\\conda\\conda\\envs\\interp4\\lib\\site-packages\\shap\\explainers\\kernel.py:545: UserWarning: l1_reg=\"auto\" is deprecated and in the next version (v0.29) the behavior will change from a conditional use of AIC to simply \"num_features(10)\"!\n",
      "  \"l1_reg=\\\"auto\\\" is deprecated and in the next version (v0.29) the behavior will change from a \" \\\n",
      "C:\\Users\\bezeran\\AppData\\Local\\conda\\conda\\envs\\interp4\\lib\\site-packages\\shap\\explainers\\kernel.py:545: UserWarning: l1_reg=\"auto\" is deprecated and in the next version (v0.29) the behavior will change from a conditional use of AIC to simply \"num_features(10)\"!\n",
      "  \"l1_reg=\\\"auto\\\" is deprecated and in the next version (v0.29) the behavior will change from a \" \\\n",
      "C:\\Users\\bezeran\\AppData\\Local\\conda\\conda\\envs\\interp4\\lib\\site-packages\\shap\\explainers\\kernel.py:545: UserWarning: l1_reg=\"auto\" is deprecated and in the next version (v0.29) the behavior will change from a conditional use of AIC to simply \"num_features(10)\"!\n",
      "  \"l1_reg=\\\"auto\\\" is deprecated and in the next version (v0.29) the behavior will change from a \" \\\n",
      "C:\\Users\\bezeran\\AppData\\Local\\conda\\conda\\envs\\interp4\\lib\\site-packages\\shap\\explainers\\kernel.py:545: UserWarning: l1_reg=\"auto\" is deprecated and in the next version (v0.29) the behavior will change from a conditional use of AIC to simply \"num_features(10)\"!\n",
      "  \"l1_reg=\\\"auto\\\" is deprecated and in the next version (v0.29) the behavior will change from a \" \\\n",
      "C:\\Users\\bezeran\\AppData\\Local\\conda\\conda\\envs\\interp4\\lib\\site-packages\\shap\\explainers\\kernel.py:545: UserWarning: l1_reg=\"auto\" is deprecated and in the next version (v0.29) the behavior will change from a conditional use of AIC to simply \"num_features(10)\"!\n",
      "  \"l1_reg=\\\"auto\\\" is deprecated and in the next version (v0.29) the behavior will change from a \" \\\n",
      "C:\\Users\\bezeran\\AppData\\Local\\conda\\conda\\envs\\interp4\\lib\\site-packages\\shap\\explainers\\kernel.py:545: UserWarning: l1_reg=\"auto\" is deprecated and in the next version (v0.29) the behavior will change from a conditional use of AIC to simply \"num_features(10)\"!\n",
      "  \"l1_reg=\\\"auto\\\" is deprecated and in the next version (v0.29) the behavior will change from a \" \\\n",
      "C:\\Users\\bezeran\\AppData\\Local\\conda\\conda\\envs\\interp4\\lib\\site-packages\\shap\\explainers\\kernel.py:545: UserWarning: l1_reg=\"auto\" is deprecated and in the next version (v0.29) the behavior will change from a conditional use of AIC to simply \"num_features(10)\"!\n",
      "  \"l1_reg=\\\"auto\\\" is deprecated and in the next version (v0.29) the behavior will change from a \" \\\n",
      "C:\\Users\\bezeran\\AppData\\Local\\conda\\conda\\envs\\interp4\\lib\\site-packages\\shap\\explainers\\kernel.py:545: UserWarning: l1_reg=\"auto\" is deprecated and in the next version (v0.29) the behavior will change from a conditional use of AIC to simply \"num_features(10)\"!\n",
      "  \"l1_reg=\\\"auto\\\" is deprecated and in the next version (v0.29) the behavior will change from a \" \\\n",
      "C:\\Users\\bezeran\\AppData\\Local\\conda\\conda\\envs\\interp4\\lib\\site-packages\\shap\\explainers\\kernel.py:545: UserWarning: l1_reg=\"auto\" is deprecated and in the next version (v0.29) the behavior will change from a conditional use of AIC to simply \"num_features(10)\"!\n",
      "  \"l1_reg=\\\"auto\\\" is deprecated and in the next version (v0.29) the behavior will change from a \" \\\n",
      "C:\\Users\\bezeran\\AppData\\Local\\conda\\conda\\envs\\interp4\\lib\\site-packages\\shap\\explainers\\kernel.py:545: UserWarning: l1_reg=\"auto\" is deprecated and in the next version (v0.29) the behavior will change from a conditional use of AIC to simply \"num_features(10)\"!\n",
      "  \"l1_reg=\\\"auto\\\" is deprecated and in the next version (v0.29) the behavior will change from a \" \\\n",
      "C:\\Users\\bezeran\\AppData\\Local\\conda\\conda\\envs\\interp4\\lib\\site-packages\\shap\\explainers\\kernel.py:545: UserWarning: l1_reg=\"auto\" is deprecated and in the next version (v0.29) the behavior will change from a conditional use of AIC to simply \"num_features(10)\"!\n",
      "  \"l1_reg=\\\"auto\\\" is deprecated and in the next version (v0.29) the behavior will change from a \" \\\n",
      "C:\\Users\\bezeran\\AppData\\Local\\conda\\conda\\envs\\interp4\\lib\\site-packages\\shap\\explainers\\kernel.py:545: UserWarning: l1_reg=\"auto\" is deprecated and in the next version (v0.29) the behavior will change from a conditional use of AIC to simply \"num_features(10)\"!\n",
      "  \"l1_reg=\\\"auto\\\" is deprecated and in the next version (v0.29) the behavior will change from a \" \\\n",
      "C:\\Users\\bezeran\\AppData\\Local\\conda\\conda\\envs\\interp4\\lib\\site-packages\\shap\\explainers\\kernel.py:545: UserWarning: l1_reg=\"auto\" is deprecated and in the next version (v0.29) the behavior will change from a conditional use of AIC to simply \"num_features(10)\"!\n",
      "  \"l1_reg=\\\"auto\\\" is deprecated and in the next version (v0.29) the behavior will change from a \" \\\n"
     ]
    },
    {
     "name": "stderr",
     "output_type": "stream",
     "text": [
      "C:\\Users\\bezeran\\AppData\\Local\\conda\\conda\\envs\\interp4\\lib\\site-packages\\shap\\explainers\\kernel.py:545: UserWarning: l1_reg=\"auto\" is deprecated and in the next version (v0.29) the behavior will change from a conditional use of AIC to simply \"num_features(10)\"!\n",
      "  \"l1_reg=\\\"auto\\\" is deprecated and in the next version (v0.29) the behavior will change from a \" \\\n",
      "C:\\Users\\bezeran\\AppData\\Local\\conda\\conda\\envs\\interp4\\lib\\site-packages\\shap\\explainers\\kernel.py:545: UserWarning: l1_reg=\"auto\" is deprecated and in the next version (v0.29) the behavior will change from a conditional use of AIC to simply \"num_features(10)\"!\n",
      "  \"l1_reg=\\\"auto\\\" is deprecated and in the next version (v0.29) the behavior will change from a \" \\\n",
      "C:\\Users\\bezeran\\AppData\\Local\\conda\\conda\\envs\\interp4\\lib\\site-packages\\shap\\explainers\\kernel.py:545: UserWarning: l1_reg=\"auto\" is deprecated and in the next version (v0.29) the behavior will change from a conditional use of AIC to simply \"num_features(10)\"!\n",
      "  \"l1_reg=\\\"auto\\\" is deprecated and in the next version (v0.29) the behavior will change from a \" \\\n",
      "C:\\Users\\bezeran\\AppData\\Local\\conda\\conda\\envs\\interp4\\lib\\site-packages\\shap\\explainers\\kernel.py:545: UserWarning: l1_reg=\"auto\" is deprecated and in the next version (v0.29) the behavior will change from a conditional use of AIC to simply \"num_features(10)\"!\n",
      "  \"l1_reg=\\\"auto\\\" is deprecated and in the next version (v0.29) the behavior will change from a \" \\\n",
      "C:\\Users\\bezeran\\AppData\\Local\\conda\\conda\\envs\\interp4\\lib\\site-packages\\shap\\explainers\\kernel.py:545: UserWarning: l1_reg=\"auto\" is deprecated and in the next version (v0.29) the behavior will change from a conditional use of AIC to simply \"num_features(10)\"!\n",
      "  \"l1_reg=\\\"auto\\\" is deprecated and in the next version (v0.29) the behavior will change from a \" \\\n",
      "C:\\Users\\bezeran\\AppData\\Local\\conda\\conda\\envs\\interp4\\lib\\site-packages\\shap\\explainers\\kernel.py:545: UserWarning: l1_reg=\"auto\" is deprecated and in the next version (v0.29) the behavior will change from a conditional use of AIC to simply \"num_features(10)\"!\n",
      "  \"l1_reg=\\\"auto\\\" is deprecated and in the next version (v0.29) the behavior will change from a \" \\\n",
      "C:\\Users\\bezeran\\AppData\\Local\\conda\\conda\\envs\\interp4\\lib\\site-packages\\shap\\explainers\\kernel.py:545: UserWarning: l1_reg=\"auto\" is deprecated and in the next version (v0.29) the behavior will change from a conditional use of AIC to simply \"num_features(10)\"!\n",
      "  \"l1_reg=\\\"auto\\\" is deprecated and in the next version (v0.29) the behavior will change from a \" \\\n",
      "C:\\Users\\bezeran\\AppData\\Local\\conda\\conda\\envs\\interp4\\lib\\site-packages\\shap\\explainers\\kernel.py:545: UserWarning: l1_reg=\"auto\" is deprecated and in the next version (v0.29) the behavior will change from a conditional use of AIC to simply \"num_features(10)\"!\n",
      "  \"l1_reg=\\\"auto\\\" is deprecated and in the next version (v0.29) the behavior will change from a \" \\\n",
      "C:\\Users\\bezeran\\AppData\\Local\\conda\\conda\\envs\\interp4\\lib\\site-packages\\shap\\explainers\\kernel.py:545: UserWarning: l1_reg=\"auto\" is deprecated and in the next version (v0.29) the behavior will change from a conditional use of AIC to simply \"num_features(10)\"!\n",
      "  \"l1_reg=\\\"auto\\\" is deprecated and in the next version (v0.29) the behavior will change from a \" \\\n",
      "C:\\Users\\bezeran\\AppData\\Local\\conda\\conda\\envs\\interp4\\lib\\site-packages\\shap\\explainers\\kernel.py:545: UserWarning: l1_reg=\"auto\" is deprecated and in the next version (v0.29) the behavior will change from a conditional use of AIC to simply \"num_features(10)\"!\n",
      "  \"l1_reg=\\\"auto\\\" is deprecated and in the next version (v0.29) the behavior will change from a \" \\\n",
      "C:\\Users\\bezeran\\AppData\\Local\\conda\\conda\\envs\\interp4\\lib\\site-packages\\shap\\explainers\\kernel.py:545: UserWarning: l1_reg=\"auto\" is deprecated and in the next version (v0.29) the behavior will change from a conditional use of AIC to simply \"num_features(10)\"!\n",
      "  \"l1_reg=\\\"auto\\\" is deprecated and in the next version (v0.29) the behavior will change from a \" \\\n",
      "C:\\Users\\bezeran\\AppData\\Local\\conda\\conda\\envs\\interp4\\lib\\site-packages\\shap\\explainers\\kernel.py:545: UserWarning: l1_reg=\"auto\" is deprecated and in the next version (v0.29) the behavior will change from a conditional use of AIC to simply \"num_features(10)\"!\n",
      "  \"l1_reg=\\\"auto\\\" is deprecated and in the next version (v0.29) the behavior will change from a \" \\\n",
      "C:\\Users\\bezeran\\AppData\\Local\\conda\\conda\\envs\\interp4\\lib\\site-packages\\shap\\explainers\\kernel.py:545: UserWarning: l1_reg=\"auto\" is deprecated and in the next version (v0.29) the behavior will change from a conditional use of AIC to simply \"num_features(10)\"!\n",
      "  \"l1_reg=\\\"auto\\\" is deprecated and in the next version (v0.29) the behavior will change from a \" \\\n",
      "C:\\Users\\bezeran\\AppData\\Local\\conda\\conda\\envs\\interp4\\lib\\site-packages\\shap\\explainers\\kernel.py:545: UserWarning: l1_reg=\"auto\" is deprecated and in the next version (v0.29) the behavior will change from a conditional use of AIC to simply \"num_features(10)\"!\n",
      "  \"l1_reg=\\\"auto\\\" is deprecated and in the next version (v0.29) the behavior will change from a \" \\\n",
      "C:\\Users\\bezeran\\AppData\\Local\\conda\\conda\\envs\\interp4\\lib\\site-packages\\shap\\explainers\\kernel.py:545: UserWarning: l1_reg=\"auto\" is deprecated and in the next version (v0.29) the behavior will change from a conditional use of AIC to simply \"num_features(10)\"!\n",
      "  \"l1_reg=\\\"auto\\\" is deprecated and in the next version (v0.29) the behavior will change from a \" \\\n",
      "C:\\Users\\bezeran\\AppData\\Local\\conda\\conda\\envs\\interp4\\lib\\site-packages\\shap\\explainers\\kernel.py:545: UserWarning: l1_reg=\"auto\" is deprecated and in the next version (v0.29) the behavior will change from a conditional use of AIC to simply \"num_features(10)\"!\n",
      "  \"l1_reg=\\\"auto\\\" is deprecated and in the next version (v0.29) the behavior will change from a \" \\\n",
      "C:\\Users\\bezeran\\AppData\\Local\\conda\\conda\\envs\\interp4\\lib\\site-packages\\shap\\explainers\\kernel.py:545: UserWarning: l1_reg=\"auto\" is deprecated and in the next version (v0.29) the behavior will change from a conditional use of AIC to simply \"num_features(10)\"!\n",
      "  \"l1_reg=\\\"auto\\\" is deprecated and in the next version (v0.29) the behavior will change from a \" \\\n",
      "C:\\Users\\bezeran\\AppData\\Local\\conda\\conda\\envs\\interp4\\lib\\site-packages\\shap\\explainers\\kernel.py:545: UserWarning: l1_reg=\"auto\" is deprecated and in the next version (v0.29) the behavior will change from a conditional use of AIC to simply \"num_features(10)\"!\n",
      "  \"l1_reg=\\\"auto\\\" is deprecated and in the next version (v0.29) the behavior will change from a \" \\\n",
      "C:\\Users\\bezeran\\AppData\\Local\\conda\\conda\\envs\\interp4\\lib\\site-packages\\shap\\explainers\\kernel.py:545: UserWarning: l1_reg=\"auto\" is deprecated and in the next version (v0.29) the behavior will change from a conditional use of AIC to simply \"num_features(10)\"!\n",
      "  \"l1_reg=\\\"auto\\\" is deprecated and in the next version (v0.29) the behavior will change from a \" \\\n",
      "C:\\Users\\bezeran\\AppData\\Local\\conda\\conda\\envs\\interp4\\lib\\site-packages\\shap\\explainers\\kernel.py:545: UserWarning: l1_reg=\"auto\" is deprecated and in the next version (v0.29) the behavior will change from a conditional use of AIC to simply \"num_features(10)\"!\n",
      "  \"l1_reg=\\\"auto\\\" is deprecated and in the next version (v0.29) the behavior will change from a \" \\\n",
      "C:\\Users\\bezeran\\AppData\\Local\\conda\\conda\\envs\\interp4\\lib\\site-packages\\shap\\explainers\\kernel.py:545: UserWarning: l1_reg=\"auto\" is deprecated and in the next version (v0.29) the behavior will change from a conditional use of AIC to simply \"num_features(10)\"!\n",
      "  \"l1_reg=\\\"auto\\\" is deprecated and in the next version (v0.29) the behavior will change from a \" \\\n",
      "C:\\Users\\bezeran\\AppData\\Local\\conda\\conda\\envs\\interp4\\lib\\site-packages\\shap\\explainers\\kernel.py:545: UserWarning: l1_reg=\"auto\" is deprecated and in the next version (v0.29) the behavior will change from a conditional use of AIC to simply \"num_features(10)\"!\n",
      "  \"l1_reg=\\\"auto\\\" is deprecated and in the next version (v0.29) the behavior will change from a \" \\\n",
      "C:\\Users\\bezeran\\AppData\\Local\\conda\\conda\\envs\\interp4\\lib\\site-packages\\shap\\explainers\\kernel.py:545: UserWarning: l1_reg=\"auto\" is deprecated and in the next version (v0.29) the behavior will change from a conditional use of AIC to simply \"num_features(10)\"!\n",
      "  \"l1_reg=\\\"auto\\\" is deprecated and in the next version (v0.29) the behavior will change from a \" \\\n"
     ]
    },
    {
     "name": "stderr",
     "output_type": "stream",
     "text": [
      "C:\\Users\\bezeran\\AppData\\Local\\conda\\conda\\envs\\interp4\\lib\\site-packages\\shap\\explainers\\kernel.py:545: UserWarning: l1_reg=\"auto\" is deprecated and in the next version (v0.29) the behavior will change from a conditional use of AIC to simply \"num_features(10)\"!\n",
      "  \"l1_reg=\\\"auto\\\" is deprecated and in the next version (v0.29) the behavior will change from a \" \\\n",
      "C:\\Users\\bezeran\\AppData\\Local\\conda\\conda\\envs\\interp4\\lib\\site-packages\\shap\\explainers\\kernel.py:545: UserWarning: l1_reg=\"auto\" is deprecated and in the next version (v0.29) the behavior will change from a conditional use of AIC to simply \"num_features(10)\"!\n",
      "  \"l1_reg=\\\"auto\\\" is deprecated and in the next version (v0.29) the behavior will change from a \" \\\n",
      "C:\\Users\\bezeran\\AppData\\Local\\conda\\conda\\envs\\interp4\\lib\\site-packages\\shap\\explainers\\kernel.py:545: UserWarning: l1_reg=\"auto\" is deprecated and in the next version (v0.29) the behavior will change from a conditional use of AIC to simply \"num_features(10)\"!\n",
      "  \"l1_reg=\\\"auto\\\" is deprecated and in the next version (v0.29) the behavior will change from a \" \\\n",
      "C:\\Users\\bezeran\\AppData\\Local\\conda\\conda\\envs\\interp4\\lib\\site-packages\\shap\\explainers\\kernel.py:545: UserWarning: l1_reg=\"auto\" is deprecated and in the next version (v0.29) the behavior will change from a conditional use of AIC to simply \"num_features(10)\"!\n",
      "  \"l1_reg=\\\"auto\\\" is deprecated and in the next version (v0.29) the behavior will change from a \" \\\n",
      "C:\\Users\\bezeran\\AppData\\Local\\conda\\conda\\envs\\interp4\\lib\\site-packages\\shap\\explainers\\kernel.py:545: UserWarning: l1_reg=\"auto\" is deprecated and in the next version (v0.29) the behavior will change from a conditional use of AIC to simply \"num_features(10)\"!\n",
      "  \"l1_reg=\\\"auto\\\" is deprecated and in the next version (v0.29) the behavior will change from a \" \\\n",
      "C:\\Users\\bezeran\\AppData\\Local\\conda\\conda\\envs\\interp4\\lib\\site-packages\\shap\\explainers\\kernel.py:545: UserWarning: l1_reg=\"auto\" is deprecated and in the next version (v0.29) the behavior will change from a conditional use of AIC to simply \"num_features(10)\"!\n",
      "  \"l1_reg=\\\"auto\\\" is deprecated and in the next version (v0.29) the behavior will change from a \" \\\n",
      "C:\\Users\\bezeran\\AppData\\Local\\conda\\conda\\envs\\interp4\\lib\\site-packages\\shap\\explainers\\kernel.py:545: UserWarning: l1_reg=\"auto\" is deprecated and in the next version (v0.29) the behavior will change from a conditional use of AIC to simply \"num_features(10)\"!\n",
      "  \"l1_reg=\\\"auto\\\" is deprecated and in the next version (v0.29) the behavior will change from a \" \\\n",
      "C:\\Users\\bezeran\\AppData\\Local\\conda\\conda\\envs\\interp4\\lib\\site-packages\\shap\\explainers\\kernel.py:545: UserWarning: l1_reg=\"auto\" is deprecated and in the next version (v0.29) the behavior will change from a conditional use of AIC to simply \"num_features(10)\"!\n",
      "  \"l1_reg=\\\"auto\\\" is deprecated and in the next version (v0.29) the behavior will change from a \" \\\n",
      "C:\\Users\\bezeran\\AppData\\Local\\conda\\conda\\envs\\interp4\\lib\\site-packages\\shap\\explainers\\kernel.py:545: UserWarning: l1_reg=\"auto\" is deprecated and in the next version (v0.29) the behavior will change from a conditional use of AIC to simply \"num_features(10)\"!\n",
      "  \"l1_reg=\\\"auto\\\" is deprecated and in the next version (v0.29) the behavior will change from a \" \\\n",
      "C:\\Users\\bezeran\\AppData\\Local\\conda\\conda\\envs\\interp4\\lib\\site-packages\\shap\\explainers\\kernel.py:545: UserWarning: l1_reg=\"auto\" is deprecated and in the next version (v0.29) the behavior will change from a conditional use of AIC to simply \"num_features(10)\"!\n",
      "  \"l1_reg=\\\"auto\\\" is deprecated and in the next version (v0.29) the behavior will change from a \" \\\n",
      "C:\\Users\\bezeran\\AppData\\Local\\conda\\conda\\envs\\interp4\\lib\\site-packages\\shap\\explainers\\kernel.py:545: UserWarning: l1_reg=\"auto\" is deprecated and in the next version (v0.29) the behavior will change from a conditional use of AIC to simply \"num_features(10)\"!\n",
      "  \"l1_reg=\\\"auto\\\" is deprecated and in the next version (v0.29) the behavior will change from a \" \\\n",
      "C:\\Users\\bezeran\\AppData\\Local\\conda\\conda\\envs\\interp4\\lib\\site-packages\\shap\\explainers\\kernel.py:545: UserWarning: l1_reg=\"auto\" is deprecated and in the next version (v0.29) the behavior will change from a conditional use of AIC to simply \"num_features(10)\"!\n",
      "  \"l1_reg=\\\"auto\\\" is deprecated and in the next version (v0.29) the behavior will change from a \" \\\n",
      "C:\\Users\\bezeran\\AppData\\Local\\conda\\conda\\envs\\interp4\\lib\\site-packages\\shap\\explainers\\kernel.py:545: UserWarning: l1_reg=\"auto\" is deprecated and in the next version (v0.29) the behavior will change from a conditional use of AIC to simply \"num_features(10)\"!\n",
      "  \"l1_reg=\\\"auto\\\" is deprecated and in the next version (v0.29) the behavior will change from a \" \\\n",
      "C:\\Users\\bezeran\\AppData\\Local\\conda\\conda\\envs\\interp4\\lib\\site-packages\\shap\\explainers\\kernel.py:545: UserWarning: l1_reg=\"auto\" is deprecated and in the next version (v0.29) the behavior will change from a conditional use of AIC to simply \"num_features(10)\"!\n",
      "  \"l1_reg=\\\"auto\\\" is deprecated and in the next version (v0.29) the behavior will change from a \" \\\n",
      "C:\\Users\\bezeran\\AppData\\Local\\conda\\conda\\envs\\interp4\\lib\\site-packages\\shap\\explainers\\kernel.py:545: UserWarning: l1_reg=\"auto\" is deprecated and in the next version (v0.29) the behavior will change from a conditional use of AIC to simply \"num_features(10)\"!\n",
      "  \"l1_reg=\\\"auto\\\" is deprecated and in the next version (v0.29) the behavior will change from a \" \\\n",
      "C:\\Users\\bezeran\\AppData\\Local\\conda\\conda\\envs\\interp4\\lib\\site-packages\\shap\\explainers\\kernel.py:545: UserWarning: l1_reg=\"auto\" is deprecated and in the next version (v0.29) the behavior will change from a conditional use of AIC to simply \"num_features(10)\"!\n",
      "  \"l1_reg=\\\"auto\\\" is deprecated and in the next version (v0.29) the behavior will change from a \" \\\n",
      "C:\\Users\\bezeran\\AppData\\Local\\conda\\conda\\envs\\interp4\\lib\\site-packages\\shap\\explainers\\kernel.py:545: UserWarning: l1_reg=\"auto\" is deprecated and in the next version (v0.29) the behavior will change from a conditional use of AIC to simply \"num_features(10)\"!\n",
      "  \"l1_reg=\\\"auto\\\" is deprecated and in the next version (v0.29) the behavior will change from a \" \\\n",
      "C:\\Users\\bezeran\\AppData\\Local\\conda\\conda\\envs\\interp4\\lib\\site-packages\\shap\\explainers\\kernel.py:545: UserWarning: l1_reg=\"auto\" is deprecated and in the next version (v0.29) the behavior will change from a conditional use of AIC to simply \"num_features(10)\"!\n",
      "  \"l1_reg=\\\"auto\\\" is deprecated and in the next version (v0.29) the behavior will change from a \" \\\n",
      "C:\\Users\\bezeran\\AppData\\Local\\conda\\conda\\envs\\interp4\\lib\\site-packages\\shap\\explainers\\kernel.py:545: UserWarning: l1_reg=\"auto\" is deprecated and in the next version (v0.29) the behavior will change from a conditional use of AIC to simply \"num_features(10)\"!\n",
      "  \"l1_reg=\\\"auto\\\" is deprecated and in the next version (v0.29) the behavior will change from a \" \\\n",
      "C:\\Users\\bezeran\\AppData\\Local\\conda\\conda\\envs\\interp4\\lib\\site-packages\\shap\\explainers\\kernel.py:545: UserWarning: l1_reg=\"auto\" is deprecated and in the next version (v0.29) the behavior will change from a conditional use of AIC to simply \"num_features(10)\"!\n",
      "  \"l1_reg=\\\"auto\\\" is deprecated and in the next version (v0.29) the behavior will change from a \" \\\n",
      "C:\\Users\\bezeran\\AppData\\Local\\conda\\conda\\envs\\interp4\\lib\\site-packages\\shap\\explainers\\kernel.py:545: UserWarning: l1_reg=\"auto\" is deprecated and in the next version (v0.29) the behavior will change from a conditional use of AIC to simply \"num_features(10)\"!\n",
      "  \"l1_reg=\\\"auto\\\" is deprecated and in the next version (v0.29) the behavior will change from a \" \\\n",
      "C:\\Users\\bezeran\\AppData\\Local\\conda\\conda\\envs\\interp4\\lib\\site-packages\\shap\\explainers\\kernel.py:545: UserWarning: l1_reg=\"auto\" is deprecated and in the next version (v0.29) the behavior will change from a conditional use of AIC to simply \"num_features(10)\"!\n",
      "  \"l1_reg=\\\"auto\\\" is deprecated and in the next version (v0.29) the behavior will change from a \" \\\n",
      "C:\\Users\\bezeran\\AppData\\Local\\conda\\conda\\envs\\interp4\\lib\\site-packages\\shap\\explainers\\kernel.py:545: UserWarning: l1_reg=\"auto\" is deprecated and in the next version (v0.29) the behavior will change from a conditional use of AIC to simply \"num_features(10)\"!\n",
      "  \"l1_reg=\\\"auto\\\" is deprecated and in the next version (v0.29) the behavior will change from a \" \\\n"
     ]
    },
    {
     "name": "stderr",
     "output_type": "stream",
     "text": [
      "C:\\Users\\bezeran\\AppData\\Local\\conda\\conda\\envs\\interp4\\lib\\site-packages\\shap\\explainers\\kernel.py:545: UserWarning: l1_reg=\"auto\" is deprecated and in the next version (v0.29) the behavior will change from a conditional use of AIC to simply \"num_features(10)\"!\n",
      "  \"l1_reg=\\\"auto\\\" is deprecated and in the next version (v0.29) the behavior will change from a \" \\\n",
      "C:\\Users\\bezeran\\AppData\\Local\\conda\\conda\\envs\\interp4\\lib\\site-packages\\shap\\explainers\\kernel.py:545: UserWarning: l1_reg=\"auto\" is deprecated and in the next version (v0.29) the behavior will change from a conditional use of AIC to simply \"num_features(10)\"!\n",
      "  \"l1_reg=\\\"auto\\\" is deprecated and in the next version (v0.29) the behavior will change from a \" \\\n",
      "C:\\Users\\bezeran\\AppData\\Local\\conda\\conda\\envs\\interp4\\lib\\site-packages\\shap\\explainers\\kernel.py:545: UserWarning: l1_reg=\"auto\" is deprecated and in the next version (v0.29) the behavior will change from a conditional use of AIC to simply \"num_features(10)\"!\n",
      "  \"l1_reg=\\\"auto\\\" is deprecated and in the next version (v0.29) the behavior will change from a \" \\\n",
      "C:\\Users\\bezeran\\AppData\\Local\\conda\\conda\\envs\\interp4\\lib\\site-packages\\shap\\explainers\\kernel.py:545: UserWarning: l1_reg=\"auto\" is deprecated and in the next version (v0.29) the behavior will change from a conditional use of AIC to simply \"num_features(10)\"!\n",
      "  \"l1_reg=\\\"auto\\\" is deprecated and in the next version (v0.29) the behavior will change from a \" \\\n",
      "C:\\Users\\bezeran\\AppData\\Local\\conda\\conda\\envs\\interp4\\lib\\site-packages\\shap\\explainers\\kernel.py:545: UserWarning: l1_reg=\"auto\" is deprecated and in the next version (v0.29) the behavior will change from a conditional use of AIC to simply \"num_features(10)\"!\n",
      "  \"l1_reg=\\\"auto\\\" is deprecated and in the next version (v0.29) the behavior will change from a \" \\\n",
      "C:\\Users\\bezeran\\AppData\\Local\\conda\\conda\\envs\\interp4\\lib\\site-packages\\shap\\explainers\\kernel.py:545: UserWarning: l1_reg=\"auto\" is deprecated and in the next version (v0.29) the behavior will change from a conditional use of AIC to simply \"num_features(10)\"!\n",
      "  \"l1_reg=\\\"auto\\\" is deprecated and in the next version (v0.29) the behavior will change from a \" \\\n",
      "C:\\Users\\bezeran\\AppData\\Local\\conda\\conda\\envs\\interp4\\lib\\site-packages\\shap\\explainers\\kernel.py:545: UserWarning: l1_reg=\"auto\" is deprecated and in the next version (v0.29) the behavior will change from a conditional use of AIC to simply \"num_features(10)\"!\n",
      "  \"l1_reg=\\\"auto\\\" is deprecated and in the next version (v0.29) the behavior will change from a \" \\\n",
      "C:\\Users\\bezeran\\AppData\\Local\\conda\\conda\\envs\\interp4\\lib\\site-packages\\shap\\explainers\\kernel.py:545: UserWarning: l1_reg=\"auto\" is deprecated and in the next version (v0.29) the behavior will change from a conditional use of AIC to simply \"num_features(10)\"!\n",
      "  \"l1_reg=\\\"auto\\\" is deprecated and in the next version (v0.29) the behavior will change from a \" \\\n",
      "C:\\Users\\bezeran\\AppData\\Local\\conda\\conda\\envs\\interp4\\lib\\site-packages\\shap\\explainers\\kernel.py:545: UserWarning: l1_reg=\"auto\" is deprecated and in the next version (v0.29) the behavior will change from a conditional use of AIC to simply \"num_features(10)\"!\n",
      "  \"l1_reg=\\\"auto\\\" is deprecated and in the next version (v0.29) the behavior will change from a \" \\\n",
      "C:\\Users\\bezeran\\AppData\\Local\\conda\\conda\\envs\\interp4\\lib\\site-packages\\shap\\explainers\\kernel.py:545: UserWarning: l1_reg=\"auto\" is deprecated and in the next version (v0.29) the behavior will change from a conditional use of AIC to simply \"num_features(10)\"!\n",
      "  \"l1_reg=\\\"auto\\\" is deprecated and in the next version (v0.29) the behavior will change from a \" \\\n",
      "C:\\Users\\bezeran\\AppData\\Local\\conda\\conda\\envs\\interp4\\lib\\site-packages\\shap\\explainers\\kernel.py:545: UserWarning: l1_reg=\"auto\" is deprecated and in the next version (v0.29) the behavior will change from a conditional use of AIC to simply \"num_features(10)\"!\n",
      "  \"l1_reg=\\\"auto\\\" is deprecated and in the next version (v0.29) the behavior will change from a \" \\\n",
      "C:\\Users\\bezeran\\AppData\\Local\\conda\\conda\\envs\\interp4\\lib\\site-packages\\shap\\explainers\\kernel.py:545: UserWarning: l1_reg=\"auto\" is deprecated and in the next version (v0.29) the behavior will change from a conditional use of AIC to simply \"num_features(10)\"!\n",
      "  \"l1_reg=\\\"auto\\\" is deprecated and in the next version (v0.29) the behavior will change from a \" \\\n",
      "C:\\Users\\bezeran\\AppData\\Local\\conda\\conda\\envs\\interp4\\lib\\site-packages\\shap\\explainers\\kernel.py:545: UserWarning: l1_reg=\"auto\" is deprecated and in the next version (v0.29) the behavior will change from a conditional use of AIC to simply \"num_features(10)\"!\n",
      "  \"l1_reg=\\\"auto\\\" is deprecated and in the next version (v0.29) the behavior will change from a \" \\\n",
      "C:\\Users\\bezeran\\AppData\\Local\\conda\\conda\\envs\\interp4\\lib\\site-packages\\shap\\explainers\\kernel.py:545: UserWarning: l1_reg=\"auto\" is deprecated and in the next version (v0.29) the behavior will change from a conditional use of AIC to simply \"num_features(10)\"!\n",
      "  \"l1_reg=\\\"auto\\\" is deprecated and in the next version (v0.29) the behavior will change from a \" \\\n",
      "C:\\Users\\bezeran\\AppData\\Local\\conda\\conda\\envs\\interp4\\lib\\site-packages\\shap\\explainers\\kernel.py:545: UserWarning: l1_reg=\"auto\" is deprecated and in the next version (v0.29) the behavior will change from a conditional use of AIC to simply \"num_features(10)\"!\n",
      "  \"l1_reg=\\\"auto\\\" is deprecated and in the next version (v0.29) the behavior will change from a \" \\\n",
      "C:\\Users\\bezeran\\AppData\\Local\\conda\\conda\\envs\\interp4\\lib\\site-packages\\shap\\explainers\\kernel.py:545: UserWarning: l1_reg=\"auto\" is deprecated and in the next version (v0.29) the behavior will change from a conditional use of AIC to simply \"num_features(10)\"!\n",
      "  \"l1_reg=\\\"auto\\\" is deprecated and in the next version (v0.29) the behavior will change from a \" \\\n",
      "C:\\Users\\bezeran\\AppData\\Local\\conda\\conda\\envs\\interp4\\lib\\site-packages\\shap\\explainers\\kernel.py:545: UserWarning: l1_reg=\"auto\" is deprecated and in the next version (v0.29) the behavior will change from a conditional use of AIC to simply \"num_features(10)\"!\n",
      "  \"l1_reg=\\\"auto\\\" is deprecated and in the next version (v0.29) the behavior will change from a \" \\\n",
      "C:\\Users\\bezeran\\AppData\\Local\\conda\\conda\\envs\\interp4\\lib\\site-packages\\shap\\explainers\\kernel.py:545: UserWarning: l1_reg=\"auto\" is deprecated and in the next version (v0.29) the behavior will change from a conditional use of AIC to simply \"num_features(10)\"!\n",
      "  \"l1_reg=\\\"auto\\\" is deprecated and in the next version (v0.29) the behavior will change from a \" \\\n",
      "C:\\Users\\bezeran\\AppData\\Local\\conda\\conda\\envs\\interp4\\lib\\site-packages\\shap\\explainers\\kernel.py:545: UserWarning: l1_reg=\"auto\" is deprecated and in the next version (v0.29) the behavior will change from a conditional use of AIC to simply \"num_features(10)\"!\n",
      "  \"l1_reg=\\\"auto\\\" is deprecated and in the next version (v0.29) the behavior will change from a \" \\\n",
      "C:\\Users\\bezeran\\AppData\\Local\\conda\\conda\\envs\\interp4\\lib\\site-packages\\shap\\explainers\\kernel.py:545: UserWarning: l1_reg=\"auto\" is deprecated and in the next version (v0.29) the behavior will change from a conditional use of AIC to simply \"num_features(10)\"!\n",
      "  \"l1_reg=\\\"auto\\\" is deprecated and in the next version (v0.29) the behavior will change from a \" \\\n",
      "C:\\Users\\bezeran\\AppData\\Local\\conda\\conda\\envs\\interp4\\lib\\site-packages\\shap\\explainers\\kernel.py:545: UserWarning: l1_reg=\"auto\" is deprecated and in the next version (v0.29) the behavior will change from a conditional use of AIC to simply \"num_features(10)\"!\n",
      "  \"l1_reg=\\\"auto\\\" is deprecated and in the next version (v0.29) the behavior will change from a \" \\\n",
      "C:\\Users\\bezeran\\AppData\\Local\\conda\\conda\\envs\\interp4\\lib\\site-packages\\shap\\explainers\\kernel.py:545: UserWarning: l1_reg=\"auto\" is deprecated and in the next version (v0.29) the behavior will change from a conditional use of AIC to simply \"num_features(10)\"!\n",
      "  \"l1_reg=\\\"auto\\\" is deprecated and in the next version (v0.29) the behavior will change from a \" \\\n",
      "C:\\Users\\bezeran\\AppData\\Local\\conda\\conda\\envs\\interp4\\lib\\site-packages\\shap\\explainers\\kernel.py:545: UserWarning: l1_reg=\"auto\" is deprecated and in the next version (v0.29) the behavior will change from a conditional use of AIC to simply \"num_features(10)\"!\n",
      "  \"l1_reg=\\\"auto\\\" is deprecated and in the next version (v0.29) the behavior will change from a \" \\\n"
     ]
    },
    {
     "name": "stderr",
     "output_type": "stream",
     "text": [
      "C:\\Users\\bezeran\\AppData\\Local\\conda\\conda\\envs\\interp4\\lib\\site-packages\\shap\\explainers\\kernel.py:545: UserWarning: l1_reg=\"auto\" is deprecated and in the next version (v0.29) the behavior will change from a conditional use of AIC to simply \"num_features(10)\"!\n",
      "  \"l1_reg=\\\"auto\\\" is deprecated and in the next version (v0.29) the behavior will change from a \" \\\n",
      "C:\\Users\\bezeran\\AppData\\Local\\conda\\conda\\envs\\interp4\\lib\\site-packages\\shap\\explainers\\kernel.py:545: UserWarning: l1_reg=\"auto\" is deprecated and in the next version (v0.29) the behavior will change from a conditional use of AIC to simply \"num_features(10)\"!\n",
      "  \"l1_reg=\\\"auto\\\" is deprecated and in the next version (v0.29) the behavior will change from a \" \\\n",
      "C:\\Users\\bezeran\\AppData\\Local\\conda\\conda\\envs\\interp4\\lib\\site-packages\\shap\\explainers\\kernel.py:545: UserWarning: l1_reg=\"auto\" is deprecated and in the next version (v0.29) the behavior will change from a conditional use of AIC to simply \"num_features(10)\"!\n",
      "  \"l1_reg=\\\"auto\\\" is deprecated and in the next version (v0.29) the behavior will change from a \" \\\n",
      "C:\\Users\\bezeran\\AppData\\Local\\conda\\conda\\envs\\interp4\\lib\\site-packages\\shap\\explainers\\kernel.py:545: UserWarning: l1_reg=\"auto\" is deprecated and in the next version (v0.29) the behavior will change from a conditional use of AIC to simply \"num_features(10)\"!\n",
      "  \"l1_reg=\\\"auto\\\" is deprecated and in the next version (v0.29) the behavior will change from a \" \\\n",
      "C:\\Users\\bezeran\\AppData\\Local\\conda\\conda\\envs\\interp4\\lib\\site-packages\\shap\\explainers\\kernel.py:545: UserWarning: l1_reg=\"auto\" is deprecated and in the next version (v0.29) the behavior will change from a conditional use of AIC to simply \"num_features(10)\"!\n",
      "  \"l1_reg=\\\"auto\\\" is deprecated and in the next version (v0.29) the behavior will change from a \" \\\n",
      "C:\\Users\\bezeran\\AppData\\Local\\conda\\conda\\envs\\interp4\\lib\\site-packages\\shap\\explainers\\kernel.py:545: UserWarning: l1_reg=\"auto\" is deprecated and in the next version (v0.29) the behavior will change from a conditional use of AIC to simply \"num_features(10)\"!\n",
      "  \"l1_reg=\\\"auto\\\" is deprecated and in the next version (v0.29) the behavior will change from a \" \\\n",
      "C:\\Users\\bezeran\\AppData\\Local\\conda\\conda\\envs\\interp4\\lib\\site-packages\\shap\\explainers\\kernel.py:545: UserWarning: l1_reg=\"auto\" is deprecated and in the next version (v0.29) the behavior will change from a conditional use of AIC to simply \"num_features(10)\"!\n",
      "  \"l1_reg=\\\"auto\\\" is deprecated and in the next version (v0.29) the behavior will change from a \" \\\n",
      "C:\\Users\\bezeran\\AppData\\Local\\conda\\conda\\envs\\interp4\\lib\\site-packages\\shap\\explainers\\kernel.py:545: UserWarning: l1_reg=\"auto\" is deprecated and in the next version (v0.29) the behavior will change from a conditional use of AIC to simply \"num_features(10)\"!\n",
      "  \"l1_reg=\\\"auto\\\" is deprecated and in the next version (v0.29) the behavior will change from a \" \\\n",
      "C:\\Users\\bezeran\\AppData\\Local\\conda\\conda\\envs\\interp4\\lib\\site-packages\\shap\\explainers\\kernel.py:545: UserWarning: l1_reg=\"auto\" is deprecated and in the next version (v0.29) the behavior will change from a conditional use of AIC to simply \"num_features(10)\"!\n",
      "  \"l1_reg=\\\"auto\\\" is deprecated and in the next version (v0.29) the behavior will change from a \" \\\n",
      "C:\\Users\\bezeran\\AppData\\Local\\conda\\conda\\envs\\interp4\\lib\\site-packages\\shap\\explainers\\kernel.py:545: UserWarning: l1_reg=\"auto\" is deprecated and in the next version (v0.29) the behavior will change from a conditional use of AIC to simply \"num_features(10)\"!\n",
      "  \"l1_reg=\\\"auto\\\" is deprecated and in the next version (v0.29) the behavior will change from a \" \\\n",
      "C:\\Users\\bezeran\\AppData\\Local\\conda\\conda\\envs\\interp4\\lib\\site-packages\\shap\\explainers\\kernel.py:545: UserWarning: l1_reg=\"auto\" is deprecated and in the next version (v0.29) the behavior will change from a conditional use of AIC to simply \"num_features(10)\"!\n",
      "  \"l1_reg=\\\"auto\\\" is deprecated and in the next version (v0.29) the behavior will change from a \" \\\n",
      "C:\\Users\\bezeran\\AppData\\Local\\conda\\conda\\envs\\interp4\\lib\\site-packages\\shap\\explainers\\kernel.py:545: UserWarning: l1_reg=\"auto\" is deprecated and in the next version (v0.29) the behavior will change from a conditional use of AIC to simply \"num_features(10)\"!\n",
      "  \"l1_reg=\\\"auto\\\" is deprecated and in the next version (v0.29) the behavior will change from a \" \\\n",
      "C:\\Users\\bezeran\\AppData\\Local\\conda\\conda\\envs\\interp4\\lib\\site-packages\\shap\\explainers\\kernel.py:545: UserWarning: l1_reg=\"auto\" is deprecated and in the next version (v0.29) the behavior will change from a conditional use of AIC to simply \"num_features(10)\"!\n",
      "  \"l1_reg=\\\"auto\\\" is deprecated and in the next version (v0.29) the behavior will change from a \" \\\n",
      "C:\\Users\\bezeran\\AppData\\Local\\conda\\conda\\envs\\interp4\\lib\\site-packages\\shap\\explainers\\kernel.py:545: UserWarning: l1_reg=\"auto\" is deprecated and in the next version (v0.29) the behavior will change from a conditional use of AIC to simply \"num_features(10)\"!\n",
      "  \"l1_reg=\\\"auto\\\" is deprecated and in the next version (v0.29) the behavior will change from a \" \\\n",
      "C:\\Users\\bezeran\\AppData\\Local\\conda\\conda\\envs\\interp4\\lib\\site-packages\\shap\\explainers\\kernel.py:545: UserWarning: l1_reg=\"auto\" is deprecated and in the next version (v0.29) the behavior will change from a conditional use of AIC to simply \"num_features(10)\"!\n",
      "  \"l1_reg=\\\"auto\\\" is deprecated and in the next version (v0.29) the behavior will change from a \" \\\n",
      "C:\\Users\\bezeran\\AppData\\Local\\conda\\conda\\envs\\interp4\\lib\\site-packages\\shap\\explainers\\kernel.py:545: UserWarning: l1_reg=\"auto\" is deprecated and in the next version (v0.29) the behavior will change from a conditional use of AIC to simply \"num_features(10)\"!\n",
      "  \"l1_reg=\\\"auto\\\" is deprecated and in the next version (v0.29) the behavior will change from a \" \\\n",
      "C:\\Users\\bezeran\\AppData\\Local\\conda\\conda\\envs\\interp4\\lib\\site-packages\\shap\\explainers\\kernel.py:545: UserWarning: l1_reg=\"auto\" is deprecated and in the next version (v0.29) the behavior will change from a conditional use of AIC to simply \"num_features(10)\"!\n",
      "  \"l1_reg=\\\"auto\\\" is deprecated and in the next version (v0.29) the behavior will change from a \" \\\n",
      "C:\\Users\\bezeran\\AppData\\Local\\conda\\conda\\envs\\interp4\\lib\\site-packages\\shap\\explainers\\kernel.py:545: UserWarning: l1_reg=\"auto\" is deprecated and in the next version (v0.29) the behavior will change from a conditional use of AIC to simply \"num_features(10)\"!\n",
      "  \"l1_reg=\\\"auto\\\" is deprecated and in the next version (v0.29) the behavior will change from a \" \\\n",
      "C:\\Users\\bezeran\\AppData\\Local\\conda\\conda\\envs\\interp4\\lib\\site-packages\\shap\\explainers\\kernel.py:545: UserWarning: l1_reg=\"auto\" is deprecated and in the next version (v0.29) the behavior will change from a conditional use of AIC to simply \"num_features(10)\"!\n",
      "  \"l1_reg=\\\"auto\\\" is deprecated and in the next version (v0.29) the behavior will change from a \" \\\n",
      "C:\\Users\\bezeran\\AppData\\Local\\conda\\conda\\envs\\interp4\\lib\\site-packages\\shap\\explainers\\kernel.py:545: UserWarning: l1_reg=\"auto\" is deprecated and in the next version (v0.29) the behavior will change from a conditional use of AIC to simply \"num_features(10)\"!\n",
      "  \"l1_reg=\\\"auto\\\" is deprecated and in the next version (v0.29) the behavior will change from a \" \\\n",
      "C:\\Users\\bezeran\\AppData\\Local\\conda\\conda\\envs\\interp4\\lib\\site-packages\\shap\\explainers\\kernel.py:545: UserWarning: l1_reg=\"auto\" is deprecated and in the next version (v0.29) the behavior will change from a conditional use of AIC to simply \"num_features(10)\"!\n",
      "  \"l1_reg=\\\"auto\\\" is deprecated and in the next version (v0.29) the behavior will change from a \" \\\n",
      "C:\\Users\\bezeran\\AppData\\Local\\conda\\conda\\envs\\interp4\\lib\\site-packages\\shap\\explainers\\kernel.py:545: UserWarning: l1_reg=\"auto\" is deprecated and in the next version (v0.29) the behavior will change from a conditional use of AIC to simply \"num_features(10)\"!\n",
      "  \"l1_reg=\\\"auto\\\" is deprecated and in the next version (v0.29) the behavior will change from a \" \\\n",
      "C:\\Users\\bezeran\\AppData\\Local\\conda\\conda\\envs\\interp4\\lib\\site-packages\\shap\\explainers\\kernel.py:545: UserWarning: l1_reg=\"auto\" is deprecated and in the next version (v0.29) the behavior will change from a conditional use of AIC to simply \"num_features(10)\"!\n",
      "  \"l1_reg=\\\"auto\\\" is deprecated and in the next version (v0.29) the behavior will change from a \" \\\n"
     ]
    },
    {
     "name": "stderr",
     "output_type": "stream",
     "text": [
      "C:\\Users\\bezeran\\AppData\\Local\\conda\\conda\\envs\\interp4\\lib\\site-packages\\shap\\explainers\\kernel.py:545: UserWarning: l1_reg=\"auto\" is deprecated and in the next version (v0.29) the behavior will change from a conditional use of AIC to simply \"num_features(10)\"!\n",
      "  \"l1_reg=\\\"auto\\\" is deprecated and in the next version (v0.29) the behavior will change from a \" \\\n",
      "C:\\Users\\bezeran\\AppData\\Local\\conda\\conda\\envs\\interp4\\lib\\site-packages\\shap\\explainers\\kernel.py:545: UserWarning: l1_reg=\"auto\" is deprecated and in the next version (v0.29) the behavior will change from a conditional use of AIC to simply \"num_features(10)\"!\n",
      "  \"l1_reg=\\\"auto\\\" is deprecated and in the next version (v0.29) the behavior will change from a \" \\\n",
      "C:\\Users\\bezeran\\AppData\\Local\\conda\\conda\\envs\\interp4\\lib\\site-packages\\shap\\explainers\\kernel.py:545: UserWarning: l1_reg=\"auto\" is deprecated and in the next version (v0.29) the behavior will change from a conditional use of AIC to simply \"num_features(10)\"!\n",
      "  \"l1_reg=\\\"auto\\\" is deprecated and in the next version (v0.29) the behavior will change from a \" \\\n",
      "C:\\Users\\bezeran\\AppData\\Local\\conda\\conda\\envs\\interp4\\lib\\site-packages\\shap\\explainers\\kernel.py:545: UserWarning: l1_reg=\"auto\" is deprecated and in the next version (v0.29) the behavior will change from a conditional use of AIC to simply \"num_features(10)\"!\n",
      "  \"l1_reg=\\\"auto\\\" is deprecated and in the next version (v0.29) the behavior will change from a \" \\\n",
      "C:\\Users\\bezeran\\AppData\\Local\\conda\\conda\\envs\\interp4\\lib\\site-packages\\shap\\explainers\\kernel.py:545: UserWarning: l1_reg=\"auto\" is deprecated and in the next version (v0.29) the behavior will change from a conditional use of AIC to simply \"num_features(10)\"!\n",
      "  \"l1_reg=\\\"auto\\\" is deprecated and in the next version (v0.29) the behavior will change from a \" \\\n",
      "C:\\Users\\bezeran\\AppData\\Local\\conda\\conda\\envs\\interp4\\lib\\site-packages\\shap\\explainers\\kernel.py:545: UserWarning: l1_reg=\"auto\" is deprecated and in the next version (v0.29) the behavior will change from a conditional use of AIC to simply \"num_features(10)\"!\n",
      "  \"l1_reg=\\\"auto\\\" is deprecated and in the next version (v0.29) the behavior will change from a \" \\\n",
      "C:\\Users\\bezeran\\AppData\\Local\\conda\\conda\\envs\\interp4\\lib\\site-packages\\shap\\explainers\\kernel.py:545: UserWarning: l1_reg=\"auto\" is deprecated and in the next version (v0.29) the behavior will change from a conditional use of AIC to simply \"num_features(10)\"!\n",
      "  \"l1_reg=\\\"auto\\\" is deprecated and in the next version (v0.29) the behavior will change from a \" \\\n",
      "C:\\Users\\bezeran\\AppData\\Local\\conda\\conda\\envs\\interp4\\lib\\site-packages\\shap\\explainers\\kernel.py:545: UserWarning: l1_reg=\"auto\" is deprecated and in the next version (v0.29) the behavior will change from a conditional use of AIC to simply \"num_features(10)\"!\n",
      "  \"l1_reg=\\\"auto\\\" is deprecated and in the next version (v0.29) the behavior will change from a \" \\\n",
      "C:\\Users\\bezeran\\AppData\\Local\\conda\\conda\\envs\\interp4\\lib\\site-packages\\shap\\explainers\\kernel.py:545: UserWarning: l1_reg=\"auto\" is deprecated and in the next version (v0.29) the behavior will change from a conditional use of AIC to simply \"num_features(10)\"!\n",
      "  \"l1_reg=\\\"auto\\\" is deprecated and in the next version (v0.29) the behavior will change from a \" \\\n",
      "C:\\Users\\bezeran\\AppData\\Local\\conda\\conda\\envs\\interp4\\lib\\site-packages\\shap\\explainers\\kernel.py:545: UserWarning: l1_reg=\"auto\" is deprecated and in the next version (v0.29) the behavior will change from a conditional use of AIC to simply \"num_features(10)\"!\n",
      "  \"l1_reg=\\\"auto\\\" is deprecated and in the next version (v0.29) the behavior will change from a \" \\\n",
      "C:\\Users\\bezeran\\AppData\\Local\\conda\\conda\\envs\\interp4\\lib\\site-packages\\shap\\explainers\\kernel.py:545: UserWarning: l1_reg=\"auto\" is deprecated and in the next version (v0.29) the behavior will change from a conditional use of AIC to simply \"num_features(10)\"!\n",
      "  \"l1_reg=\\\"auto\\\" is deprecated and in the next version (v0.29) the behavior will change from a \" \\\n",
      "C:\\Users\\bezeran\\AppData\\Local\\conda\\conda\\envs\\interp4\\lib\\site-packages\\shap\\explainers\\kernel.py:545: UserWarning: l1_reg=\"auto\" is deprecated and in the next version (v0.29) the behavior will change from a conditional use of AIC to simply \"num_features(10)\"!\n",
      "  \"l1_reg=\\\"auto\\\" is deprecated and in the next version (v0.29) the behavior will change from a \" \\\n",
      "C:\\Users\\bezeran\\AppData\\Local\\conda\\conda\\envs\\interp4\\lib\\site-packages\\shap\\explainers\\kernel.py:545: UserWarning: l1_reg=\"auto\" is deprecated and in the next version (v0.29) the behavior will change from a conditional use of AIC to simply \"num_features(10)\"!\n",
      "  \"l1_reg=\\\"auto\\\" is deprecated and in the next version (v0.29) the behavior will change from a \" \\\n",
      "C:\\Users\\bezeran\\AppData\\Local\\conda\\conda\\envs\\interp4\\lib\\site-packages\\shap\\explainers\\kernel.py:545: UserWarning: l1_reg=\"auto\" is deprecated and in the next version (v0.29) the behavior will change from a conditional use of AIC to simply \"num_features(10)\"!\n",
      "  \"l1_reg=\\\"auto\\\" is deprecated and in the next version (v0.29) the behavior will change from a \" \\\n",
      "C:\\Users\\bezeran\\AppData\\Local\\conda\\conda\\envs\\interp4\\lib\\site-packages\\shap\\explainers\\kernel.py:545: UserWarning: l1_reg=\"auto\" is deprecated and in the next version (v0.29) the behavior will change from a conditional use of AIC to simply \"num_features(10)\"!\n",
      "  \"l1_reg=\\\"auto\\\" is deprecated and in the next version (v0.29) the behavior will change from a \" \\\n",
      "C:\\Users\\bezeran\\AppData\\Local\\conda\\conda\\envs\\interp4\\lib\\site-packages\\shap\\explainers\\kernel.py:545: UserWarning: l1_reg=\"auto\" is deprecated and in the next version (v0.29) the behavior will change from a conditional use of AIC to simply \"num_features(10)\"!\n",
      "  \"l1_reg=\\\"auto\\\" is deprecated and in the next version (v0.29) the behavior will change from a \" \\\n",
      "C:\\Users\\bezeran\\AppData\\Local\\conda\\conda\\envs\\interp4\\lib\\site-packages\\shap\\explainers\\kernel.py:545: UserWarning: l1_reg=\"auto\" is deprecated and in the next version (v0.29) the behavior will change from a conditional use of AIC to simply \"num_features(10)\"!\n",
      "  \"l1_reg=\\\"auto\\\" is deprecated and in the next version (v0.29) the behavior will change from a \" \\\n",
      "C:\\Users\\bezeran\\AppData\\Local\\conda\\conda\\envs\\interp4\\lib\\site-packages\\shap\\explainers\\kernel.py:545: UserWarning: l1_reg=\"auto\" is deprecated and in the next version (v0.29) the behavior will change from a conditional use of AIC to simply \"num_features(10)\"!\n",
      "  \"l1_reg=\\\"auto\\\" is deprecated and in the next version (v0.29) the behavior will change from a \" \\\n",
      "C:\\Users\\bezeran\\AppData\\Local\\conda\\conda\\envs\\interp4\\lib\\site-packages\\shap\\explainers\\kernel.py:545: UserWarning: l1_reg=\"auto\" is deprecated and in the next version (v0.29) the behavior will change from a conditional use of AIC to simply \"num_features(10)\"!\n",
      "  \"l1_reg=\\\"auto\\\" is deprecated and in the next version (v0.29) the behavior will change from a \" \\\n",
      "C:\\Users\\bezeran\\AppData\\Local\\conda\\conda\\envs\\interp4\\lib\\site-packages\\shap\\explainers\\kernel.py:545: UserWarning: l1_reg=\"auto\" is deprecated and in the next version (v0.29) the behavior will change from a conditional use of AIC to simply \"num_features(10)\"!\n",
      "  \"l1_reg=\\\"auto\\\" is deprecated and in the next version (v0.29) the behavior will change from a \" \\\n",
      "C:\\Users\\bezeran\\AppData\\Local\\conda\\conda\\envs\\interp4\\lib\\site-packages\\shap\\explainers\\kernel.py:545: UserWarning: l1_reg=\"auto\" is deprecated and in the next version (v0.29) the behavior will change from a conditional use of AIC to simply \"num_features(10)\"!\n",
      "  \"l1_reg=\\\"auto\\\" is deprecated and in the next version (v0.29) the behavior will change from a \" \\\n",
      "C:\\Users\\bezeran\\AppData\\Local\\conda\\conda\\envs\\interp4\\lib\\site-packages\\shap\\explainers\\kernel.py:545: UserWarning: l1_reg=\"auto\" is deprecated and in the next version (v0.29) the behavior will change from a conditional use of AIC to simply \"num_features(10)\"!\n",
      "  \"l1_reg=\\\"auto\\\" is deprecated and in the next version (v0.29) the behavior will change from a \" \\\n",
      "C:\\Users\\bezeran\\AppData\\Local\\conda\\conda\\envs\\interp4\\lib\\site-packages\\shap\\explainers\\kernel.py:545: UserWarning: l1_reg=\"auto\" is deprecated and in the next version (v0.29) the behavior will change from a conditional use of AIC to simply \"num_features(10)\"!\n",
      "  \"l1_reg=\\\"auto\\\" is deprecated and in the next version (v0.29) the behavior will change from a \" \\\n"
     ]
    },
    {
     "name": "stderr",
     "output_type": "stream",
     "text": [
      "C:\\Users\\bezeran\\AppData\\Local\\conda\\conda\\envs\\interp4\\lib\\site-packages\\shap\\explainers\\kernel.py:545: UserWarning: l1_reg=\"auto\" is deprecated and in the next version (v0.29) the behavior will change from a conditional use of AIC to simply \"num_features(10)\"!\n",
      "  \"l1_reg=\\\"auto\\\" is deprecated and in the next version (v0.29) the behavior will change from a \" \\\n",
      "C:\\Users\\bezeran\\AppData\\Local\\conda\\conda\\envs\\interp4\\lib\\site-packages\\shap\\explainers\\kernel.py:545: UserWarning: l1_reg=\"auto\" is deprecated and in the next version (v0.29) the behavior will change from a conditional use of AIC to simply \"num_features(10)\"!\n",
      "  \"l1_reg=\\\"auto\\\" is deprecated and in the next version (v0.29) the behavior will change from a \" \\\n",
      "C:\\Users\\bezeran\\AppData\\Local\\conda\\conda\\envs\\interp4\\lib\\site-packages\\shap\\explainers\\kernel.py:545: UserWarning: l1_reg=\"auto\" is deprecated and in the next version (v0.29) the behavior will change from a conditional use of AIC to simply \"num_features(10)\"!\n",
      "  \"l1_reg=\\\"auto\\\" is deprecated and in the next version (v0.29) the behavior will change from a \" \\\n",
      "C:\\Users\\bezeran\\AppData\\Local\\conda\\conda\\envs\\interp4\\lib\\site-packages\\shap\\explainers\\kernel.py:545: UserWarning: l1_reg=\"auto\" is deprecated and in the next version (v0.29) the behavior will change from a conditional use of AIC to simply \"num_features(10)\"!\n",
      "  \"l1_reg=\\\"auto\\\" is deprecated and in the next version (v0.29) the behavior will change from a \" \\\n",
      "C:\\Users\\bezeran\\AppData\\Local\\conda\\conda\\envs\\interp4\\lib\\site-packages\\shap\\explainers\\kernel.py:545: UserWarning: l1_reg=\"auto\" is deprecated and in the next version (v0.29) the behavior will change from a conditional use of AIC to simply \"num_features(10)\"!\n",
      "  \"l1_reg=\\\"auto\\\" is deprecated and in the next version (v0.29) the behavior will change from a \" \\\n",
      "C:\\Users\\bezeran\\AppData\\Local\\conda\\conda\\envs\\interp4\\lib\\site-packages\\shap\\explainers\\kernel.py:545: UserWarning: l1_reg=\"auto\" is deprecated and in the next version (v0.29) the behavior will change from a conditional use of AIC to simply \"num_features(10)\"!\n",
      "  \"l1_reg=\\\"auto\\\" is deprecated and in the next version (v0.29) the behavior will change from a \" \\\n",
      "C:\\Users\\bezeran\\AppData\\Local\\conda\\conda\\envs\\interp4\\lib\\site-packages\\shap\\explainers\\kernel.py:545: UserWarning: l1_reg=\"auto\" is deprecated and in the next version (v0.29) the behavior will change from a conditional use of AIC to simply \"num_features(10)\"!\n",
      "  \"l1_reg=\\\"auto\\\" is deprecated and in the next version (v0.29) the behavior will change from a \" \\\n",
      "C:\\Users\\bezeran\\AppData\\Local\\conda\\conda\\envs\\interp4\\lib\\site-packages\\shap\\explainers\\kernel.py:545: UserWarning: l1_reg=\"auto\" is deprecated and in the next version (v0.29) the behavior will change from a conditional use of AIC to simply \"num_features(10)\"!\n",
      "  \"l1_reg=\\\"auto\\\" is deprecated and in the next version (v0.29) the behavior will change from a \" \\\n",
      "C:\\Users\\bezeran\\AppData\\Local\\conda\\conda\\envs\\interp4\\lib\\site-packages\\shap\\explainers\\kernel.py:545: UserWarning: l1_reg=\"auto\" is deprecated and in the next version (v0.29) the behavior will change from a conditional use of AIC to simply \"num_features(10)\"!\n",
      "  \"l1_reg=\\\"auto\\\" is deprecated and in the next version (v0.29) the behavior will change from a \" \\\n",
      "C:\\Users\\bezeran\\AppData\\Local\\conda\\conda\\envs\\interp4\\lib\\site-packages\\shap\\explainers\\kernel.py:545: UserWarning: l1_reg=\"auto\" is deprecated and in the next version (v0.29) the behavior will change from a conditional use of AIC to simply \"num_features(10)\"!\n",
      "  \"l1_reg=\\\"auto\\\" is deprecated and in the next version (v0.29) the behavior will change from a \" \\\n",
      "C:\\Users\\bezeran\\AppData\\Local\\conda\\conda\\envs\\interp4\\lib\\site-packages\\shap\\explainers\\kernel.py:545: UserWarning: l1_reg=\"auto\" is deprecated and in the next version (v0.29) the behavior will change from a conditional use of AIC to simply \"num_features(10)\"!\n",
      "  \"l1_reg=\\\"auto\\\" is deprecated and in the next version (v0.29) the behavior will change from a \" \\\n",
      "C:\\Users\\bezeran\\AppData\\Local\\conda\\conda\\envs\\interp4\\lib\\site-packages\\shap\\explainers\\kernel.py:545: UserWarning: l1_reg=\"auto\" is deprecated and in the next version (v0.29) the behavior will change from a conditional use of AIC to simply \"num_features(10)\"!\n",
      "  \"l1_reg=\\\"auto\\\" is deprecated and in the next version (v0.29) the behavior will change from a \" \\\n",
      "C:\\Users\\bezeran\\AppData\\Local\\conda\\conda\\envs\\interp4\\lib\\site-packages\\shap\\explainers\\kernel.py:545: UserWarning: l1_reg=\"auto\" is deprecated and in the next version (v0.29) the behavior will change from a conditional use of AIC to simply \"num_features(10)\"!\n",
      "  \"l1_reg=\\\"auto\\\" is deprecated and in the next version (v0.29) the behavior will change from a \" \\\n",
      "C:\\Users\\bezeran\\AppData\\Local\\conda\\conda\\envs\\interp4\\lib\\site-packages\\shap\\explainers\\kernel.py:545: UserWarning: l1_reg=\"auto\" is deprecated and in the next version (v0.29) the behavior will change from a conditional use of AIC to simply \"num_features(10)\"!\n",
      "  \"l1_reg=\\\"auto\\\" is deprecated and in the next version (v0.29) the behavior will change from a \" \\\n",
      "C:\\Users\\bezeran\\AppData\\Local\\conda\\conda\\envs\\interp4\\lib\\site-packages\\shap\\explainers\\kernel.py:545: UserWarning: l1_reg=\"auto\" is deprecated and in the next version (v0.29) the behavior will change from a conditional use of AIC to simply \"num_features(10)\"!\n",
      "  \"l1_reg=\\\"auto\\\" is deprecated and in the next version (v0.29) the behavior will change from a \" \\\n",
      "C:\\Users\\bezeran\\AppData\\Local\\conda\\conda\\envs\\interp4\\lib\\site-packages\\shap\\explainers\\kernel.py:545: UserWarning: l1_reg=\"auto\" is deprecated and in the next version (v0.29) the behavior will change from a conditional use of AIC to simply \"num_features(10)\"!\n",
      "  \"l1_reg=\\\"auto\\\" is deprecated and in the next version (v0.29) the behavior will change from a \" \\\n",
      "C:\\Users\\bezeran\\AppData\\Local\\conda\\conda\\envs\\interp4\\lib\\site-packages\\shap\\explainers\\kernel.py:545: UserWarning: l1_reg=\"auto\" is deprecated and in the next version (v0.29) the behavior will change from a conditional use of AIC to simply \"num_features(10)\"!\n",
      "  \"l1_reg=\\\"auto\\\" is deprecated and in the next version (v0.29) the behavior will change from a \" \\\n",
      "C:\\Users\\bezeran\\AppData\\Local\\conda\\conda\\envs\\interp4\\lib\\site-packages\\shap\\explainers\\kernel.py:545: UserWarning: l1_reg=\"auto\" is deprecated and in the next version (v0.29) the behavior will change from a conditional use of AIC to simply \"num_features(10)\"!\n",
      "  \"l1_reg=\\\"auto\\\" is deprecated and in the next version (v0.29) the behavior will change from a \" \\\n",
      "C:\\Users\\bezeran\\AppData\\Local\\conda\\conda\\envs\\interp4\\lib\\site-packages\\shap\\explainers\\kernel.py:545: UserWarning: l1_reg=\"auto\" is deprecated and in the next version (v0.29) the behavior will change from a conditional use of AIC to simply \"num_features(10)\"!\n",
      "  \"l1_reg=\\\"auto\\\" is deprecated and in the next version (v0.29) the behavior will change from a \" \\\n",
      "C:\\Users\\bezeran\\AppData\\Local\\conda\\conda\\envs\\interp4\\lib\\site-packages\\shap\\explainers\\kernel.py:545: UserWarning: l1_reg=\"auto\" is deprecated and in the next version (v0.29) the behavior will change from a conditional use of AIC to simply \"num_features(10)\"!\n",
      "  \"l1_reg=\\\"auto\\\" is deprecated and in the next version (v0.29) the behavior will change from a \" \\\n",
      "C:\\Users\\bezeran\\AppData\\Local\\conda\\conda\\envs\\interp4\\lib\\site-packages\\shap\\explainers\\kernel.py:545: UserWarning: l1_reg=\"auto\" is deprecated and in the next version (v0.29) the behavior will change from a conditional use of AIC to simply \"num_features(10)\"!\n",
      "  \"l1_reg=\\\"auto\\\" is deprecated and in the next version (v0.29) the behavior will change from a \" \\\n"
     ]
    },
    {
     "name": "stdout",
     "output_type": "stream",
     "text": [
      "\n"
     ]
    }
   ],
   "source": [
    "# Passing in test dataset for evaluation examples - note it must be a representative sample of the original data\n",
    "# x_train can be passed as well, but with more examples explanations will take longer although they may be more accurate\n",
    "global_explanation = explainer.explain_global(x_test)\n",
    "\n",
    "# Note: if you used the PFIExplainer in the previous step, use the next line of code instead\n",
    "# global_explanation = explainer.explain_global(x_test, true_labels=y_test)"
   ]
  },
  {
   "cell_type": "code",
   "execution_count": 7,
   "metadata": {},
   "outputs": [
    {
     "name": "stdout",
     "output_type": "stream",
     "text": [
      "ranked global importance values: [0.10854296065164473, 0.09231789159552856, 0.08004463841087486, 0.06736151756281923, 0.040619323602939496, 0.011470498204496665, 0.0019029469334032152, 0.0017184711832201197, 0.0010408358738259124, 0.0009480712717091068, 0.0009447077838160658, 0.000895324042938859, 0.0008793307787123827, 0.0008592049402589663, 0.0007613609887223783, 0.0007527811424301789, 0.0007312968086592678, 0.0007094262079252273, 0.0006610346003752117, 0.0006560320543790456, 0.0006246408938155836, 0.0006046636237637113, 0.0004925521569747928, 0.0004891448338565201, 0.00046016376493606293, 0.0004397056039580976, 0.00043270922110753206, 0.0003986803014610845, 0.0003236564560591836, 0.00027692548993158133]\n",
      "ranked global importance names: ['worst area', 'worst perimeter', 'mean area', 'mean perimeter', 'area error', 'worst texture', 'mean texture', 'worst radius', 'mean fractal dimension', 'perimeter error', 'radius error', 'worst concavity', 'worst concave points', 'mean concavity', 'mean smoothness', 'mean radius', 'symmetry error', 'compactness error', 'mean symmetry', 'smoothness error', 'texture error', 'worst symmetry', 'concave points error', 'worst fractal dimension', 'mean compactness', 'worst smoothness', 'concavity error', 'worst compactness', 'mean concave points', 'fractal dimension error']\n",
      "global importance rank: [23, 22, 3, 2, 13, 21, 1, 20, 9, 12, 10, 26, 27, 6, 4, 0, 18, 15, 8, 14, 11, 28, 17, 29, 5, 24, 16, 25, 7, 19]\n",
      "ranked per class feature names: [['worst area', 'worst perimeter', 'mean area', 'mean perimeter', 'area error', 'worst texture', 'mean texture', 'worst radius', 'mean fractal dimension', 'perimeter error', 'radius error', 'worst concavity', 'worst concave points', 'mean concavity', 'mean smoothness', 'mean radius', 'symmetry error', 'compactness error', 'mean symmetry', 'smoothness error', 'texture error', 'worst symmetry', 'concave points error', 'worst fractal dimension', 'mean compactness', 'worst smoothness', 'concavity error', 'worst compactness', 'mean concave points', 'fractal dimension error'], ['worst area', 'worst perimeter', 'mean area', 'mean perimeter', 'area error', 'worst texture', 'mean texture', 'worst radius', 'mean fractal dimension', 'perimeter error', 'radius error', 'worst concavity', 'worst concave points', 'mean concavity', 'mean smoothness', 'mean radius', 'symmetry error', 'compactness error', 'mean symmetry', 'smoothness error', 'texture error', 'worst symmetry', 'concave points error', 'worst fractal dimension', 'mean compactness', 'worst smoothness', 'concavity error', 'worst compactness', 'mean concave points', 'fractal dimension error']]\n",
      "ranked per class feature values: [[0.1085429606516447, 0.09231789159552854, 0.08004463841087482, 0.06736151756281922, 0.040619323602939496, 0.011470498204496665, 0.0019029469334032156, 0.0017184711832201195, 0.0010408358738259133, 0.0009480712717091053, 0.0009447077838160675, 0.0008953240429388563, 0.0008793307787123785, 0.0008592049402589671, 0.0007613609887223756, 0.0007527811424301781, 0.0007312968086592694, 0.000709426207925227, 0.0006610346003752119, 0.0006560320543790454, 0.000624640893815585, 0.0006046636237637114, 0.0004925521569747952, 0.000489144833856519, 0.0004601637649360652, 0.00043970560395809825, 0.00043270922110753255, 0.00039868030146108374, 0.00032365645605918496, 0.00027692548993158187], [0.10854296065164476, 0.09231789159552858, 0.08004463841087489, 0.06736151756281925, 0.040619323602939496, 0.011470498204496667, 0.0019029469334032147, 0.0017184711832201201, 0.0010408358738259115, 0.0009480712717091083, 0.000944707783816064, 0.0008953240429388617, 0.0008793307787123868, 0.0008592049402589657, 0.000761360988722381, 0.0007527811424301797, 0.0007312968086592662, 0.0007094262079252275, 0.0006610346003752115, 0.0006560320543790458, 0.0006246408938155822, 0.0006046636237637112, 0.0004925521569747905, 0.0004891448338565212, 0.00046016376493606065, 0.000439705603958097, 0.00043270922110753157, 0.0003986803014610852, 0.00032365645605918225, 0.0002769254899315808]]\n"
     ]
    }
   ],
   "source": [
    "# Sorted SHAP values\n",
    "print('ranked global importance values: {}'.format(global_explanation.get_ranked_global_values()))\n",
    "# Corresponding feature names\n",
    "print('ranked global importance names: {}'.format(global_explanation.get_ranked_global_names()))\n",
    "# Feature ranks (based on original order of features)\n",
    "print('global importance rank: {}'.format(global_explanation.global_importance_rank))\n",
    "\n",
    "# Note: PFIExplainer does not support per class explanations\n",
    "# Per class feature names\n",
    "print('ranked per class feature names: {}'.format(global_explanation.get_ranked_per_class_names()))\n",
    "# Per class feature importance values\n",
    "print('ranked per class feature values: {}'.format(global_explanation.get_ranked_per_class_values()))"
   ]
  },
  {
   "cell_type": "code",
   "execution_count": 8,
   "metadata": {},
   "outputs": [
    {
     "name": "stdout",
     "output_type": "stream",
     "text": [
      "global importance rank: {'worst area': 0.10854296065164473, 'worst perimeter': 0.09231789159552856, 'mean area': 0.08004463841087486, 'mean perimeter': 0.06736151756281923, 'area error': 0.040619323602939496, 'worst texture': 0.011470498204496665, 'mean texture': 0.0019029469334032152, 'worst radius': 0.0017184711832201197, 'mean fractal dimension': 0.0010408358738259124, 'perimeter error': 0.0009480712717091068, 'radius error': 0.0009447077838160658, 'worst concavity': 0.000895324042938859, 'worst concave points': 0.0008793307787123827, 'mean concavity': 0.0008592049402589663, 'mean smoothness': 0.0007613609887223783, 'mean radius': 0.0007527811424301789, 'symmetry error': 0.0007312968086592678, 'compactness error': 0.0007094262079252273, 'mean symmetry': 0.0006610346003752117, 'smoothness error': 0.0006560320543790456, 'texture error': 0.0006246408938155836, 'worst symmetry': 0.0006046636237637113, 'concave points error': 0.0004925521569747928, 'worst fractal dimension': 0.0004891448338565201, 'mean compactness': 0.00046016376493606293, 'worst smoothness': 0.0004397056039580976, 'concavity error': 0.00043270922110753206, 'worst compactness': 0.0003986803014610845, 'mean concave points': 0.0003236564560591836, 'fractal dimension error': 0.00027692548993158133}\n"
     ]
    }
   ],
   "source": [
    "# Print out a dictionary that holds the sorted feature importance names and values\n",
    "print('global importance rank: {}'.format(global_explanation.get_feature_importance_dict()))"
   ]
  },
  {
   "cell_type": "markdown",
   "metadata": {},
   "source": [
    "### Explain overall model predictions as a collection of local (instance-level) explanations"
   ]
  },
  {
   "cell_type": "code",
   "execution_count": 9,
   "metadata": {},
   "outputs": [
    {
     "name": "stdout",
     "output_type": "stream",
     "text": [
      "local importance values: [[[0.0, 0.00860845309557369, -0.018742147875277823, 0.0582296437936934, 0.0, 0.0, 0.0, 0.0, 0.0, -0.008191812303200957, 0.0, 0.0, 0.0, -0.06084569006669459, 0.0, 0.0, 0.0, 0.0, 0.007978684301949146, 0.0, 0.0, 0.03010634657407958, 0.10679580372810432, -0.09251824878580582, 0.0, 0.0, 0.0, 0.0, 0.0, 0.0], [0.0, 0.0, -0.052604826031218375, 0.0, 0.0, 0.0, 0.0, 0.0, 0.0, 0.0, 0.0, 0.0, 0.0, -0.017490043615792688, 0.0, -0.006540511983873912, 0.0, 0.0, 0.0, 0.0, 0.0, 0.04413058373859481, -0.08520197705248364, -0.21733966960322307, 0.0, 0.0, 0.0, 0.0, 0.0, 0.0], [0.0, 0.0, -0.02662171759025539, 0.0, 0.0, 0.0, 0.0, 0.0, 0.0, 0.0, 0.0, 0.0, 0.0, -0.02336025112342295, 0.0, 0.0, 0.0, 0.0, 0.0, 0.0, -0.004206663920263948, -0.01977246249384193, -0.07953833449724575, -0.17947310530957733, -0.000839754066276982, 0.0, 0.0, 0.0, -0.007069492927560039, 0.0], [0.0, 0.005554656278671272, 0.043670926207919625, 0.16673011785956632, 0.0, 0.0, 0.0, 0.0, 0.0, 0.0, 0.0, 0.0, 0.0, -0.02202024317440482, 0.0, 0.0, 0.0, 0.0, 0.0, 0.0, 0.003627025420696442, 0.0, 0.04883018402554819, 0.25285973089452857, 0.0, 0.0, 0.0, 0.0, 0.0, 0.0], [0.0, 0.0, -0.04481674569311622, 0.08697281370620219, 0.0, 0.0, 0.0, 0.0, 0.0, 0.0, 0.0, 0.0, 0.0, -0.0043062073473035594, 0.0, 0.0, 0.0, 0.0, 0.0, 0.0, -0.003192026975592073, -0.013071597538528917, -0.06761340808444133, 0.0481027890273313, 0.0, 0.0, 0.0, 0.0, -0.0029904674430262096, 0.0], [0.0, 0.0, -0.07656599709901979, -0.005321112848588633, 0.0, 0.0, 0.0, 0.0, 0.0, 0.0, 0.0, 0.0, 0.0, -0.03119566440823851, 0.0, 0.0, 0.0, 0.0, 0.0, 0.0, 0.0, -0.00520302557883523, -0.08978299615852252, -0.14682138638032127, 0.0, -0.006041980517482337, 0.0, 0.0, 0.0, 0.0], [0.0, 0.0, -0.06557669969696901, -0.04489068611815782, 0.0, 0.0, 0.0, 0.0, 0.0, 0.0, 0.0, 0.0, 0.0, 0.02562911899389521, 0.0, 0.0, 0.0, 0.0, 0.0, 0.0, -0.007039202690713661, 0.010829705237872661, -0.07807258552778693, -0.034716042659223206, 0.0, 0.0, 0.0, 0.0, 0.0, 0.0], [0.0, 0.0, -0.0711298845511148, -0.07543392745461601, 0.0, 0.0, 0.0, 0.0, 0.0, 0.0, -0.0027946302891901365, 0.0, 0.0, 0.0, 0.0, 0.0, 0.0, 0.0, 0.0, 0.0, -0.00587207888455768, 0.0, -0.09306800552993674, -0.07818182878628067, 0.0, 0.0, -0.00735283789885921, 0.0, 0.0, 0.0], [0.0, -0.0039001972877999724, -0.09269598801428036, -0.04755216214079544, -0.004204007854625075, -0.005420902664021454, 0.0, 0.0, 0.0, -0.012334010244637775, 0.0, 0.0, 0.0, -0.013182985909155343, 0.0, 0.0, 0.0, 0.0, 0.0, 0.0, -0.013060134675390578, 0.0, -0.10636804049182244, -0.03060015494334689, 0.0, 0.0, 0.0, 0.0, 0.0, 0.0], [0.0, 0.0, -0.07367302247904595, -0.046073917318063234, 0.0, 0.0, 0.0, 0.0, 0.0, 0.0, 0.0, 0.0, 0.0, -0.030728339785548647, 0.0, 0.0, 0.0, 0.0, 0.0, -0.0033363161629013094, 0.0, -0.01080829600440067, -0.10723214140400483, -0.04647646142186576, 0.0, 0.0, 0.0, -0.00960161879057081, 0.0, 0.0], [0.0, 0.0, 0.046695393838472266, 0.0, 0.0, 0.0, 0.0, 0.0, 0.0, 0.0, 0.0, 0.0, 0.0, 0.2012975495919742, 0.0, 0.0, 0.0, 0.0, 0.0, 0.005598920861948187, 0.0, 0.0, 0.0791205112653211, 0.16854555335830473, 0.0, 0.0, 0.0, 0.0, 0.0, 0.0], [0.0, 0.0, 0.0, -0.23394074731194486, 0.0, 0.0, 0.0, 0.0, 0.0, 0.0, 0.0, 0.0, 0.0, -0.01906034089635182, 0.0, 0.0, 0.0, 0.0, 0.0, 0.0, 0.0, 0.0, -0.051866160775879216, -0.036332777451432985, 0.0, 0.0, 0.0, 0.0, 0.0, 0.0], [0.0, 0.0, -0.1014983901616533, -0.04618520173373754, 0.0, 0.0, 0.0, 0.0, 0.0, 0.0, 0.0, 0.0, 0.0, 0.0, 0.0, 0.0, 0.0, 0.0, 0.0, 0.0, 0.0, 0.0, -0.13527959744718104, -0.013492660067141393, 0.0, 0.0, 0.0, 0.0, 0.0, 0.0], [0.0, 0.0, 0.08221997973297995, 0.08154593729783638, 0.0, 0.0, 0.0, 0.0, 0.0, 0.0, 0.000584177961421517, 0.0, 0.0, 0.032023339764453984, 0.0008211519708450077, 0.0, 0.0, 0.0, 0.0, 0.0044686749427727546, 0.0023743097454488327, 0.0021652555604073087, 0.07781607041111499, 0.09751242515988251, 0.0, 0.0, 0.0, 0.004337560056431655, 0.004699202686003101, 0.0], [0.0, 0.012734241331362861, 0.04857434901079227, 0.004752757603412705, 0.0, 0.0, 0.0, 0.0, 0.0, 0.0, 0.0, 0.0, 0.0, 0.152752585462175, 0.002331886586395382, 0.0, 0.0, 0.0, 0.0, 0.0, 0.0, -0.022245104804993865, 0.06653168511243263, 0.21072361833690734, 0.0, 0.0, 0.004264000857548855, 0.0, 0.0, 0.0], [0.0, 0.0, 0.07343545809686336, 0.14004170518404085, 0.0, 0.0, 0.004370455956777541, 0.0, 0.0, 0.0, 0.0, 0.0, 0.0, 0.026173795821507362, 0.0, 0.0, 0.0, 0.004458800652275607, 0.004361642370749652, 0.0, 0.0, 0.0, 0.12191196022256065, 0.15262509777259886, 0.0, 0.0, 0.005017572819022265, 0.0, 0.0, 0.0], [0.0, -0.0006572823864739175, -0.1062458924985403, 0.0, 0.0, 0.0, 0.0, 0.0, 0.0, 0.0, -0.004500035852121553, 0.0, 0.0, -0.03441085958931617, 0.0, 0.0, 0.0, 0.0, 0.0, 0.0, -0.012131565015566864, -0.002861233509207556, -0.10938177042434863, -0.0189424727230407, 0.0, 0.0, 0.0, -0.005639758071579903, 0.0, 0.0], [0.002792894766997178, 0.003739867502302513, 0.09605818833681243, 0.08330423865959213, 0.0, 0.0, 0.0, 0.0, 0.0, 0.0, 0.0, 0.0, 0.0, 0.08807402738424641, 0.0, 0.0, 0.0, 0.0, 0.003871473124939795, 0.0, 0.0, 0.022090308299166583, 0.09186805408783497, 0.09985636560525657, 0.0, 0.0, 0.0, 0.0, 0.0, 0.0], [0.0, 0.0, 0.09618420645531855, 0.0773066714062518, 0.0, 0.0, 0.0, 0.0, 0.004103581747127577, 0.0, 0.0, 0.0, 0.0, 0.08727814117184252, 0.017180917587992145, 0.005104642992349501, 0.0, 0.0, 0.0, 0.0, 0.0, 0.0, 0.1068272256545787, 0.0938472464641606, 0.0, 0.0, 0.0, 0.0, 0.003677625921249039, 0.0], [0.0, 0.0, 0.09780877664250087, 0.09097520323641378, -0.0031233619064940377, 0.0, -0.001973885806018816, 0.0, 0.005499481343170409, 0.0, 0.0, 0.0, 0.0, 0.07353505729005827, 0.0, 0.00395522594456027, 0.0, 0.0, 0.0, 0.0, 0.0, 0.0, 0.09406320889278491, 0.09925766517522028, 0.0, 0.0, 0.00655187517443967, 0.0, 0.0, 0.002528988956813971], [0.0, 0.0, 0.0, 0.07656515078984147, 0.0, 0.0, 0.0, 0.0, 0.0, 0.0, 0.0, 0.0, 0.0, 0.031790523262046844, 0.0, 0.0, 0.0, 0.0, 0.0, 0.0, 0.0, 0.0, 0.13692269846513264, 0.21855033085059278, 0.0, 0.0, 0.0, 0.0, 0.0, 0.0], [0.0, 0.0, 0.06466324749787872, 0.06119042640279726, 0.0, 0.0, 0.0, 0.0, 0.0, 0.0, 0.0, 0.0, 0.0, 0.0, 0.0, 0.0, 0.0, 0.0, 0.0, 0.0, 0.0, 0.0, 0.09893697810441235, 0.05490831687566722, 0.0029684147808908268, 0.0, 0.0, 0.0, 0.0, 0.0], [0.0, 0.0, -0.05245461111000628, 0.05779164471332582, 0.0, 0.0, 0.0, 0.0, 0.0, 0.0, 0.0, 0.0, 0.0, -0.007088208170025173, -0.004986151684505474, 0.0, 0.0, 0.0, 0.0, 0.0, 0.0, -0.013629754512627268, -0.07257479473083708, -0.22784454599005877, 0.0, 0.0, 0.0, 0.0, -0.0031244247309130113, 0.0], [0.0, 0.0, -0.06328586998103802, -0.09207527424773435, 0.0, 0.0, -0.003743185336574889, 0.0, 0.0, 0.0, 0.0, 0.0, 0.0, -0.04179525043929877, 0.0, 0.0, 0.0, 0.0, 0.0, 0.0, -0.008639182651587182, -0.0010013400339187878, -0.0717100154570263, -0.08090679370684634, 0.0, 0.0, 0.0, 0.0, 0.0, 0.0], [0.0, 0.0, 0.12477289224915702, 0.10061999704367289, 0.0, 0.0, 0.0, 0.0, 0.004948581389408346, 0.009774925141157687, 0.0, 0.0, 0.0, 0.0, 0.0, 0.0, 0.0, 0.0, 0.0, 0.0, 0.0, 0.0, 0.11539066522295435, 0.10704643515036219, 0.0, 0.0, 0.0, 0.001267976266083326, 0.0, 0.0], [0.0, 0.07702804505312391, -0.07043402449632975, 0.05639035209105318, 0.0, 0.0, 0.0, 0.0, 0.0, -0.004552050032279514, -0.009132642268635402, 0.0, 0.0, -0.03403159512109535, 0.0, 0.0, 0.0, 0.0, 0.0, 0.0, 0.0, -0.007359727171260849, -0.07758992581168599, 0.043804030607088984, 0.0, 0.0, 0.0, 0.0, 0.0, 0.0], [0.0, 0.0, -0.07438108858120915, -0.019394077195435955, 0.0, 0.0, -0.006413534867842963, 0.0, 0.0, 0.0, 0.0, 0.0, -0.0062394799619868435, -0.02204185040053737, 0.0, 0.0, 0.0, 0.0, 0.0, 0.0, -0.005822188272200754, -0.0035137532511499425, -0.0853862403478104, -0.10636088750494574, 0.0, 0.0, -0.006521109578588244, -0.0034818114681137713, 0.0, 0.0], [0.0, 0.0, 0.0, -0.05938934564045294, 0.0, 0.0, 0.0, 0.0, 0.0, 0.0, 0.0, 0.0, 0.0, -0.028167938632016352, 0.0, 0.0, 0.0, 0.0, 0.0, 0.0, 0.0, 0.031109108948646186, 0.02475709679012896, -0.2816693077628447, 0.0, 0.0, 0.0, 0.0, 0.0, 0.0], [0.0, 0.0, -0.04693679244401486, 0.07998099756154194, -0.007350039329928115, 0.0, 0.0, -0.005931515144455696, 0.0, 0.0, 0.0, 0.0, 0.0, -0.01184770868769136, 0.0, -0.005372974518608811, 0.0, 0.0, -0.0025066930267196863, 0.0, 0.0, -0.0090043619378824, -0.0775478221869702, -0.23954496275020137, 0.0, -0.004467240024337682, 0.0, 0.0, 0.0, 0.0], [0.0, 0.0, 0.09051291830112385, 0.09048958118506073, 0.0, 0.0, 0.0, 0.0, 0.0, 0.005225960759810411, 0.0, 0.0, 0.007387685232177199, 0.09925688112216857, 0.0, 0.0, 0.0, 0.00799488147255295, 0.0, 0.0, 0.01770714982683136, 0.012597230581257834, 0.09548781117384508, 0.07427561333607569, 0.0, 0.0, 0.0, 0.0, 0.0, 0.001568172929724554], [0.0, 0.0, -0.060974232186511865, -0.07172075316954679, 0.0, 0.0, 0.0, 0.0, -0.005989476068462618, 0.0, -0.004266284394979475, 0.0, 0.0, -0.0115726425468132, -0.0005319213907151316, 0.0, 0.0, 0.0, -0.001692858736417363, 0.0, 0.0, -0.009484752065752, -0.08182336193270609, -0.09223915731698623, 0.0, 0.0, 0.0, 0.0, 0.0, 0.0], [0.004368361209640348, 0.00996208379491409, 0.11978998248449962, 0.1078180696289966, 0.0, 0.0, 0.0, 0.0, 0.0, 0.005203152913850734, 0.0028538160864771123, 0.0, 0.0, 0.10586419373077927, 0.0, 0.0, 0.0, 0.0, 0.004634976265437352, 0.0, 0.0, 0.0, 0.0981204320494202, 0.10414740991128968, 0.0, 0.0, 0.011426741096973836, 0.0, 0.0, 0.0], [0.0, 0.0, -0.04701744417933814, 0.026923788353182772, 0.0, 0.0, 0.0, 0.0, 0.0, 0.0, 0.0, 0.0, 0.0, -0.03569934149729595, 0.0, -0.007889641977766593, 0.0, 0.0, 0.0, 0.0, 0.0, 0.0, -0.03785465104637101, -0.20500377610463077, 0.0, 0.0, 0.0, 0.0, 0.0, 0.0], [0.0034814818366393774, 0.0, 0.07725774942144192, 0.1375365965164505, 0.0, 0.0, 0.005214807961131773, 0.0, 0.0, 0.0, 0.0, 0.0, 0.0, 0.03209922979163171, 0.0, 0.0, 0.0, 0.0, 0.0, 0.0, 0.0, 0.016378536412356953, 0.12323042205501972, 0.13165775772998872, 0.0012000131319389595, 0.006593987343729069, 0.0, 0.0, 0.0, 0.0], [0.0, 0.0, -0.09068247850663273, -0.03568465199277471, -0.005043736261989756, 0.0, -0.0014906102120591513, 0.0, 0.0, 0.0, 0.0, 0.0, 0.0, -0.02162108577620518, 0.0, 0.0, 0.0, 0.0, 0.0, 0.0, 0.0007046890796070099, 0.0, -0.10940868162640577, -0.02393946189038998, 0.0, 0.0, 0.0, 0.0, 0.0, 0.0], [0.0, 0.0, 0.0, 0.08037806884326196, 0.0, 0.0, 0.0, 0.0, 0.0, 0.0, 0.0, 0.0, 0.0, 0.0, 0.0, 0.0, 0.0, 0.0, 0.0, 0.0, 0.0, 0.022445246973927052, 0.09898923332605622, 0.2809255045705422, 0.0, 0.0, 0.0, 0.0, 0.0, 0.0], [0.0, 0.0, -0.05588283920971572, -0.033318843253288113, 0.0, 0.0, 0.0, 0.0, -0.008789003596411549, -0.010950413155369348, 0.0, 0.0, 0.0, -0.040158470323390386, 0.0, 0.0, 0.0, 0.0, 0.0, 0.0, 0.0, 0.0, -0.03999363864267682, -0.1567197596471279, 0.0, 0.0, 0.0, 0.0, 0.0, 0.0], [0.0015273600845272517, 0.0, 0.10531110505045163, 0.08110049121223434, 0.0, 0.0, 0.0, 0.0026144752075069055, 0.0, 0.0, 0.001042616809910052, 0.0, 0.007999565206665893, 0.09778264961587602, 0.00512647687509582, 0.0, 0.0, 0.0, 0.0, 0.0, 0.0, 0.0, 0.09621682256892172, 0.07655760159527719, 0.0, 0.0, 0.0, 0.0, 0.0, 0.004483736461475096], [0.0, 0.0, 0.0, -0.206511501492946, 0.0, 0.0, 0.0, 0.0, 0.0, 0.0, 0.0, -0.005695976993822252, 0.0, -0.02511555619385558, 0.0, 0.0, 0.0, 0.0, 0.0, 0.0, 0.0, -0.016439079430297793, -0.04744395440720073, -0.04339882152212188, 0.0, 0.0, 0.0, -0.007788674202563406, 0.0, 0.0], [0.0021572937572785778, 0.0, 0.040758917351577995, 0.12407446143207834, 0.0, 0.0, 0.0, 0.0, 0.0, 0.0, 0.0, 0.0, 0.0, 0.09296967216352009, 0.0, 0.0, 0.0, 0.0, 0.0, 0.0, 0.003108089578160167, 0.01562134411504057, 0.09519584356968802, 0.14520924243195005, 0.005829176042157269, 0.0, 0.0, 0.0, 0.003357253736308352, 0.0], [0.0, 0.0042476400590494845, 0.05086196026017231, 0.12728049552329734, 0.0, 0.0017439308698342648, 0.0, 0.0, 0.0, 0.007039069727766245, 0.0017413260710197331, 0.00997431149635658, 0.003803795823699496, 0.09853492176299233, 0.0, 0.0, 0.0, 0.0, 0.0, 0.0, 0.0, 0.04621745958503115, 0.06889241130466794, 0.1351578420073497, 0.002388486996603989, 0.0, 0.0, 0.0, 0.0, 0.0], [0.0, 0.0, -0.08214334736341417, 0.0, 0.0, 0.0, 0.0, 0.0, 0.0, -0.0041098316819250524, -0.0022822355045087617, 0.0, 0.0, -0.019786503076963224, 0.0, 0.0, 0.0, 0.0, 0.0, 0.0, 0.0, -0.007078378515604125, -0.09420875662784918, -0.013290806261262417, 0.0, 0.0, 0.0, 0.0, 0.0, -0.00929853102290526], [0.0, 0.0, 0.07583436332128676, 0.13682740937844945, 0.0, 0.0, 0.0, 0.0, 0.0, 0.0, 0.0, 0.0, 0.0, 0.019285405355154883, 0.0, 0.0, 0.005203656591903971, 0.0, 0.003143787051015201, 0.0, 0.0, 0.017552307270479905, 0.13118762953305813, 0.15445300719014482, 0.0, 0.0, 0.0, 0.0, 0.0, 0.0], [-0.004672768536659405, 0.0, -0.08778460786125566, -0.05129035681294855, -0.002005794576943415, 0.0, 0.0, 0.0, 0.0, 0.0, 0.0, 0.0, -0.003605273686944188, -0.009739062540809307, 0.0, 0.0, 0.0, 0.0, 0.0, -0.0011498617441887682, -0.010872278892224307, -0.004913425684068579, -0.1044952050165848, -0.05619031696536475, 0.0, 0.0, 0.0, -0.002318901531283224, 0.0, 0.0], [0.0, 0.002671453898870385, 0.0, 0.17460323217414714, 0.0, 0.0, 0.0062195607789450325, 0.0, 0.0, 0.003403968919464595, 0.0, 0.0, 0.0, 0.0, 0.0, 0.0, 0.0, 0.0, 0.0, 0.0, 0.0, 0.007582164254992141, 0.2463170740223649, 0.1244833509639876, 0.0020844026757922407, 0.0, 0.0, 0.0, 0.0, 0.0], [0.0, 0.0, 0.0978417828955323, 0.09266771046782546, 0.0069555723075351295, 0.0, 0.003617458636871629, 0.0, 0.0, 0.0, 0.0, -0.02630560490853731, 0.002647073437099412, 0.08600740244798527, 0.0, 0.0, 0.0, 0.0, 0.0, 0.0, 0.0, 0.011643712525958583, 0.09349507478494773, 0.0804985409309999, 0.0, 0.0, 0.0, 0.0, 0.0014548510397572323, 0.013297411283191951], [0.0, 0.0, -0.08640779754782094, -0.044962766301267165, 0.0, -0.0044076122196160805, 0.0, 0.0, 0.0, -0.006508543405642858, 0.0, -0.005161569950502487, 0.0, -0.037249282315377163, 0.0, 0.0, 0.0, 0.0, 0.0, 0.0, -0.004168847020693145, -0.0009929739615753275, -0.09772837901133744, -0.044138834896755325, -0.0038797486595723574, 0.0, -0.004024796966736799, 0.0, 0.0, 0.0], [0.0, 0.0, -0.03163873227333519, -0.08205581963770547, 0.0, 0.0, 0.0, 0.0, 0.0, 0.0, 0.0, 0.0, 0.0, -0.021829827566230947, 0.0, 0.0, 0.0, 0.0, 0.0, 0.0, 0.0, 0.041819983753501294, -0.08528794824200032, -0.13719736986023962, 0.0, 0.0, 0.0, 0.0, 0.0, 0.0], [0.0, 0.0, -0.07226734593059073, -0.07914690297971966, 0.0, 0.0, 0.0, 0.0, 0.0, -0.002083107875954865, -0.0054109074277801095, 0.0, 0.0, -0.004734060472200277, 0.0, 0.0, 0.0, 0.0, 0.0, 0.0, -0.009247144521193726, 0.0, -0.0887608750207354, -0.06716683834696824, 0.0, 0.0, 0.0, 0.0, 0.0, 0.0], [0.0, 0.0, 0.05962008069974656, 0.1051089860530566, 0.0, 0.0, 0.0040949835599239925, 0.0, 0.0, 0.0, 0.0, 0.0, 0.0, 0.005034905976123383, 0.0, 0.0, 0.0, 0.0, 0.0, 0.0, 0.0, 0.029618603733395338, 0.13979966426475235, 0.2576620628316074, 0.0, 0.0, 0.0, 0.0, 0.0, 0.0], [0.0, 0.0, 0.09824292979566465, 0.08519857567667308, 0.0, 0.0, 0.0, 0.0, 0.0, 0.0, 0.0, 0.0, 0.016604802543102176, 0.07823502424582096, 0.0, 0.0, 0.0, 0.0, 0.0016159771118862132, 0.0, 0.0, 0.00737041751550449, 0.09186583204791521, 0.08988496079518149, 0.0, 0.0, 0.0, 0.0, 0.0, 0.0], [0.0, 0.0, 0.018427915521458157, -0.2897401774068933, 0.0, 0.0, 0.0, 0.0, 0.0, 0.0, 0.0, 0.0, 0.0, -0.040213009785103726, 0.0, 0.0, 0.0, 0.0, 0.0, 0.0, 0.0, 0.011048953154990021, 0.048423641526256014, -0.10101735174526766, 0.0, 0.0, 0.0, 0.0, 0.0, 0.0], [0.0, 0.0, 0.1123436705250388, 0.11614919357081865, 0.0, 0.001961498534007844, 0.0, 0.0, 0.0, 0.0, 0.00459101832090425, 0.002880722846812789, 0.0, 0.08714634916802078, 0.0, 0.0, 0.0, 0.0, 0.0, 0.0, 0.004977828768494619, 0.0, 0.11374503884566689, 0.12748710851030004, 0.0, 0.0, 0.0, 0.0, 0.0, 0.0], [0.0, 0.0, -0.08013138093485962, -0.06290022510360499, 0.0, 0.0, -0.007663360743389802, 0.0, 0.0, 0.0, 0.0, 0.0, 0.0, -0.014645454361798316, 0.0, 0.0, 0.0, 0.0, 0.0, 0.0, 0.0, 0.0, -0.09134574151854671, -0.09455383331627742, 0.0, 0.0, 0.0, 0.0, 0.0, 0.0], [0.0, 0.0, -0.06071348756487266, -0.0651024818716115, -0.004075632534042611, 0.0, 0.0, 0.0, 0.0, 0.0, 0.0, -0.0044109780262153175, 0.0, -0.026683606283234573, -0.0003495900011956654, 0.0, 0.0, 0.0, 0.0, 0.0, 0.0, -0.0010296928731371446, -0.08172144982284027, -0.08583880147179611, 0.0, 0.0, -0.004332098338904133, 0.0, 0.0, 0.0], [0.0, 0.0, -0.0760287346131594, -0.027942262665169137, 0.0, 0.0, 0.0, 0.0, 0.0, -0.0024787707570800843, 0.0, 0.0, 0.0, -0.01833165351915597, 0.0, 0.0, -0.0025818541074593138, 0.0, 0.0, 0.0, 0.0, -0.006472871393403579, -0.09535430909513182, -0.11792164078613726, -0.006631892240609727, 0.0, 0.0, 0.0, 0.0, 0.0], [0.0, 0.0, -0.07198664621974464, -0.031612334458253386, 0.0, 0.0, 0.0, 0.0, -0.007103229019377433, 0.0, -0.004319877705789482, -0.0069450295580462534, 0.0, 0.0, 0.0, 0.0, 0.0, 0.0, 0.0, 0.0, 0.0, 0.030531610754866385, -0.11221551888145467, -0.11129049879228176, 0.0, 0.0, 0.0, 0.0, 0.0, 0.0], [0.0, 0.0, -0.06131517253341694, -0.06367328019049293, 0.0, 0.0, 0.0, 0.0, 0.0, 0.0, 0.0, 0.0, 0.0, 0.0, 0.0, 0.0, 0.0, 0.0, 0.0, 0.0, 0.0, 0.053055032050038725, -0.08395912718519305, -0.07390918749247641, 0.0, 0.0, 0.0, 0.0, 0.0, 0.0], [0.0, 0.0, -0.06100678374362692, -0.081902896028402, -0.007876686239904784, 0.0, 0.0, 0.0, 0.0, 0.0, 0.0, 0.0, 0.0, -0.0502271007790602, 0.0, 0.0, 0.0, 0.0, 0.0, 0.0, 0.0, 0.02574403386686315, -0.07716740054409126, -0.09046111442124011, 0.0, 0.0, 0.0, 0.0, 0.0, 0.0], [0.0, 0.0, 0.0865570369372895, 0.08483080941349311, 0.0, 0.0, 0.0, 0.0, 0.0, 0.0035618198756571517, 0.0, 0.0, 0.0, 0.1014838480379715, 0.0011983068863065105, 0.003828073878675009, 0.004407681237695027, 0.0024266002413914634, 0.0, 0.0, 0.004455019852832864, 0.002136410503223801, 0.07856491357579065, 0.08569391699668108, 0.0, 0.0, 0.0, 0.0, 0.0046763322936274054, 0.0], [0.0, 0.0, 0.022121423746477242, 0.1681685850414819, 0.0, 0.0, 0.0, 0.0, 0.0, 0.004058357580635885, 0.0, 0.0, 0.0, 0.0801772027142219, 0.0010985004154806521, 0.0, 0.0, 0.0014349485950304053, 0.0, 0.0, 0.0, 0.03494733433921421, 0.10217352113002914, 0.21152961993399033, 0.0, 0.0, 0.0, 0.003464265926911181, 0.0, 0.0], [0.0, 0.0, 0.07125317743164045, 0.12275547216907667, 0.0, 0.0, 0.0, 0.0, 0.0, 0.0, 0.0, 0.0, 0.0, 0.11547995802223082, 0.0, 0.007959169755494488, 0.0, 0.0, 0.0, 0.0, 0.0, 0.0, 0.12423501450764385, 0.13600032023053876, 0.0, 0.0, 0.0, 0.0, 0.0, 0.0], [-0.0006480814108733302, 0.0, -0.07251112797366296, -0.005885657569657976, 0.0, -0.0016988907989574364, 0.0, 0.0, 0.0, 0.0, -0.0045971407591864355, 0.0, 0.0, -0.03305948742705078, 0.0, 0.0004216160495605359, 0.0, -0.0030557923553742317, 0.0, 0.0, 0.0, 0.0, -0.08028721006399087, -0.1139337674862963, 0.0, -0.006317621862211048, 0.0, -0.0048645759098490116, 0.0, 0.0], [-0.0057797847544669295, 0.0, -0.05853003050591267, -0.07157202649722105, 0.0, 0.0, 0.0, 0.0, 0.0, 0.0, 0.0, 0.0, -0.00463290533247257, -0.019291251502653234, 0.0, 0.0, 0.0, 0.0, 0.0, 0.0, 0.0, 0.0, -0.07619423960674239, -0.11715337448744989, 0.0, 0.0, 0.0, 0.0, 0.0, 0.0], [0.002200216726305826, 0.0, 0.08703753807444545, 0.11070906841376071, 0.0, 0.0, 0.0, 0.0, 0.0, 0.0, 0.00498278647763703, 0.0, 0.0043419254695760134, 0.07522331597332793, 0.0, 0.0, 0.0, 0.0, 0.0, 0.0, 0.00964976995539385, 0.010268533517254708, 0.11791781559249773, 0.10588497648961936, 0.0, 0.0, 0.0, 0.0, 0.0, 0.0], [0.0, -0.03559389315505456, -0.049974506628715235, 0.01671238383746049, -0.005173708930280066, 0.0, 0.0, 0.0, 0.0, 0.0, 0.0, 0.0, -0.006306016909047939, 0.15807685805788319, 0.0, 0.0, 0.0, 0.0, 0.00960399459162636, 0.0, 0.0, 0.015417823874338096, -0.06584920268971238, -0.04462335524634301, 0.0, 0.0, 0.0, 0.0, -0.0058372334574041465, 0.0], [0.0, 0.0, 0.09911878532134555, 0.08113786923826041, 0.0, 0.0, 0.0, 0.0, 0.0, 0.0, 0.0, 0.0, 0.0, 0.07883058246741287, 0.00738762330471085, 0.0, 0.0, 0.0, 0.0, 0.0, 0.004832930318168616, 0.005731968731622156, 0.08841657575787476, 0.08974690625931941, 0.0, 0.0020357849819090668, 0.0065817437290012215, 0.0, 0.0, 0.0], [0.005630607255759118, 0.0, 0.08356436223284328, 0.1008689750399834, 0.0, 0.0, 0.0007163472009149574, 0.0, 0.0, 0.0, 0.007893385103480088, 0.0, 0.0, 0.027099958829192305, 0.0, 0.0, 0.0, 0.0, 0.0, 0.0018934678251954495, 0.0, 0.022781901784922565, 0.1089288864901019, 0.09785375198512808, 0.003784419931994465, 0.0, 0.0, 0.0, 0.0, 0.008277254912081311], [0.0, 0.0, 0.11951798071469791, 0.09742213185876186, 0.0, 0.0, 0.0, 0.0, 0.009177200574802036, 0.0, 0.0, 0.0, 0.004718454739467692, 0.09979257257196869, 0.0, 0.0, 0.0, 0.0, 0.0, 0.0, 0.005303921654113947, 0.0, 0.11267665387470444, 0.12108765535230986, 0.0, 0.0, 0.0, 0.0, 0.0, 0.0], [0.0, 0.0, -0.10951522602017355, -0.05011052398189428, 0.0, 0.0, -0.0072428440852001785, 0.0, 0.0, 0.0, 0.0, 0.0, 0.0, -0.012569307435047639, 0.0, -0.011487730341752378, 0.0, 0.0, 0.0, 0.0, -0.006896206619071657, 0.02521519200622102, -0.11843791978844476, -0.052764150426849676, 0.0, 0.0, 0.0, 0.0, 0.0, 0.0], [0.0, 0.0, -0.008634672072982894, -0.1695151043585082, 0.0, 0.0, 0.0, 0.0, 0.0, 0.0, 0.0, 0.0, 0.0, -0.029685555236261874, 0.0, 0.0, 0.0, 0.0, 0.0, 0.0, 0.0, -0.01866811817025009, 0.0, -0.06615857125666846, 0.0, 0.0, 0.0, 0.0, 0.0, 0.0], [0.0, 0.0, 0.07023060629987016, 0.11552571415076185, 0.0, 0.0, 0.005517987670197455, 0.0, 0.0, 0.005394134374034909, 0.0, 0.0, 0.0, 0.062240345444984746, 0.0, 0.0, 0.006394026839105282, 0.0, 0.0, 0.0, 0.0, 0.014200380237319787, 0.13050943850272861, 0.1283995562000313, 0.0, 0.0, 0.0, 0.0, 0.006244982416331868, 0.0], [0.0, 0.0, -0.06267531960540143, -0.024573891058582542, -0.002866644819006642, -0.0029262833046727055, 0.0, 0.0, 0.0, 0.0, 0.0, 0.0, 0.0, -0.022013606367126515, 0.0, -0.0037002033415353686, 0.0, 0.0, -0.0036962158303778248, 0.0, -0.004122954874585416, -0.012575727501433265, -0.08492085226160634, -0.12882378737115596, 0.0, 0.0, -0.0038103522103273835, 0.0, 0.0, 0.0], [0.0, 0.0, 0.0, -0.233214196805959, 0.0, 0.0, 0.0, 0.0, 0.0, 0.0, 0.0, 0.0, 0.0, -0.015656413031853625, 0.0, 0.0, 0.0, 0.0, 0.0, 0.0, 0.0, 0.04047976013060825, -0.042367780867671345, -0.11528453120260657, 0.0, 0.0, 0.0, 0.0, 0.0, 0.0], [0.0, 0.0024023996752616517, 0.1000640337650025, 0.1164945985349583, 0.003981071506008127, 0.0, 0.0, 0.0, 0.006553666769043759, 0.0, 0.0, 0.009834868114683704, 0.00041139300494139053, 0.09340093367314617, 0.0, 0.0, 0.0, 0.0, 0.0, 0.0, 0.0074158631222687454, 0.0, 0.10904111216440976, 0.1146708560016127, 0.0, 0.0, 0.0, 0.0, 0.0, 0.0], [0.0, 0.0, -0.0493412531766762, -0.04916849762264158, 0.0, 0.0, 0.0, 0.0, 0.0, 0.0, 0.0, 0.0, -0.00911222044561981, -0.027606770099739067, 0.0, 0.0, 0.0, 0.0, 0.0, -0.008254442462589245, 0.0, 0.03281111200097001, -0.07058750859926421, -0.1645057023870498, 0.0, 0.0, 0.0, 0.0, 0.0, 0.0], [-0.007877890207076577, 0.0, -0.08216395819915567, -0.032537769130997124, 0.0, 0.0, 0.0, 0.0, 0.0, 0.0, 0.0, 0.0, 0.0, 0.00015376619922613521, -0.0019151169428197334, 0.0, -0.005812951742220601, 0.0, 0.0, 0.0, -0.0022306657504963523, -0.020506215573216496, -0.11697192747125579, -0.04201088448987636, 0.0, 0.0, 0.0, -0.007449817111679913, 0.0, 0.0], [0.0, 0.0, -0.05106595655599161, -0.07831312318425485, 0.0, 0.0, 0.0, 0.0, 0.0, 0.0, 0.0, 0.0, -0.0031788504955343466, -0.017661819698618242, 0.00030005230816995687, 0.0, 0.0, 0.0, 0.0, 0.0, 0.0, -0.004712941519504549, -0.0725915890208502, -0.11819416428441276, 0.0, 0.0, 0.0, -0.005210159260632674, 0.0, 0.0], [0.0, 0.0, -0.06409944285511937, -0.07799613301897287, 0.0, 0.0, 0.0, 0.0, 0.0, 0.0, 0.0, 0.0, 0.0, -0.03942516631769055, 0.0, 0.0, 0.0, -0.005162735502160676, -0.010165230265656258, 0.0, 0.0, 0.0, -0.06802144222968505, -0.09608013472181309, 0.0, 0.0, 0.0, 0.0, 0.0, 0.0], [0.0, 0.0, -0.07546872076059881, 0.05128514684600651, 0.0, 0.0, 0.0, 0.0, 0.0, 0.0, -0.008010882901908045, 0.0, 0.0, -0.0137914018479868, 0.0, -0.010352711313010354, 0.0, 0.0, 0.0, 0.0, 0.0, -0.008219222225678502, -0.06793283934424504, -0.011073790690944718, 0.0, 0.0, 0.0, 0.0, 0.0, 0.0], [0.0, 0.0, 0.08083290247318053, 0.11694083709152664, 0.0, 0.0, 0.0019457191813908592, 0.0038314800250949244, 0.0, 0.0, 0.0, 0.0, 0.0, 0.028617025578889038, 0.0, 0.0, 0.0, 0.0, 0.006653858269730917, 0.0, 0.0, 0.014496032622043409, 0.12470672158945045, 0.13390074134338076, 0.009021443908064614, 0.0, 0.0, 0.003234924369196146, 0.0, 0.0], [0.0, 0.0049363253981341, 0.09330271816201519, 0.09504363439948621, 0.01790430776511251, 0.0, 0.006926220880818179, 0.013460585726802199, -0.018686317873708197, 0.007468910923983718, 0.0, 0.0, 0.0, 0.07387959947365413, 0.0074432831272324695, 0.0, 0.0033507564959801284, 0.0, 0.0, 0.0, 0.0012978221181629834, 0.01121215576296572, 0.08698679792668815, 0.0752563862392126, 0.0, 0.0, 0.0, 0.0, 0.0, 0.0], [0.0, 0.0, 0.07240488286193209, 0.1267651734347786, 0.0, 0.005059041604074999, 0.008530332876350633, 0.005034696235728109, 0.0, 0.0, 0.0, 0.0, 0.0, 0.07568664687131899, 0.0, 0.0, 0.0027929627077614705, 0.0, 0.0, 0.0, 0.002018965289706909, 0.007594251770052185, 0.12963280471010785, 0.1449797465899984, 0.0, 0.0, 0.0, 0.0, 0.0, 0.0038621747297206133], [-0.00696075161763926, 0.0, -0.05949770233300658, -0.027704924408429255, -0.0029898011338353736, 0.0, 0.0, 0.0, 0.0, 0.0, 0.0, 0.0, -0.003133095935427044, -0.022632031239679107, 0.0, 0.0, 0.0, 0.0, 0.0, -0.0006190792044750426, 0.0, -0.010497452465854207, -0.07618314173957758, -0.06067846201499458, 0.0, 0.0, 0.0, -0.003249060957517619, -0.0035647073383381356, 0.0], [0.0, 0.0, 0.08732946683540019, 0.15088060905345002, 0.0, 0.0, 0.0, 0.0, 0.0, 0.0, 0.0, 0.0, 0.0, 0.0, 0.0, 0.0, 0.0, 0.0, 0.0, 0.0, 0.002643671867044284, 0.0, 0.12968387865220204, 0.14011521084104103, 0.0, 0.0, 0.0, 0.0, 0.0, 0.004284554991796141], [0.0, 0.020558275449316626, -0.059631751748522754, -0.06856665359455999, 0.0, 0.0, -0.005672053604596827, 0.0, 0.0, 0.0, 0.0, 0.0, 0.0, -0.04125004266451454, 0.0, 0.0, 0.0, 0.0, 0.0, 0.0, 0.0, -0.014246964221591524, -0.0806622671812765, -0.07416312760513197, 0.0, 0.0, -0.004580976412764948, -0.007814658862942692, 0.0, 0.0], [0.0, 0.0, -0.04378865502190585, -0.004508052674085161, 0.0, 0.0, 0.0, 0.0, 0.0, 0.0, -0.003608745023893828, 0.0, 0.0, -0.033473851997598086, 0.0, 0.0, 0.0, 0.0, 0.0, 0.0, 0.0, -0.016241015389450164, -0.08211819312436, -0.16711210040285918, 0.0, 0.0, 0.0, -0.004361486261461545, 0.0, 0.0], [-0.004508746680766285, 0.0, -0.0849655229333593, -0.03323374082482508, 0.0, 0.0, 0.0, 0.0, 0.0, 0.0, 0.0, 0.0, 0.0, -0.026728852083635846, 0.0, 0.0, -0.005020730348724217, 0.0, 0.0, 0.0, 0.0, -0.005960296825367445, -0.10016237930431227, -0.03299928653085016, 0.0, 0.0, -0.010239510587053052, 0.0, 0.0, 0.002107666019136145], [0.014347064315653746, 0.0, 0.08469085265678672, 0.11613178017508954, 0.0, 0.0, 0.0, 0.0, 0.0, 0.0029832597100121205, 0.0, 0.0, 0.0, 0.023236234472752026, 0.002666693755456917, 0.0, 0.0, 0.0, 0.0, 0.0020267196925066178, 0.005596866177929372, 0.0038643786612188036, 0.12039868832278611, 0.09186483440800941, 0.0, 0.0, 0.0, 0.003699960578049194, 0.0033273181184935163, 0.0], [0.0, 0.0, 0.09861187338151067, 0.0965103444642948, 0.0, 0.0, 0.000514750590418056, 0.0, 0.0, 0.0006662440557606009, 0.0, 0.0, 0.0, 0.0919958866752058, 0.0058001731003565205, 0.0, 0.004050173996202722, 0.00983520513135877, 0.0, 0.0, 0.0, 0.014362699799504497, 0.0848441458771953, 0.07173158292282522, 0.0, 0.0, 0.005718444811814161, 0.0, 0.00395456492522922, 0.0], [0.0, 0.0, -0.08592430587934069, -0.07447801680453858, 0.0, 0.0, 0.0, 0.0, 0.0, 0.0, 0.0, 0.0, 0.0, -0.021832656815266582, 0.0, 0.0, 0.0, 0.0, -0.007653228408624119, 0.0, -0.0066587095215194375, 0.0, -0.11689447403212724, -0.021825744680768866, 0.0, 0.0, 0.0, 0.0, 0.0, 0.0], [0.0, 0.0, 0.06240759802350909, 0.1885098907475705, 0.0, 0.0, 0.0, 0.0, 0.0, 0.0, 0.0, 0.0, 0.0, 0.004815472113698649, 0.008256913358022533, 0.0, 0.0, 0.0, 0.0, 0.0, 0.0, 0.0, 0.11853959568234021, 0.20877653830023668, 0.0, 0.0, 0.0, 0.0, 0.0, 0.0], [0.0, 0.007132858853564489, 0.04895427079711921, 0.021774519355808264, 0.0, 0.0009178293584014147, 0.0, 0.0, 0.0, 0.0, 0.0, 0.0, 0.0, 0.0, 0.0, 0.0, 0.0, 0.0, 0.0, 0.0, 0.0, 0.03800907823657175, 0.0650959215309826, 0.12958785040445003, 0.0, 0.0, 0.0, 0.0, 0.0, 0.0], [0.0, 0.014532439527320085, 0.07237927790169921, 0.0873917763832055, 0.0, 0.0, 0.0, 0.0, 0.0, 0.0, 0.0, 0.0, 0.0, 0.0, 0.0, 0.0, 0.0, 0.0, 0.0, 0.0, 0.0, 0.0968274810250111, 0.1369199919011716, 0.11254503039499797, 0.0, 0.0, 0.0, 0.0, 0.014953196074821817, 0.0], [0.0, 0.0, -0.1028326775209553, -0.004151313685119826, 0.0, 0.0, 0.0, 0.0, 0.0, 0.0, 0.0, 0.0, 0.0, -0.022238826674287726, 0.0, 0.0, 0.0, 0.0, 0.0, 0.0, 0.0, 0.0, -0.1067375134685367, -0.04402150184689102, 0.0, 0.0, 0.0, 0.0, 0.0, 0.0], [-0.004031407490614494, 0.0, -0.089310344085851, -0.04496335207936536, -0.0045972504633191025, -0.0027069798411913093, 0.0, 0.0, 0.0, 0.0, 0.0, 0.0, 0.0, -0.016289768128608578, 0.0, 0.0, -0.004157944633891575, 0.0, 0.0, 0.0, -0.007731354786279898, 0.0, -0.10210337073121653, -0.06127978963633554, -0.004342050092076055, 0.0, 0.0, 0.0, 0.0, 0.0], [0.0, 0.0, 0.04884686955165024, 0.09107585400074761, 0.0, 0.00834597130722764, 0.0, 0.0, 0.0, 0.002495595203886397, 0.0, 0.0, 0.00397890699355416, 0.09695669572082483, 0.0025502594839122428, 0.0, 0.0, 0.0018193161787352086, 0.0, 0.0, 0.0, 0.0, 0.11196283625185238, 0.0957884650362758, 0.0, 0.0, 0.0, 0.0, 0.0, 0.0], [0.0, 0.0, -0.049826880614042, -0.051788217032723294, 0.0, 0.0, 0.0, -0.003363413710890051, -0.0028235150077110804, 0.0, 0.0, 0.0, 0.0, -0.014659367221328323, 0.0, 0.0, 0.0, 0.0, 0.0, 0.0, 0.0, -0.01798518890674969, 0.000454410836362773, -0.19424485297025387, -0.004773564848067874, -0.006142195722180707, 0.0, -0.010509206340330313, 0.0, 0.0], [0.0, 0.0, -0.0651082715600999, -0.0722974492590977, 0.0, 0.0, 0.0, 0.0, 0.0, -0.0031091051896028343, -0.0018331125283505278, 0.0, 0.0, -0.03511285167095868, 0.0, 0.0, 0.0, 0.0, 0.0, 0.0, 0.0, 0.0, -0.07180640721231485, -0.11554991233007322, 0.0, 0.0, 0.0, 0.0, 0.0, -0.0017393768499204265], [0.0, 0.0, -0.07358331370880253, 0.0, 0.0, 0.0, 0.0, 0.0, 0.0, 0.0, 0.0, 0.0, 0.0, -0.02901516568408649, 0.0, 0.0, 0.0, 0.0, 0.0, 0.0, 0.0, 0.0, -0.10222637224949918, -0.14898935544721612, 0.0, 0.0, 0.0, 0.0, 0.0, 0.0], [-0.0031196894401895048, 0.0, -0.08888417942056415, -0.023938866884184506, 0.0, 0.0, 0.0, -0.0026283217360767996, 0.0, 0.0, 0.0, 0.0, 0.0, -0.034302439426906195, 0.0, 0.0, 0.0, -0.0027946062268548733, 0.0, 0.0, 0.0, -0.017333839651463345, -0.10588050062103341, -0.02247086161290901, 0.0, 0.0, 0.0, 0.0, 0.0, 0.0], [-0.008140084469845654, 0.0, -0.05323327684537324, -0.077989011725626, 0.0, 0.0, 0.0, 0.0, 0.0, -0.005136931201868172, 0.0, 0.0, 0.0, -0.01564736302854755, 0.0, 0.0, -0.0038983211901507664, 0.0, 0.0, 0.0, 0.0, 0.0, -0.08023207815195263, -0.07670657618824817, 0.0, -0.004351719169749968, 0.0, 0.0, 0.0, -0.004314642902877697], [0.0, 0.0, -0.007201382538161438, -0.1685645456187599, -0.0052514999239252624, 0.0, 0.0, 0.0, 0.0, 0.0, 0.0, 0.0, 0.0, -0.02543260036381953, 0.0, 0.0, 0.0, 0.0, 0.0, 0.0, 0.0, 0.0, -0.06348756239512747, -0.03330151776552781, 0.0, 0.0, 0.0, 0.0, 0.0, 0.0], [0.0, 0.0, -0.015235334146792318, -0.07886366857088573, 0.0, 0.0, 0.0, 0.0, 0.0, 0.0, 0.0, 0.0, 0.0, -0.04073309637135902, 0.0, 0.0, 0.0, 0.0, 0.0, 0.0, 0.0, 0.06471753400684585, -0.0636907669179099, -0.17114028332067222, 0.0, 0.0, -0.007157933911022485, 0.0, 0.0, 0.0], [0.0, 0.0, 0.10472998378687925, 0.12175981860667887, 0.0, 0.0, 0.0, 0.0, 0.0, 0.0, 0.019067475508087683, 0.0, 0.0, 0.09487662594466634, 0.0, 0.0, 0.0, 0.0, 0.0, 0.0, 0.0, 0.0, 0.1357942432332313, 0.11718736831877508, 0.0, 0.0, 0.0, 0.0, 0.0, 0.0], [-0.002557085267459347, 0.0, -0.10375717529547052, -0.0031209419553913653, 0.0, 0.0, -0.005603871584829806, 0.0, 0.0, 0.0, 0.0, 0.0, -0.0038320484072215666, -0.0152775818057303, 0.0, 0.0, 0.0, -0.010549184141880885, -0.004256323045265631, 0.0, -0.0045551610728721825, 3.4074986900806126e-05, -0.13311493629928675, -0.007876763590996927, 0.0, 0.0, -0.0023821629243910847, -0.007041687344672198, 0.0, 0.0], [0.0, 0.0, 0.11434604161237488, 0.14484204351443075, 0.0, 0.0, 0.0, 0.0, 0.0, 0.0, 0.00866947595008749, 0.0, 0.007787783563410033, 0.009348498631460644, 0.0, 0.0008339940245349897, -0.0005625491844211683, 0.0, 0.0027682792083308927, 0.001954785411924287, 0.0, 0.0, 0.1264610206739376, 0.14419511801951768, 0.0, 0.0, 0.012104783577582268, 0.0, 0.0, 0.0], [0.0, 0.0, -0.04360979092908132, 0.05541335414252689, 0.0, 0.0, -0.004756940591246983, 0.0, 0.0, -0.0019253145825721962, 0.0, 0.0, 0.0, -0.07355128435166224, -0.004842635419998159, -0.002186927913206682, 0.0, 0.0, 0.0, 0.0, 0.0, -0.004160079970217945, -0.062116154010873045, -0.10138691656261815, -0.0023830714771778394, 0.0, 0.0, 0.0, 0.0, 0.0], [0.0, 0.0, 0.059995361662918245, 0.1395541411198939, 0.0, 0.0, 0.003599343675842359, 0.0, 0.0, 0.0, 0.0, 0.0, 0.004572071182270598, 0.0, 0.0, 0.004585093577157029, 0.0, 0.0, 0.0, 0.0, 0.0, 0.01863695026166054, 0.08902434016595634, 0.13790954111567233, 0.0, 0.0030948052322139485, 0.0, 0.0, 0.0, 0.0], [0.0, 0.0, 0.0965717947523719, 0.09559469652560323, 0.0033960371614008, 0.0058921531505205516, 0.00212110738818036, 0.0, 0.0, 0.0, 0.0, 0.0, 0.0, 0.06305405098516667, 0.0, 0.0, 0.0, 0.0066188753975115755, 0.0, 0.0, 0.0, 0.005025611815066222, 0.09253692582615297, 0.09300789542182258, 0.0, 0.0, 0.0, 0.0, 0.0, 0.0], [-0.0010154804086481006, -0.002675837661172936, -0.0521359451794525, -0.04851221611184958, 0.0, 0.0, 0.0, 0.0, 0.0, 0.0, 0.0, 0.0, 0.0, -0.025421070506390087, 0.0, 0.0, 0.0, 0.0, -0.0037479584868298638, -0.0022672375436986747, 0.0, -0.012914295165749129, -0.0629088789310209, -0.14502491843277704, 0.0, 0.0, 0.0, 0.0, 0.0, 0.0], [0.0, 0.0, 0.10198916532044214, 0.0863730712794456, 0.0, 0.003467416541633267, 0.0, 0.0, 0.0, 0.0, 0.005514114409662985, 0.0, 0.003786776604619624, 0.04569093692177517, 0.0, 0.006656070091389965, 0.0010952421307424687, 0.0, 0.00501665609160043, 0.0, 0.0, 0.0, 0.10090613166045367, 0.09871561982746602, 0.0, 0.0, 0.0, 0.004907605463342568, 0.0, 0.0], [0.0, 0.0, 0.09479503040041143, 0.10635019026540787, 0.0, 0.007910159008552464, 0.0, -3.234820419240059e-05, 0.0016838910535511564, 0.0, 0.0, 0.0, 0.0, 0.09070967727950116, 0.0, 0.0, 0.0, 0.0, 0.0, 0.0, 0.003745425967424776, 0.0, 0.12353912185862964, 0.09482022016892072, 0.0, 0.00640421951274972, 0.0, 0.0, 0.0, 0.0], [0.0, 0.0, 0.07052172067433059, 0.03632237253873248, 0.0, 0.0, 0.0, 0.0, 0.0, 0.0, 0.0, 0.0, 0.0, 0.015465960549556207, 0.0, 0.0, 0.0, 0.0, 0.0, 0.0, 0.0, -0.02030499598510127, 0.07207873767648593, 0.06773113572900152, 0.0, 0.0, 0.0, 0.0, 0.0, 0.0]], [[0.0, -0.008608453095573704, 0.018742147875277837, -0.05822964379369337, 0.0, 0.0, 0.0, 0.0, 0.0, 0.008191812303200943, 0.0, 0.0, 0.0, 0.060845690066694574, 0.0, 0.0, 0.0, 0.0, -0.00797868430194916, 0.0, 0.0, -0.030106346574079575, -0.10679580372810435, 0.0925182487858058, 0.0, 0.0, 0.0, 0.0, 0.0, 0.0], [0.0, 0.0, 0.05260482603121835, 0.0, 0.0, 0.0, 0.0, 0.0, 0.0, 0.0, 0.0, 0.0, 0.0, 0.017490043615792695, 0.0, 0.0065405119838739395, 0.0, 0.0, 0.0, 0.0, 0.0, -0.04413058373859484, 0.08520197705248364, 0.21733966960322304, 0.0, 0.0, 0.0, 0.0, 0.0, 0.0], [0.0, 0.0, 0.02662171759025539, 0.0, 0.0, 0.0, 0.0, 0.0, 0.0, 0.0, 0.0, 0.0, 0.0, 0.02336025112342295, 0.0, 0.0, 0.0, 0.0, 0.0, 0.0, 0.004206663920263948, 0.019772462493841902, 0.07953833449724575, 0.1794731053095773, 0.0008397540662770375, 0.0, 0.0, 0.0, 0.007069492927560206, 0.0], [0.0, -0.005554656278671258, -0.0436709262079196, -0.16673011785956623, 0.0, 0.0, 0.0, 0.0, 0.0, 0.0, 0.0, 0.0, 0.0, 0.022020243174404763, 0.0, 0.0, 0.0, 0.0, 0.0, 0.0, -0.003627025420696456, 0.0, -0.04883018402554826, -0.2528597308945287, 0.0, 0.0, 0.0, 0.0, 0.0, 0.0], [0.0, 0.0, 0.044816745693116236, -0.08697281370620213, 0.0, 0.0, 0.0, 0.0, 0.0, 0.0, 0.0, 0.0, 0.0, 0.004306207347303565, 0.0, 0.0, 0.0, 0.0, 0.0, 0.0, 0.00319202697559208, 0.013071597538528925, 0.0676134080844413, -0.04810278902733127, 0.0, 0.0, 0.0, 0.0, 0.0029904674430262304, 0.0], [0.0, 0.0, 0.0765659970990199, 0.005321112848588577, 0.0, 0.0, 0.0, 0.0, 0.0, 0.0, 0.0, 0.0, 0.0, 0.031195664408238566, 0.0, 0.0, 0.0, 0.0, 0.0, 0.0, 0.0, 0.00520302557883523, 0.0897829961585225, 0.14682138638032122, 0.0, 0.006041980517482282, 0.0, 0.0, 0.0, 0.0], [0.0, 0.0, 0.065576699696969, 0.0448906861181578, 0.0, 0.0, 0.0, 0.0, 0.0, 0.0, 0.0, 0.0, 0.0, -0.02562911899389518, 0.0, 0.0, 0.0, 0.0, 0.0, 0.0, 0.007039202690713731, -0.010829705237872626, 0.07807258552778693, 0.034716042659223206, 0.0, 0.0, 0.0, 0.0, 0.0, 0.0], [0.0, 0.0, 0.07112988455111477, 0.075433927454616, 0.0, 0.0, 0.0, 0.0, 0.0, 0.0, 0.002794630289190081, 0.0, 0.0, 0.0, 0.0, 0.0, 0.0, 0.0, 0.0, 0.0, 0.00587207888455768, 0.0, 0.09306800552993671, 0.07818182878628072, 0.0, 0.0, 0.00735283789885921, 0.0, 0.0, 0.0], [0.0, 0.0039001972877999447, 0.09269598801428033, 0.0475521621407953, 0.004204007854625047, 0.005420902664021399, 0.0, 0.0, 0.0, 0.012334010244637747, 0.0, 0.0, 0.0, 0.013182985909155398, 0.0, 0.0, 0.0, 0.0, 0.0, 0.0, 0.01306013467539055, 0.0, 0.10636804049182239, 0.030600154943347002, 0.0, 0.0, 0.0, 0.0, 0.0, 0.0], [0.0, 0.0, 0.07367302247904592, 0.04607391731806321, 0.0, 0.0, 0.0, 0.0, 0.0, 0.0, 0.0, 0.0, 0.0, 0.030728339785548675, 0.0, 0.0, 0.0, 0.0, 0.0, 0.003336316162901337, 0.0, 0.010808296004400642, 0.10723214140400478, 0.046476461421865733, 0.0, 0.0, 0.0, 0.00960161879057081, 0.0, 0.0], [0.0, 0.0, -0.04669539383847229, 0.0, 0.0, 0.0, 0.0, 0.0, 0.0, 0.0, 0.0, 0.0, 0.0, -0.20129754959197427, 0.0, 0.0, 0.0, 0.0, 0.0, -0.005598920861948131, 0.0, 0.0, -0.07912051126532094, -0.1685455533583048, 0.0, 0.0, 0.0, 0.0, 0.0, 0.0], [0.0, 0.0, 0.0, 0.23394074731194486, 0.0, 0.0, 0.0, 0.0, 0.0, 0.0, 0.0, 0.0, 0.0, 0.019060340896351766, 0.0, 0.0, 0.0, 0.0, 0.0, 0.0, 0.0, 0.0, 0.05186616077587916, 0.03633277745143304, 0.0, 0.0, 0.0, 0.0, 0.0, 0.0], [0.0, 0.0, 0.10149839016165323, 0.04618520173373755, 0.0, 0.0, 0.0, 0.0, 0.0, 0.0, 0.0, 0.0, 0.0, 0.0, 0.0, 0.0, 0.0, 0.0, 0.0, 0.0, 0.0, 0.0, 0.1352795974471811, 0.013492660067141393, 0.0, 0.0, 0.0, 0.0, 0.0, 0.0], [0.0, 0.0, -0.08221997973297998, -0.08154593729783638, 0.0, 0.0, 0.0, 0.0, 0.0, 0.0, -0.0005841779614214615, 0.0, 0.0, -0.03202333976445404, -0.0008211519708449799, 0.0, 0.0, 0.0, 0.0, -0.004468674942772866, -0.0023743097454488327, -0.0021652555604073642, -0.07781607041111496, -0.09751242515988251, 0.0, 0.0, 0.0, -0.0043375600564316275, -0.00469920268600299, 0.0], [0.0, -0.012734241331362917, -0.048574349010792384, -0.004752757603412622, 0.0, 0.0, 0.0, 0.0, 0.0, 0.0, 0.0, 0.0, 0.0, -0.1527525854621749, -0.0023318865863954374, 0.0, 0.0, 0.0, 0.0, 0.0, 0.0, 0.022245104804993754, -0.06653168511243257, -0.21072361833690728, 0.0, 0.0, -0.004264000857548855, 0.0, 0.0, 0.0], [0.0, 0.0, -0.07343545809686342, -0.1400417051840407, 0.0, 0.0, -0.004370455956777541, 0.0, 0.0, 0.0, 0.0, 0.0, 0.0, -0.026173795821507417, 0.0, 0.0, 0.0, -0.004458800652275441, -0.004361642370749486, 0.0, 0.0, 0.0, -0.12191196022256073, -0.15262509777259883, 0.0, 0.0, -0.005017572819022487, 0.0, 0.0, 0.0], [0.0, 0.0006572823864738897, 0.10624589249854022, 0.0, 0.0, 0.0, 0.0, 0.0, 0.0, 0.0, 0.004500035852121581, 0.0, 0.0, 0.03441085958931615, 0.0, 0.0, 0.0, 0.0, 0.0, 0.0, 0.012131565015566836, 0.002861233509207528, 0.10938177042434863, 0.01894247272304067, 0.0, 0.0, 0.0, 0.00563975807158007, 0.0, 0.0], [-0.002792894766997178, -0.0037398675023025962, -0.0960581883368124, -0.08330423865959213, 0.0, 0.0, 0.0, 0.0, 0.0, 0.0, 0.0, 0.0, 0.0, -0.08807402738424652, 0.0, 0.0, 0.0, 0.0, -0.0038714731249398504, 0.0, 0.0, -0.022090308299166583, -0.09186805408783488, -0.09985636560525646, 0.0, 0.0, 0.0, 0.0, 0.0, 0.0], [0.0, 0.0, -0.09618420645531861, -0.07730667140625169, 0.0, 0.0, 0.0, 0.0, -0.004103581747127466, 0.0, 0.0, 0.0, 0.0, -0.08727814117184254, -0.017180917587992173, -0.005104642992349362, 0.0, 0.0, 0.0, 0.0, 0.0, 0.0, -0.1068272256545787, -0.09384724646416065, 0.0, 0.0, 0.0, 0.0, -0.003677625921249039, 0.0], [0.0, 0.0, -0.09780877664250087, -0.09097520323641384, 0.0031233619064939266, 0.0, 0.0019738858060187603, 0.0, -0.0054994813431703815, 0.0, 0.0, 0.0, 0.0, -0.07353505729005838, 0.0, -0.0039552259445602145, 0.0, 0.0, 0.0, 0.0, 0.0, 0.0, -0.09406320889278502, -0.09925766517522028, 0.0, 0.0, -0.006551875174439642, 0.0, 0.0, -0.0025289889568138046], [0.0, 0.0, 0.0, -0.07656515078984157, 0.0, 0.0, 0.0, 0.0, 0.0, 0.0, 0.0, 0.0, 0.0, -0.0317905232620468, 0.0, 0.0, 0.0, 0.0, 0.0, 0.0, 0.0, 0.0, -0.13692269846513264, -0.21855033085059283, 0.0, 0.0, 0.0, 0.0, 0.0, 0.0], [0.0, 0.0, -0.06466324749787872, -0.06119042640279723, 0.0, 0.0, 0.0, 0.0, 0.0, 0.0, 0.0, 0.0, 0.0, 0.0, 0.0, 0.0, 0.0, 0.0, 0.0, 0.0, 0.0, 0.0, -0.09893697810441232, -0.054908316875667246, -0.0029684147808908268, 0.0, 0.0, 0.0, 0.0, 0.0], [0.0, 0.0, 0.052454611110006294, -0.05779164471332586, 0.0, 0.0, 0.0, 0.0, 0.0, 0.0, 0.0, 0.0, 0.0, 0.007088208170025201, 0.004986151684505613, 0.0, 0.0, 0.0, 0.0, 0.0, 0.0, 0.013629754512627268, 0.07257479473083708, 0.2278445459900586, 0.0, 0.0, 0.0, 0.0, 0.003124424730913178, 0.0], [0.0, 0.0, 0.06328586998103802, 0.0920752742477344, 0.0, 0.0, 0.003743185336574917, 0.0, 0.0, 0.0, 0.0, 0.0, 0.0, 0.041795250439298826, 0.0, 0.0, 0.0, 0.0, 0.0, 0.0, 0.008639182651587196, 0.0010013400339188155, 0.07171001545702627, 0.08090679370684623, 0.0, 0.0, 0.0, 0.0, 0.0, 0.0], [0.0, 0.0, -0.12477289224915708, -0.10061999704367286, 0.0, 0.0, 0.0, 0.0, -0.004948581389408402, -0.009774925141157631, 0.0, 0.0, 0.0, 0.0, 0.0, 0.0, 0.0, 0.0, 0.0, 0.0, 0.0, 0.0, -0.11539066522295441, -0.10704643515036222, 0.0, 0.0, 0.0, -0.0012679762660834926, 0.0, 0.0], [0.0, -0.07702804505312391, 0.07043402449632971, -0.05639035209105318, 0.0, 0.0, 0.0, 0.0, 0.0, 0.00455205003227948, 0.009132642268635395, 0.0, 0.0, 0.03403159512109529, 0.0, 0.0, 0.0, 0.0, 0.0, 0.0, 0.0, 0.007359727171260856, 0.07758992581168596, -0.043804030607089, 0.0, 0.0, 0.0, 0.0, 0.0, 0.0], [0.0, 0.0, 0.07438108858120906, 0.0193940771954359, 0.0, 0.0, 0.006413534867842963, 0.0, 0.0, 0.0, 0.0, 0.0, 0.006239479961986816, 0.022041850400537355, 0.0, 0.0, 0.0, 0.0, 0.0, 0.0, 0.005822188272200712, 0.0035137532511499148, 0.08538624034781048, 0.10636088750494568, 0.0, 0.0, 0.006521109578588202, 0.0034818114681139933, 0.0, 0.0], [0.0, 0.0, 0.0, 0.05938934564045299, 0.0, 0.0, 0.0, 0.0, 0.0, 0.0, 0.0, 0.0, 0.0, 0.028167938632016356, 0.0, 0.0, 0.0, 0.0, 0.0, 0.0, 0.0, -0.031109108948646165, -0.02475709679012895, 0.2816693077628447, 0.0, 0.0, 0.0, 0.0, 0.0, 0.0], [0.0, 0.0, 0.04693679244401491, -0.07998099756154194, 0.007350039329928143, 0.0, 0.0, 0.005931515144455585, 0.0, 0.0, 0.0, 0.0, 0.0, 0.011847708687691375, 0.0, 0.005372974518608853, 0.0, 0.0, 0.002506693026719631, 0.0, 0.0, 0.009004361937882482, 0.07754782218697019, 0.2395449627502013, 0.0, 0.004467240024337793, 0.0, 0.0, 0.0, 0.0], [0.0, 0.0, -0.0905129183011239, -0.09048958118506095, 0.0, 0.0, 0.0, 0.0, 0.0, -0.005225960759810411, 0.0, 0.0, -0.007387685232177199, -0.0992568811221686, 0.0, 0.0, 0.0, -0.007994881472553006, 0.0, 0.0, -0.01770714982683136, -0.012597230581257834, -0.09548781117384508, -0.07427561333607566, 0.0, 0.0, 0.0, 0.0, 0.0, -0.0015681729297243319], [0.0, 0.0, 0.06097423218651188, 0.07172075316954674, 0.0, 0.0, 0.0, 0.0, 0.005989476068462618, 0.0, 0.004266284394979503, 0.0, 0.0, 0.011572642546813186, 0.0005319213907151177, 0.0, 0.0, 0.0, 0.001692858736417363, 0.0, 0.0, 0.009484752065752, 0.08182336193270612, 0.09223915731698626, 0.0, 0.0, 0.0, 0.0, 0.0, 0.0], [-0.004368361209640348, -0.00996208379491409, -0.11978998248449962, -0.10781806962899654, 0.0, 0.0, 0.0, 0.0, 0.0, -0.005203152913850734, -0.0028538160864771678, 0.0, 0.0, -0.10586419373077927, 0.0, 0.0, 0.0, 0.0, -0.004634976265437352, 0.0, 0.0, 0.0, -0.09812043204942031, -0.10414740991128968, 0.0, 0.0, -0.011426741096973725, 0.0, 0.0, 0.0], [0.0, 0.0, 0.04701744417933816, -0.026923788353182765, 0.0, 0.0, 0.0, 0.0, 0.0, 0.0, 0.0, 0.0, 0.0, 0.03569934149729595, 0.0, 0.00788964197776662, 0.0, 0.0, 0.0, 0.0, 0.0, 0.0, 0.03785465104637099, 0.20500377610463083, 0.0, 0.0, 0.0, 0.0, 0.0, 0.0], [-0.0034814818366394884, 0.0, -0.07725774942144203, -0.1375365965164505, 0.0, 0.0, -0.005214807961131662, 0.0, 0.0, 0.0, 0.0, 0.0, 0.0, -0.0320992297916316, 0.0, 0.0, 0.0, 0.0, 0.0, 0.0, 0.0, -0.01637853641235687, -0.12323042205501972, -0.13165775772998872, -0.0012000131319389595, -0.006593987343729069, 0.0, 0.0, 0.0, 0.0], [0.0, 0.0, 0.09068247850663275, 0.035684651992774596, 0.005043736261989784, 0.0, 0.0014906102120591513, 0.0, 0.0, 0.0, 0.0, 0.0, 0.0, 0.02162108577620514, 0.0, 0.0, 0.0, 0.0, 0.0, 0.0, -0.0007046890796069821, 0.0, 0.10940868162640582, 0.023939461890390035, 0.0, 0.0, 0.0, 0.0, 0.0, 0.0], [0.0, 0.0, 0.0, -0.080378068843262, 0.0, 0.0, 0.0, 0.0, 0.0, 0.0, 0.0, 0.0, 0.0, 0.0, 0.0, 0.0, 0.0, 0.0, 0.0, 0.0, 0.0, -0.02244524697392704, -0.0989892333260563, -0.2809255045705422, 0.0, 0.0, 0.0, 0.0, 0.0, 0.0], [0.0, 0.0, 0.055882839209715714, 0.033318843253288086, 0.0, 0.0, 0.0, 0.0, 0.008789003596411549, 0.01095041315536932, 0.0, 0.0, 0.0, 0.04015847032339037, 0.0, 0.0, 0.0, 0.0, 0.0, 0.0, 0.0, 0.0, 0.03999363864267685, 0.15671975964712787, 0.0, 0.0, 0.0, 0.0, 0.0, 0.0], [-0.0015273600845272517, 0.0, -0.10531110505045177, -0.0811004912122345, 0.0, 0.0, 0.0, -0.002614475207506739, 0.0, 0.0, -0.0010426168099100241, 0.0, -0.007999565206665837, -0.09778264961587607, -0.00512647687509582, 0.0, 0.0, 0.0, 0.0, 0.0, 0.0, 0.0, -0.09621682256892161, -0.07655760159527725, 0.0, 0.0, 0.0, 0.0, 0.0, -0.004483736461475152], [0.0, 0.0, 0.0, 0.2065115014929461, 0.0, 0.0, 0.0, 0.0, 0.0, 0.0, 0.0, 0.005695976993822155, 0.0, 0.02511555619385558, 0.0, 0.0, 0.0, 0.0, 0.0, 0.0, 0.0, 0.016439079430297737, 0.04744395440720067, 0.04339882152212185, 0.0, 0.0, 0.0, 0.00778867420256335, 0.0, 0.0], [-0.0021572937572785778, 0.0, -0.040758917351577884, -0.12407446143207829, 0.0, 0.0, 0.0, 0.0, 0.0, 0.0, 0.0, 0.0, 0.0, -0.0929696721635202, 0.0, 0.0, 0.0, 0.0, 0.0, 0.0, -0.003108089578160167, -0.01562134411504057, -0.09519584356968802, -0.1452092424319501, -0.005829176042157269, 0.0, 0.0, 0.0, -0.003357253736308352, 0.0], [0.0, -0.0042476400590493735, -0.05086196026017248, -0.12728049552329712, 0.0, -0.0017439308698342648, 0.0, 0.0, 0.0, -0.007039069727766245, -0.0017413260710198442, -0.00997431149635658, -0.0038037958236996072, -0.09853492176299222, 0.0, 0.0, 0.0, 0.0, 0.0, 0.0, 0.0, -0.04621745958503093, -0.06889241130466806, -0.13515784200734976, -0.002388486996603989, 0.0, 0.0, 0.0, 0.0, 0.0], [0.0, 0.0, 0.0821433473634142, 0.0, 0.0, 0.0, 0.0, 0.0, 0.0, 0.00410983168192508, 0.0022822355045087894, 0.0, 0.0, 0.019786503076963197, 0.0, 0.0, 0.0, 0.0, 0.0, 0.0, 0.0, 0.007078378515604056, 0.09420875662784925, 0.013290806261262472, 0.0, 0.0, 0.0, 0.0, 0.0, 0.009298531022905399], [0.0, 0.0, -0.07583436332128685, -0.13682740937844953, 0.0, 0.0, 0.0, 0.0, 0.0, 0.0, 0.0, 0.0, 0.0, -0.019285405355154883, 0.0, 0.0, -0.005203656591903999, 0.0, -0.0031437870510151733, 0.0, 0.0, -0.017552307270479822, -0.1311876295330582, -0.15445300719014476, 0.0, 0.0, 0.0, 0.0, 0.0, 0.0], [0.004672768536659294, 0.0, 0.0877846078612555, 0.05129035681294855, 0.002005794576943498, 0.0, 0.0, 0.0, 0.0, 0.0, 0.0, 0.0, 0.0036052736869442714, 0.009739062540809279, 0.0, 0.0, 0.0, 0.0, 0.0, 0.001149861744188685, 0.010872278892224335, 0.004913425684068662, 0.10449520501658488, 0.05619031696536475, 0.0, 0.0, 0.0, 0.0023189015312832795, 0.0, 0.0], [0.0, -0.002671453898870413, 0.0, -0.17460323217414714, 0.0, 0.0, -0.006219560778944977, 0.0, 0.0, -0.003403968919464595, 0.0, 0.0, 0.0, 0.0, 0.0, 0.0, 0.0, 0.0, 0.0, 0.0, 0.0, -0.007582164254992252, -0.2463170740223649, -0.12448335096398755, -0.0020844026757922407, 0.0, 0.0, 0.0, 0.0, 0.0], [0.0, 0.0, -0.09784178289553225, -0.09266771046782543, -0.0069555723075352405, 0.0, -0.003617458636871629, 0.0, 0.0, 0.0, 0.0, 0.026305604908537228, -0.002647073437099412, -0.08600740244798533, 0.0, 0.0, 0.0, 0.0, 0.0, 0.0, 0.0, -0.011643712525958583, -0.09349507478494773, -0.08049854093099973, 0.0, 0.0, 0.0, 0.0, -0.0014548510397572045, -0.01329741128319184], [0.0, 0.0, 0.08640779754782088, 0.044962766301267165, 0.0, 0.004407612219616136, 0.0, 0.0, 0.0, 0.006508543405642775, 0.0, 0.0051615699505024315, 0.0, 0.0372492823153773, 0.0, 0.0, 0.0, 0.0, 0.0, 0.0, 0.004168847020693034, 0.000992973961575272, 0.09772837901133744, 0.044138834896755214, 0.0038797486595723574, 0.0, 0.004024796966737243, 0.0, 0.0, 0.0], [0.0, 0.0, 0.03163873227333519, 0.08205581963770547, 0.0, 0.0, 0.0, 0.0, 0.0, 0.0, 0.0, 0.0, 0.0, 0.021829827566230947, 0.0, 0.0, 0.0, 0.0, 0.0, 0.0, 0.0, -0.041819983753501294, 0.08528794824200035, 0.13719736986023956, 0.0, 0.0, 0.0, 0.0, 0.0, 0.0], [0.0, 0.0, 0.0722673459305907, 0.07914690297971969, 0.0, 0.0, 0.0, 0.0, 0.0, 0.002083107875954948, 0.005410907427780026, 0.0, 0.0, 0.004734060472200291, 0.0, 0.0, 0.0, 0.0, 0.0, 0.0, 0.009247144521193768, 0.0, 0.0887608750207354, 0.06716683834696835, 0.0, 0.0, 0.0, 0.0, 0.0, 0.0], [0.0, 0.0, -0.05962008069974656, -0.1051089860530566, 0.0, 0.0, -0.0040949835599239925, 0.0, 0.0, 0.0, 0.0, 0.0, 0.0, -0.005034905976123383, 0.0, 0.0, 0.0, 0.0, 0.0, 0.0, 0.0, -0.029618603733395338, -0.13979966426475235, -0.2576620628316074, 0.0, 0.0, 0.0, 0.0, 0.0, 0.0], [0.0, 0.0, -0.09824292979566465, -0.085198575676673, 0.0, 0.0, 0.0, 0.0, 0.0, 0.0, 0.0, 0.0, -0.016604802543102093, -0.07823502424582099, 0.0, 0.0, 0.0, 0.0, -0.00161597711188613, 0.0, 0.0, -0.007370417515504574, -0.09186583204791526, -0.08988496079518143, 0.0, 0.0, 0.0, 0.0, 0.0, 0.0], [0.0, 0.0, -0.018427915521458116, 0.2897401774068933, 0.0, 0.0, 0.0, 0.0, 0.0, 0.0, 0.0, 0.0, 0.0, 0.04021300978510384, 0.0, 0.0, 0.0, 0.0, 0.0, 0.0, 0.0, -0.011048953154989966, -0.04842364152625596, 0.10101735174526766, 0.0, 0.0, 0.0, 0.0, 0.0, 0.0], [0.0, 0.0, -0.11234367052503863, -0.11614919357081877, 0.0, -0.0019614985340077884, 0.0, 0.0, 0.0, 0.0, -0.00459101832090425, -0.0028807228468127333, 0.0, -0.08714634916802066, 0.0, 0.0, 0.0, 0.0, 0.0, 0.0, -0.004977828768494674, 0.0, -0.11374503884566683, -0.12748710851030043, 0.0, 0.0, 0.0, 0.0, 0.0, 0.0], [0.0, 0.0, 0.08013138093485961, 0.06290022510360506, 0.0, 0.0, 0.007663360743389774, 0.0, 0.0, 0.0, 0.0, 0.0, 0.0, 0.014645454361798371, 0.0, 0.0, 0.0, 0.0, 0.0, 0.0, 0.0, 0.0, 0.09134574151854674, 0.09455383331627742, 0.0, 0.0, 0.0, 0.0, 0.0, 0.0], [0.0, 0.0, 0.06071348756487252, 0.0651024818716115, 0.004075632534042722, 0.0, 0.0, 0.0, 0.0, 0.0, 0.0, 0.0044109780262153175, 0.0, 0.026683606283234546, 0.0003495900011956654, 0.0, 0.0, 0.0, 0.0, 0.0, 0.0, 0.0010296928731370614, 0.08172144982284024, 0.08583880147179612, 0.0, 0.0, 0.004332098338904189, 0.0, 0.0, 0.0], [0.0, 0.0, 0.0760287346131594, 0.02794226266516911, 0.0, 0.0, 0.0, 0.0, 0.0, 0.0024787707570801953, 0.0, 0.0, 0.0, 0.018331653519156, 0.0, 0.0, 0.0025818541074593138, 0.0, 0.0, 0.0, 0.0, 0.006472871393403662, 0.09535430909513173, 0.1179216407861372, 0.00663189224060956, 0.0, 0.0, 0.0, 0.0, 0.0], [0.0, 0.0, 0.0719866462197447, 0.031612334458253386, 0.0, 0.0, 0.0, 0.0, 0.007103229019377433, 0.0, 0.004319877705789454, 0.006945029558046281, 0.0, 0.0, 0.0, 0.0, 0.0, 0.0, 0.0, 0.0, 0.0, -0.030531610754866392, 0.11221551888145466, 0.1112904987922817, 0.0, 0.0, 0.0, 0.0, 0.0, 0.0], [0.0, 0.0, 0.06131517253341694, 0.0636732801904929, 0.0, 0.0, 0.0, 0.0, 0.0, 0.0, 0.0, 0.0, 0.0, 0.0, 0.0, 0.0, 0.0, 0.0, 0.0, 0.0, 0.0, -0.05305503205003874, 0.08395912718519308, 0.07390918749247641, 0.0, 0.0, 0.0, 0.0, 0.0, 0.0], [0.0, 0.0, 0.06100678374362686, 0.08190289602840206, 0.007876686239904729, 0.0, 0.0, 0.0, 0.0, 0.0, 0.0, 0.0, 0.0, 0.050227100779060285, 0.0, 0.0, 0.0, 0.0, 0.0, 0.0, 0.0, -0.025744033866863067, 0.07716740054409124, 0.09046111442124027, 0.0, 0.0, 0.0, 0.0, 0.0, 0.0], [0.0, 0.0, -0.08655703693728956, -0.08483080941349305, 0.0, 0.0, 0.0, 0.0, 0.0, -0.0035618198756571517, 0.0, 0.0, 0.0, -0.1014838480379715, -0.0011983068863065105, -0.003828073878675037, -0.004407681237694888, -0.00242660024139138, 0.0, 0.0, -0.00445501985283292, -0.0021364105032237735, -0.07856491357579076, -0.08569391699668105, 0.0, 0.0, 0.0, 0.0, -0.004676332293627294, 0.0], [0.0, 0.0, -0.022121423746477187, -0.1681685850414819, 0.0, 0.0, 0.0, 0.0, 0.0, -0.004058357580635663, 0.0, 0.0, 0.0, -0.0801772027142218, -0.0010985004154805411, 0.0, 0.0, -0.0014349485950304608, 0.0, 0.0, 0.0, -0.03494733433921443, -0.1021735211300292, -0.21152961993399033, 0.0, 0.0, 0.0, -0.003464265926911403, 0.0, 0.0], [0.0, 0.0, -0.07125317743164039, -0.12275547216907681, 0.0, 0.0, 0.0, 0.0, 0.0, 0.0, 0.0, 0.0, 0.0, -0.11547995802223068, 0.0, -0.007959169755494488, 0.0, 0.0, 0.0, 0.0, 0.0, 0.0, -0.12423501450764385, -0.1360003202305387, 0.0, 0.0, 0.0, 0.0, 0.0, 0.0], [0.0006480814108734134, 0.0, 0.07251112797366291, 0.005885657569658004, 0.0, 0.0016988907989574087, 0.0, 0.0, 0.0, 0.0, 0.004597140759186352, 0.0, 0.0, 0.03305948742705089, 0.0, -0.0004216160495605359, 0.0, 0.0030557923553741206, 0.0, 0.0, 0.0, 0.0, 0.08028721006399098, 0.11393376748629633, 0.0, 0.006317621862211048, 0.0, 0.004864575909849123, 0.0, 0.0], [0.005779784754466957, 0.0, 0.05853003050591263, 0.07157202649722105, 0.0, 0.0, 0.0, 0.0, 0.0, 0.0, 0.0, 0.0, 0.0046329053324726255, 0.019291251502653234, 0.0, 0.0, 0.0, 0.0, 0.0, 0.0, 0.0, 0.0, 0.07619423960674249, 0.11715337448744992, 0.0, 0.0, 0.0, 0.0, 0.0, 0.0], [-0.0022002167263058536, 0.0, -0.0870375380744455, -0.11070906841376066, 0.0, 0.0, 0.0, 0.0, 0.0, 0.0, -0.004982786477637058, 0.0, -0.004341925469575958, -0.07522331597332793, 0.0, 0.0, 0.0, 0.0, 0.0, 0.0, -0.009649769955393822, -0.010268533517254708, -0.11791781559249767, -0.10588497648961936, 0.0, 0.0, 0.0, 0.0, 0.0, 0.0], [0.0, 0.035593893155054575, 0.04997450662871523, -0.01671238383746051, 0.005173708930280066, 0.0, 0.0, 0.0, 0.0, 0.0, 0.0, 0.0, 0.006306016909047923, -0.15807685805788313, 0.0, 0.0, 0.0, 0.0, -0.009603994591626365, 0.0, 0.0, -0.015417823874338123, 0.0658492026897124, 0.044623355246343005, 0.0, 0.0, 0.0, 0.0, 0.005837233457404084, 0.0], [0.0, 0.0, -0.09911878532134552, -0.08113786923826038, 0.0, 0.0, 0.0, 0.0, 0.0, 0.0, 0.0, 0.0, 0.0, -0.07883058246741292, -0.00738762330471085, 0.0, 0.0, 0.0, 0.0, 0.0, -0.004832930318168532, -0.0057319687316221, -0.08841657575787476, -0.08974690625931953, 0.0, -0.00203578498190915, -0.006581743729001166, 0.0, 0.0, 0.0], [-0.005630607255759007, 0.0, -0.08356436223284328, -0.10086897503998343, 0.0, 0.0, -0.0007163472009150129, 0.0, 0.0, 0.0, -0.00789338510347995, 0.0, 0.0, -0.027099958829192416, 0.0, 0.0, 0.0, 0.0, 0.0, -0.001893467825195505, 0.0, -0.02278190178492251, -0.10892888649010174, -0.09785375198512808, -0.003784419931994354, 0.0, 0.0, 0.0, 0.0, -0.008277254912081589], [0.0, 0.0, -0.11951798071469794, -0.09742213185876203, 0.0, 0.0, 0.0, 0.0, -0.009177200574802091, 0.0, 0.0, 0.0, -0.004718454739467748, -0.09979257257196875, 0.0, 0.0, 0.0, 0.0, 0.0, 0.0, -0.005303921654113919, 0.0, -0.11267665387470421, -0.12108765535230981, 0.0, 0.0, 0.0, 0.0, 0.0, 0.0], [0.0, 0.0, 0.10951522602017366, 0.05011052398189422, 0.0, 0.0, 0.00724284408520022, 0.0, 0.0, 0.0, 0.0, 0.0, 0.0, 0.012569307435047583, 0.0, 0.011487730341752267, 0.0, 0.0, 0.0, 0.0, 0.006896206619071629, -0.025215192006221077, 0.1184379197884447, 0.052764150426849676, 0.0, 0.0, 0.0, 0.0, 0.0, 0.0], [0.0, 0.0, 0.008634672072982921, 0.1695151043585082, 0.0, 0.0, 0.0, 0.0, 0.0, 0.0, 0.0, 0.0, 0.0, 0.02968555523626186, 0.0, 0.0, 0.0, 0.0, 0.0, 0.0, 0.0, 0.018668118170250145, 0.0, 0.06615857125666852, 0.0, 0.0, 0.0, 0.0, 0.0, 0.0], [0.0, 0.0, -0.07023060629987005, -0.11552571415076196, 0.0, 0.0, -0.005517987670197344, 0.0, 0.0, -0.005394134374034909, 0.0, 0.0, 0.0, -0.06224034544498486, 0.0, 0.0, -0.006394026839105171, 0.0, 0.0, 0.0, 0.0, -0.014200380237319843, -0.13050943850272861, -0.1283995562000313, 0.0, 0.0, 0.0, 0.0, -0.006244982416331979, 0.0], [0.0, 0.0, 0.06267531960540143, 0.02457389105858271, 0.002866644819006753, 0.0029262833046727055, 0.0, 0.0, 0.0, 0.0, 0.0, 0.0, 0.0, 0.02201360636712657, 0.0, 0.0037002033415353963, 0.0, 0.0, 0.0036962158303778248, 0.0, 0.004122954874585527, 0.012575727501433237, 0.0849208522616064, 0.1288237873711561, 0.0, 0.0, 0.003810352210327106, 0.0, 0.0, 0.0], [0.0, 0.0, 0.0, 0.23321419680595892, 0.0, 0.0, 0.0, 0.0, 0.0, 0.0, 0.0, 0.0, 0.0, 0.01565641303185361, 0.0, 0.0, 0.0, 0.0, 0.0, 0.0, 0.0, -0.04047976013060825, 0.04236778086767143, 0.11528453120260651, 0.0, 0.0, 0.0, 0.0, 0.0, 0.0], [0.0, -0.0024023996752615684, -0.10006403376500253, -0.11649459853495836, -0.0039810715060081825, 0.0, 0.0, 0.0, -0.006553666769043759, 0.0, 0.0, -0.009834868114683648, -0.00041139300494150155, -0.09340093367314606, 0.0, 0.0, 0.0, 0.0, 0.0, 0.0, -0.007415863122268801, 0.0, -0.10904111216440973, -0.11467085600161275, 0.0, 0.0, 0.0, 0.0, 0.0, 0.0], [0.0, 0.0, 0.04934125317667612, 0.04916849762264157, 0.0, 0.0, 0.0, 0.0, 0.0, 0.0, 0.0, 0.0, 0.00911222044561985, 0.027606770099739067, 0.0, 0.0, 0.0, 0.0, 0.0, 0.00825444246258926, 0.0, -0.032811112000969984, 0.07058750859926419, 0.16450570238704978, 0.0, 0.0, 0.0, 0.0, 0.0, 0.0], [0.007877890207076632, 0.0, 0.08216395819915563, 0.03253776913099721, 0.0, 0.0, 0.0, 0.0, 0.0, 0.0, 0.0, 0.0, 0.0, -0.00015376619922624624, 0.0019151169428197612, 0.0, 0.005812951742220629, 0.0, 0.0, 0.0, 0.0022306657504962413, 0.020506215573216496, 0.11697192747125587, 0.04201088448987636, 0.0, 0.0, 0.0, 0.007449817111680024, 0.0, 0.0], [0.0, 0.0, 0.051065956555991554, 0.07831312318425498, 0.0, 0.0, 0.0, 0.0, 0.0, 0.0, 0.0, 0.0, 0.003178850495534291, 0.01766181969861827, -0.0003000523081699291, 0.0, 0.0, 0.0, 0.0, 0.0, 0.0, 0.004712941519504493, 0.07259158902085022, 0.11819416428441287, 0.0, 0.0, 0.0, 0.005210159260632674, 0.0, 0.0], [0.0, 0.0, 0.0640994428551194, 0.07799613301897289, 0.0, 0.0, 0.0, 0.0, 0.0, 0.0, 0.0, 0.0, 0.0, 0.039425166317690497, 0.0, 0.0, 0.0, 0.00516273550216062, 0.0101652302656563, 0.0, 0.0, 0.0, 0.06802144222968509, 0.09608013472181315, 0.0, 0.0, 0.0, 0.0, 0.0, 0.0], [0.0, 0.0, 0.07546872076059873, -0.051285146846006546, 0.0, 0.0, 0.0, 0.0, 0.0, 0.0, 0.008010882901908031, 0.0, 0.0, 0.013791401847986745, 0.0, 0.010352711313010382, 0.0, 0.0, 0.0, 0.0, 0.0, 0.008219222225678446, 0.06793283934424504, 0.01107379069094469, 0.0, 0.0, 0.0, 0.0, 0.0, 0.0], [0.0, 0.0, -0.08083290247318053, -0.11694083709152653, 0.0, 0.0, -0.0019457191813910257, -0.003831480025094869, 0.0, 0.0, 0.0, 0.0, 0.0, -0.028617025578888955, 0.0, 0.0, 0.0, 0.0, -0.0066538582697309445, 0.0, 0.0, -0.01449603262204352, -0.1247067215894504, -0.13390074134338092, -0.009021443908064752, 0.0, 0.0, -0.003234924369196257, 0.0, 0.0], [0.0, -0.004936325398134184, -0.09330271816201535, -0.09504363439948604, -0.017904307765112593, 0.0, -0.006926220880818096, -0.013460585726802143, 0.018686317873708225, -0.007468910923983746, 0.0, 0.0, 0.0, -0.0738795994736541, -0.0074432831272324695, 0.0, -0.0033507564959799896, 0.0, 0.0, 0.0, -0.001297822118162928, -0.011212155762965775, -0.08698679792668812, -0.0752563862392126, 0.0, 0.0, 0.0, 0.0, 0.0, 0.0], [0.0, 0.0, -0.07240488286193217, -0.1267651734347786, 0.0, -0.0050590416040748876, -0.008530332876350688, -0.005034696235728164, 0.0, 0.0, 0.0, 0.0, 0.0, -0.07568664687131893, 0.0, 0.0, -0.0027929627077614705, 0.0, 0.0, 0.0, -0.0020189652897069643, -0.007594251770052074, -0.12963280471010769, -0.1449797465899983, 0.0, 0.0, 0.0, 0.0, 0.0, -0.0038621747297207243], [0.006960751617639344, 0.0, 0.05949770233300658, 0.027704924408429255, 0.002989801133835429, 0.0, 0.0, 0.0, 0.0, 0.0, 0.0, 0.0, 0.003133095935427016, 0.02263203123967915, 0.0, 0.0, 0.0, 0.0, 0.0, 0.0006190792044749871, 0.0, 0.010497452465854151, 0.07618314173957749, 0.06067846201499458, 0.0, 0.0, 0.0, 0.0032490609575176466, 0.0035647073383381356, 0.0], [0.0, 0.0, -0.0873294668354001, -0.1508806090534499, 0.0, 0.0, 0.0, 0.0, 0.0, 0.0, 0.0, 0.0, 0.0, 0.0, 0.0, 0.0, 0.0, 0.0, 0.0, 0.0, -0.0026436718670443393, 0.0, -0.1296838786522022, -0.14011521084104106, 0.0, 0.0, 0.0, 0.0, 0.0, -0.004284554991796141], [0.0, -0.020558275449316654, 0.0596317517485227, 0.06856665359455999, 0.0, 0.0, 0.005672053604596827, 0.0, 0.0, 0.0, 0.0, 0.0, 0.0, 0.0412500426645146, 0.0, 0.0, 0.0, 0.0, 0.0, 0.0, 0.0, 0.014246964221591524, 0.08066226718127648, 0.07416312760513202, 0.0, 0.0, 0.004580976412765059, 0.007814658862942692, 0.0, 0.0], [0.0, 0.0, 0.04378865502190579, 0.004508052674085161, 0.0, 0.0, 0.0, 0.0, 0.0, 0.0, 0.0036087450238937724, 0.0, 0.0, 0.03347385199759795, 0.0, 0.0, 0.0, 0.0, 0.0, 0.0, 0.0, 0.01624101538945022, 0.08211819312436, 0.1671121004028593, 0.0, 0.0, 0.0, 0.004361486261461489, 0.0, 0.0], [0.004508746680766285, 0.0, 0.08496552293335927, 0.03323374082482508, 0.0, 0.0, 0.0, 0.0, 0.0, 0.0, 0.0, 0.0, 0.0, 0.026728852083635846, 0.0, 0.0, 0.005020730348724217, 0.0, 0.0, 0.0, 0.0, 0.005960296825367417, 0.10016237930431227, 0.032999286530850214, 0.0, 0.0, 0.010239510587053052, 0.0, 0.0, -0.002107666019136145], [-0.014347064315653746, 0.0, -0.08469085265678672, -0.11613178017508952, 0.0, 0.0, 0.0, 0.0, 0.0, -0.002983259710012065, 0.0, 0.0, 0.0, -0.023236234472752165, -0.0026666937554568615, 0.0, 0.0, 0.0, 0.0, -0.0020267196925065067, -0.005596866177929316, -0.003864378661218859, -0.12039868832278613, -0.09186483440800955, 0.0, 0.0, 0.0, -0.0036999605780492495, -0.0033273181184935163, 0.0], [0.0, 0.0, -0.09861187338151062, -0.09651034446429474, 0.0, 0.0, -0.000514750590418056, 0.0, 0.0, -0.0006662440557607674, 0.0, 0.0, 0.0, -0.09199588667520575, -0.005800173100356437, 0.0, -0.004050173996202944, -0.00983520513135866, 0.0, 0.0, 0.0, -0.014362699799504552, -0.08484414587719524, -0.07173158292282533, 0.0, 0.0, -0.00571844481181405, 0.0, -0.003954564925228943, 0.0], [0.0, 0.0, 0.08592430587934066, 0.07447801680453862, 0.0, 0.0, 0.0, 0.0, 0.0, 0.0, 0.0, 0.0, 0.0, 0.02183265681526647, 0.0, 0.0, 0.0, 0.0, 0.0076532284086241464, 0.0, 0.006658709521519451, 0.0, 0.11689447403212716, 0.021825744680769144, 0.0, 0.0, 0.0, 0.0, 0.0, 0.0], [0.0, 0.0, -0.06240759802350909, -0.1885098907475705, 0.0, 0.0, 0.0, 0.0, 0.0, 0.0, 0.0, 0.0, 0.0, -0.004815472113698649, -0.00825691335802256, 0.0, 0.0, 0.0, 0.0, 0.0, 0.0, 0.0, -0.11853959568234021, -0.20877653830023668, 0.0, 0.0, 0.0, 0.0, 0.0, 0.0], [0.0, -0.007132858853564399, -0.048954270797119254, -0.02177451935580818, 0.0, -0.000917829358401373, 0.0, 0.0, 0.0, 0.0, 0.0, 0.0, 0.0, 0.0, 0.0, 0.0, 0.0, 0.0, 0.0, 0.0, 0.0, -0.03800907823657173, -0.06509592153098262, -0.12958785040445003, 0.0, 0.0, 0.0, 0.0, 0.0, 0.0], [0.0, -0.014532439527320112, -0.0723792779016994, -0.08739177638320544, 0.0, 0.0, 0.0, 0.0, 0.0, 0.0, 0.0, 0.0, 0.0, 0.0, 0.0, 0.0, 0.0, 0.0, 0.0, 0.0, 0.0, -0.0968274810250111, -0.1369199919011714, -0.11254503039499808, 0.0, 0.0, 0.0, 0.0, -0.014953196074821928, 0.0], [0.0, 0.0, 0.10283267752095535, 0.0041513136851198396, 0.0, 0.0, 0.0, 0.0, 0.0, 0.0, 0.0, 0.0, 0.0, 0.022238826674287754, 0.0, 0.0, 0.0, 0.0, 0.0, 0.0, 0.0, 0.0, 0.10673751346853669, 0.04402150184689099, 0.0, 0.0, 0.0, 0.0, 0.0, 0.0], [0.004031407490614494, 0.0, 0.08931034408585103, 0.04496335207936547, 0.0045972504633191025, 0.002706979841191226, 0.0, 0.0, 0.0, 0.0, 0.0, 0.0, 0.0, 0.016289768128608634, 0.0, 0.0, 0.004157944633891519, 0.0, 0.0, 0.0, 0.007731354786279954, 0.0, 0.10210337073121656, 0.06127978963633557, 0.004342050092076055, 0.0, 0.0, 0.0, 0.0, 0.0], [0.0, 0.0, -0.048846869551650296, -0.09107585400074764, 0.0, -0.008345971307227612, 0.0, 0.0, 0.0, -0.0024955952038863694, 0.0, 0.0, -0.003978906993554132, -0.09695669572082485, -0.002550259483912326, 0.0, 0.0, -0.001819316178735153, 0.0, 0.0, 0.0, 0.0, -0.11196283625185227, -0.09578846503627575, 0.0, 0.0, 0.0, 0.0, 0.0, 0.0], [0.0, 0.0, 0.04982688061404189, 0.05178821703272321, 0.0, 0.0, 0.0, 0.003363413710890023, 0.0028235150077110804, 0.0, 0.0, 0.0, 0.0, 0.014659367221328379, 0.0, 0.0, 0.0, 0.0, 0.0, 0.0, 0.0, 0.017985188906749633, -0.000454410836362773, 0.194244852970254, 0.004773564848067791, 0.0061421957221806794, 0.0, 0.010509206340330313, 0.0, 0.0], [0.0, 0.0, 0.06510827156009993, 0.07229744925909776, 0.0, 0.0, 0.0, 0.0, 0.0, 0.0031091051896028066, 0.0018331125283505, 0.0, 0.0, 0.035112851670958595, 0.0, 0.0, 0.0, 0.0, 0.0, 0.0, 0.0, 0.0, 0.07180640721231477, 0.11554991233007317, 0.0, 0.0, 0.0, 0.0, 0.0, 0.0017393768499205375], [0.0, 0.0, 0.07358331370880251, 0.0, 0.0, 0.0, 0.0, 0.0, 0.0, 0.0, 0.0, 0.0, 0.0, 0.029015165684086477, 0.0, 0.0, 0.0, 0.0, 0.0, 0.0, 0.0, 0.0, 0.10222637224949914, 0.1489893554472161, 0.0, 0.0, 0.0, 0.0, 0.0, 0.0], [0.0031196894401895325, 0.0, 0.08888417942056415, 0.023938866884184534, 0.0, 0.0, 0.0, 0.002628321736076855, 0.0, 0.0, 0.0, 0.0, 0.0, 0.034302439426906195, 0.0, 0.0, 0.0, 0.0027946062268548733, 0.0, 0.0, 0.0, 0.017333839651463318, 0.10588050062103335, 0.022470861612908843, 0.0, 0.0, 0.0, 0.0, 0.0, 0.0], [0.008140084469845627, 0.0, 0.05323327684537327, 0.07798901172562617, 0.0, 0.0, 0.0, 0.0, 0.0, 0.0051369312018682, 0.0, 0.0, 0.0, 0.015647363028547467, 0.0, 0.0, 0.003898321190150683, 0.0, 0.0, 0.0, 0.0, 0.0, 0.08023207815195271, 0.07670657618824817, 0.0, 0.004351719169749968, 0.0, 0.0, 0.0, 0.004314642902877752], [0.0, 0.0, 0.007201382538161452, 0.16856454561875994, 0.005251499923925346, 0.0, 0.0, 0.0, 0.0, 0.0, 0.0, 0.0, 0.0, 0.025432600363819502, 0.0, 0.0, 0.0, 0.0, 0.0, 0.0, 0.0, 0.0, 0.06348756239512743, 0.03330151776552781, 0.0, 0.0, 0.0, 0.0, 0.0, 0.0], [0.0, 0.0, 0.015235334146792331, 0.07886366857088578, 0.0, 0.0, 0.0, 0.0, 0.0, 0.0, 0.0, 0.0, 0.0, 0.040733096371358996, 0.0, 0.0, 0.0, 0.0, 0.0, 0.0, 0.0, -0.06471753400684593, 0.06369076691790994, 0.1711402833206721, 0.0, 0.0, 0.00715793391102254, 0.0, 0.0, 0.0], [0.0, 0.0, -0.10472998378687928, -0.1217598186066789, 0.0, 0.0, 0.0, 0.0, 0.0, 0.0, -0.019067475508087628, 0.0, 0.0, -0.09487662594466628, 0.0, 0.0, 0.0, 0.0, 0.0, 0.0, 0.0, 0.0, -0.13579424323323136, -0.11718736831877502, 0.0, 0.0, 0.0, 0.0, 0.0, 0.0], [0.0025570852674593747, 0.0, 0.10375717529547054, 0.0031209419553913653, 0.0, 0.0, 0.0056038715848297505, 0.0, 0.0, 0.0, 0.0, 0.0, 0.0038320484072217054, 0.0152775818057303, 0.0, 0.0, 0.0, 0.010549184141880913, 0.004256323045265631, 0.0, 0.0045551610728721825, -3.4074986900875515e-05, 0.13311493629928686, 0.007876763590996927, 0.0, 0.0, 0.0023821629243911124, 0.007041687344672032, 0.0, 0.0], [0.0, 0.0, -0.11434604161237488, -0.14484204351443086, 0.0, 0.0, 0.0, 0.0, 0.0, 0.0, -0.008669475950087435, 0.0, -0.0077877835634101444, -0.009348498631460533, 0.0, -0.000833994024534962, 0.0005625491844213348, 0.0, -0.002768279208330726, -0.001954785411924287, 0.0, 0.0, -0.12646102067393777, -0.14419511801951773, 0.0, 0.0, -0.0121047835775826, 0.0, 0.0, 0.0], [0.0, 0.0, 0.04360979092908139, -0.05541335414252689, 0.0, 0.0, 0.004756940591247039, 0.0, 0.0, 0.001925314582572113, 0.0, 0.0, 0.0, 0.07355128435166228, 0.004842635419998173, 0.0021869279132066544, 0.0, 0.0, 0.0, 0.0, 0.0, 0.004160079970217945, 0.06211615401087306, 0.10138691656261807, 0.002383071477177867, 0.0, 0.0, 0.0, 0.0, 0.0], [0.0, 0.0, -0.05999536166291808, -0.139554141119894, 0.0, 0.0, -0.003599343675842359, 0.0, 0.0, 0.0, 0.0, 0.0, -0.004572071182270598, 0.0, 0.0, -0.00458509357715714, 0.0, 0.0, 0.0, 0.0, 0.0, -0.018636950261660623, -0.08902434016595623, -0.13790954111567222, 0.0, -0.003094805232214004, 0.0, 0.0, 0.0, 0.0], [0.0, 0.0, -0.09657179475237189, -0.09559469652560326, -0.0033960371614008555, -0.005892153150520496, -0.0021211073881803044, 0.0, 0.0, 0.0, 0.0, 0.0, 0.0, -0.06305405098516673, 0.0, 0.0, 0.0, -0.006618875397511492, 0.0, 0.0, 0.0, -0.00502561181506625, -0.09253692582615294, -0.09300789542182264, 0.0, 0.0, 0.0, 0.0, 0.0, 0.0], [0.0010154804086480868, 0.0026758376611729084, 0.05213594517945247, 0.0485122161118495, 0.0, 0.0, 0.0, 0.0, 0.0, 0.0, 0.0, 0.0, 0.0, 0.025421070506390114, 0.0, 0.0, 0.0, 0.0, 0.003747958486829836, 0.002267237543698647, 0.0, 0.012914295165749184, 0.06290887893102096, 0.145024918432777, 0.0, 0.0, 0.0, 0.0, 0.0, 0.0], [0.0, 0.0, -0.10198916532044214, -0.08637307127944555, 0.0, -0.0034674165416332114, 0.0, 0.0, 0.0, 0.0, -0.005514114409662985, 0.0, -0.003786776604619624, -0.04569093692177517, 0.0, -0.006656070091390076, -0.001095242130742441, 0.0, -0.00501665609160043, 0.0, 0.0, 0.0, -0.10090613166045379, -0.09871561982746602, 0.0, 0.0, 0.0, -0.004907605463342568, 0.0, 0.0], [0.0, 0.0, -0.09479503040041148, -0.10635019026540776, 0.0, -0.007910159008552409, 0.0, 3.234820419240059e-05, -0.001683891053551101, 0.0, 0.0, 0.0, 0.0, -0.09070967727950102, 0.0, 0.0, 0.0, 0.0, 0.0, 0.0, -0.0037454259674248314, 0.0, -0.1235391218586297, -0.09482022016892078, 0.0, -0.00640421951274972, 0.0, 0.0, 0.0, 0.0], [0.0, 0.0, -0.07052172067433068, -0.03632237253873248, 0.0, 0.0, 0.0, 0.0, 0.0, 0.0, 0.0, 0.0, 0.0, -0.01546596054955629, 0.0, 0.0, 0.0, 0.0, 0.0, 0.0, 0.0, 0.0203049959851013, -0.07207873767648601, -0.06773113572900147, 0.0, 0.0, 0.0, 0.0, 0.0, 0.0]]]"
     ]
    },
    {
     "name": "stdout",
     "output_type": "stream",
     "text": [
      "\n"
     ]
    }
   ],
   "source": [
    "# feature shap values for all features and all data points in the training data\n",
    "print('local importance values: {}'.format(global_explanation.local_importance_values))"
   ]
  },
  {
   "cell_type": "markdown",
   "metadata": {},
   "source": [
    "### Generate local explanations\n",
    "Explain local data points (individual instances)"
   ]
  },
  {
   "cell_type": "code",
   "execution_count": 11,
   "metadata": {},
   "outputs": [
    {
     "name": "stderr",
     "output_type": "stream",
     "text": [
      "C:\\Users\\bezeran\\AppData\\Local\\conda\\conda\\envs\\interp4\\lib\\site-packages\\shap\\explainers\\kernel.py:545: UserWarning: l1_reg=\"auto\" is deprecated and in the next version (v0.29) the behavior will change from a conditional use of AIC to simply \"num_features(10)\"!\n",
      "  \"l1_reg=\\\"auto\\\" is deprecated and in the next version (v0.29) the behavior will change from a \" \\\n",
      "C:\\Users\\bezeran\\AppData\\Local\\conda\\conda\\envs\\interp4\\lib\\site-packages\\shap\\explainers\\kernel.py:545: UserWarning: l1_reg=\"auto\" is deprecated and in the next version (v0.29) the behavior will change from a conditional use of AIC to simply \"num_features(10)\"!\n",
      "  \"l1_reg=\\\"auto\\\" is deprecated and in the next version (v0.29) the behavior will change from a \" \\\n"
     ]
    }
   ],
   "source": [
    "# Note: PFIExplainer does not support local explanations\n",
    "# You can pass a specific data point or a group of data points to the explain_local function\n",
    "\n",
    "# E.g., Explain the first data point in the test set\n",
    "instance_num = 0\n",
    "local_explanation = explainer.explain_local(x_test[instance_num,:])"
   ]
  },
  {
   "cell_type": "code",
   "execution_count": 12,
   "metadata": {},
   "outputs": [
    {
     "name": "stdout",
     "output_type": "stream",
     "text": [
      "local importance values: [0.10576321734429783, 0.074257144909961, 0.018803185157588907, 0.0, 0.0, 0.0, 0.0, 0.0, 0.0, 0.0, 0.0, 0.0, 0.0, 0.0, 0.0, 0.0, 0.0, 0.0, 0.0, 0.0, 0.0, 0.0, 0.0, 0.0, 0.0, -0.008200359656805947, -0.012802773769909515, -0.0393289371248013, -0.0691756799691715, -0.1007368293535805]\n",
      "local importance names: ['worst area', 'area error', 'mean perimeter', 'worst fractal dimension', 'worst symmetry', 'mean texture', 'mean smoothness', 'mean compactness', 'mean concavity', 'mean concave points', 'mean symmetry', 'mean fractal dimension', 'radius error', 'texture error', 'perimeter error', 'smoothness error', 'compactness error', 'concave points error', 'symmetry error', 'fractal dimension error', 'worst radius', 'worst smoothness', 'worst concavity', 'worst concave points', 'mean radius', 'concavity error', 'worst compactness', 'worst texture', 'mean area', 'worst perimeter']\n"
     ]
    }
   ],
   "source": [
    "# Get the prediction for the first member of the test set and explain why model made that prediction\n",
    "prediction_value = clf.predict(x_test)[instance_num]\n",
    "\n",
    "sorted_local_importance_values = local_explanation.get_ranked_local_values()[prediction_value]\n",
    "sorted_local_importance_names = local_explanation.get_ranked_local_names()[prediction_value]\n",
    "\n",
    "print('local importance values: {}'.format(sorted_local_importance_values))\n",
    "print('local importance names: {}'.format(sorted_local_importance_names))"
   ]
  },
  {
   "cell_type": "markdown",
   "metadata": {},
   "source": [
    "## Visualize\n",
    "Load the visualization dashboard"
   ]
  },
  {
   "cell_type": "code",
   "execution_count": 13,
   "metadata": {},
   "outputs": [],
   "source": [
    "from interpret_community.widget import ExplanationDashboard"
   ]
  },
  {
   "cell_type": "code",
   "execution_count": 14,
   "metadata": {},
   "outputs": [
    {
     "data": {
      "application/vnd.jupyter.widget-view+json": {
       "model_id": "7a9417f09431455abe0851ab8dfbcd4b",
       "version_major": 2,
       "version_minor": 0
      },
      "text/plain": [
       "ExplanationWidget(value={'predictedY': [1, 1, 1, 0, 1, 1, 1, 1, 1, 1, 0, 1, 1, 0, 0, 0, 1, 0, 0, 0, 0, 0, 1, 1…"
      ]
     },
     "metadata": {},
     "output_type": "display_data"
    },
    {
     "data": {
      "text/plain": [
       "<interpret_community.widget.ExplanationDashboard.ExplanationDashboard at 0x250c0db2c88>"
      ]
     },
     "execution_count": 14,
     "metadata": {},
     "output_type": "execute_result"
    }
   ],
   "source": [
    "ExplanationDashboard(global_explanation, model, datasetX=x_test)"
   ]
  },
  {
   "cell_type": "markdown",
   "metadata": {},
   "source": [
    "## Next\n",
    "Learn about other use cases of the explain package on a:\n",
    "       \n",
    "1. [Training time: regression problem](./explain-regression-local.ipynb)\n",
    "1. [Training time: multiclass classification problem](./explain-multiclass-classification-local.ipynb)\n",
    "1. Explain models with engineered features:\n",
    "    1. [Simple feature transformations](./simple-feature-transformations-explain-local.ipynb)\n",
    "    1. [Advanced feature transformations](./advanced-feature-transformations-explain-local.ipynb)\n",
    "1. [Save model explanations via Azure Machine Learning Run History](../azure-integration/run-history/save-retrieve-explanations-run-history.ipynb)\n",
    "1. [Run explainers remotely on Azure Machine Learning Compute (AMLCompute)](../azure-integration/remote-explanation/explain-model-on-amlcompute.ipynb)\n",
    "1. Inferencing time: deploy a classification model and explainer:\n",
    "    1. [Deploy a locally-trained model and explainer](../azure-integration/scoring-time/train-explain-model-locally-and-deploy.ipynb)\n",
    "    1. [Deploy a remotely-trained model and explainer](../azure-integration/scoring-time/train-explain-model-on-amlcompute-and-deploy.ipynb)\n"
   ]
  },
  {
   "cell_type": "code",
   "execution_count": null,
   "metadata": {},
   "outputs": [],
   "source": []
  }
 ],
 "metadata": {
  "authors": [
   {
    "name": "mesameki"
   }
  ],
  "kernelspec": {
   "display_name": "Python 3",
   "language": "python",
   "name": "python3"
  },
  "language_info": {
   "codemirror_mode": {
    "name": "ipython",
    "version": 3
   },
   "file_extension": ".py",
   "mimetype": "text/x-python",
   "name": "python",
   "nbconvert_exporter": "python",
   "pygments_lexer": "ipython3",
   "version": "3.6.8"
  }
 },
 "nbformat": 4,
 "nbformat_minor": 2
}
